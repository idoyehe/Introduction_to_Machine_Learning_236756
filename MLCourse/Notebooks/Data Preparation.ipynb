{
 "cells": [
  {
   "cell_type": "markdown",
   "metadata": {},
   "source": [
    "# Data Preparation\n",
    "\n",
    "This notebook use diamonds dataset in order to demonstrate and exercise common data preparation tasks.  \n",
    "The notbook includes:\n",
    "    \n",
    "* [Categorical encoding](#categorical_encoding)\n",
    "* [Numeric discritization](#numeric_discritiation)\n",
    "* [Data sampling](#data_sampling)\n",
    "* [Feature selection](#feature_selection)\n",
    "* [Feature engineering](#feature_engineering)\n",
    "* [Scaling and normalization](#scaling_nirmalization)\n",
    "* [PCA](#pca)\n",
    "\n",
    "---"
   ]
  },
  {
   "cell_type": "markdown",
   "metadata": {},
   "source": [
    "## Load the required packages"
   ]
  },
  {
   "cell_type": "code",
   "execution_count": 4,
   "metadata": {},
   "outputs": [],
   "source": [
    "import numpy as np\n",
    "import pandas as pd\n",
    "import matplotlib.pyplot as plt\n",
    "import seaborn as sns\n",
    "import scipy as sc\n",
    "from sklearn.decomposition import PCA\n",
    "from sklearn.datasets import load_iris\n",
    "from sklearn import metrics\n",
    "from sklearn.feature_selection import SelectKBest\n",
    "from sklearn.feature_selection import mutual_info_regression\n",
    "from sklearn.feature_selection import SelectFromModel\n",
    "from sklearn.svm import LinearSVC\n",
    "from sklearn.feature_selection import RFE\n",
    "from sklearn.linear_model import LogisticRegression\n",
    "from sklearn.preprocessing import PolynomialFeatures\n",
    "from sklearn import preprocessing\n",
    "from sklearn import linear_model"
   ]
  },
  {
   "cell_type": "markdown",
   "metadata": {},
   "source": [
    "## Data Loading\n",
    "\n",
    "Let us load the diamonds dataset"
   ]
  },
  {
   "cell_type": "code",
   "execution_count": 5,
   "metadata": {},
   "outputs": [
    {
     "data": {
      "text/html": [
       "<div>\n",
       "<style scoped>\n",
       "    .dataframe tbody tr th:only-of-type {\n",
       "        vertical-align: middle;\n",
       "    }\n",
       "\n",
       "    .dataframe tbody tr th {\n",
       "        vertical-align: top;\n",
       "    }\n",
       "\n",
       "    .dataframe thead th {\n",
       "        text-align: right;\n",
       "    }\n",
       "</style>\n",
       "<table border=\"1\" class=\"dataframe\">\n",
       "  <thead>\n",
       "    <tr style=\"text-align: right;\">\n",
       "      <th></th>\n",
       "      <th>Vote</th>\n",
       "      <th>Occupation_Satisfaction</th>\n",
       "      <th>Avg_monthly_expense_when_under_age_21</th>\n",
       "      <th>AVG_lottary_expanses</th>\n",
       "      <th>Most_Important_Issue</th>\n",
       "      <th>Avg_monthly_expense_on_pets_or_plants</th>\n",
       "      <th>Looking_at_poles_results</th>\n",
       "      <th>Avg_environmental_importance</th>\n",
       "      <th>Married</th>\n",
       "      <th>Gender</th>\n",
       "      <th>...</th>\n",
       "      <th>Last_school_grades</th>\n",
       "      <th>Age_group</th>\n",
       "      <th>Number_of_differnt_parties_voted_for</th>\n",
       "      <th>Political_interest_Total_Score</th>\n",
       "      <th>Number_of_valued_Kneset_members</th>\n",
       "      <th>Main_transportation</th>\n",
       "      <th>Occupation</th>\n",
       "      <th>Avg_education_importance</th>\n",
       "      <th>Num_of_kids_born_last_10_years</th>\n",
       "      <th>Financial_agenda_matters</th>\n",
       "    </tr>\n",
       "  </thead>\n",
       "  <tbody>\n",
       "    <tr>\n",
       "      <th>0</th>\n",
       "      <td>Khakis</td>\n",
       "      <td>4.0</td>\n",
       "      <td>98.179190</td>\n",
       "      <td>9405.478590</td>\n",
       "      <td>Healthcare</td>\n",
       "      <td>32.726397</td>\n",
       "      <td>Yes</td>\n",
       "      <td>287.397316</td>\n",
       "      <td>Yes</td>\n",
       "      <td>Male</td>\n",
       "      <td>...</td>\n",
       "      <td>80.0</td>\n",
       "      <td>30-45</td>\n",
       "      <td>3.0</td>\n",
       "      <td>458.769092</td>\n",
       "      <td>10.0</td>\n",
       "      <td>Car</td>\n",
       "      <td>Hightech</td>\n",
       "      <td>304.669704</td>\n",
       "      <td>0.0</td>\n",
       "      <td>Yes</td>\n",
       "    </tr>\n",
       "    <tr>\n",
       "      <th>1</th>\n",
       "      <td>Oranges</td>\n",
       "      <td>5.0</td>\n",
       "      <td>514.970665</td>\n",
       "      <td>61270.417540</td>\n",
       "      <td>Military</td>\n",
       "      <td>171.656888</td>\n",
       "      <td>No</td>\n",
       "      <td>356.935385</td>\n",
       "      <td>Yes</td>\n",
       "      <td>Male</td>\n",
       "      <td>...</td>\n",
       "      <td>30.0</td>\n",
       "      <td>Below_30</td>\n",
       "      <td>2.0</td>\n",
       "      <td>672.592678</td>\n",
       "      <td>6.0</td>\n",
       "      <td>Public_or_other</td>\n",
       "      <td>Industry_or_other</td>\n",
       "      <td>392.702317</td>\n",
       "      <td>2.0</td>\n",
       "      <td>No</td>\n",
       "    </tr>\n",
       "    <tr>\n",
       "      <th>2</th>\n",
       "      <td>Purples</td>\n",
       "      <td>5.0</td>\n",
       "      <td>75.743802</td>\n",
       "      <td>9086.370209</td>\n",
       "      <td>Healthcare</td>\n",
       "      <td>25.247934</td>\n",
       "      <td>Yes</td>\n",
       "      <td>359.885691</td>\n",
       "      <td>Yes</td>\n",
       "      <td>Female</td>\n",
       "      <td>...</td>\n",
       "      <td>80.0</td>\n",
       "      <td>30-45</td>\n",
       "      <td>0.0</td>\n",
       "      <td>646.913254</td>\n",
       "      <td>12.0</td>\n",
       "      <td>Foot_or_bicycle</td>\n",
       "      <td>Hightech</td>\n",
       "      <td>464.337160</td>\n",
       "      <td>NaN</td>\n",
       "      <td>No</td>\n",
       "    </tr>\n",
       "    <tr>\n",
       "      <th>3</th>\n",
       "      <td>Turquoises</td>\n",
       "      <td>4.0</td>\n",
       "      <td>266.509671</td>\n",
       "      <td>4703.108703</td>\n",
       "      <td>Healthcare</td>\n",
       "      <td>88.836557</td>\n",
       "      <td>Yes</td>\n",
       "      <td>52.941141</td>\n",
       "      <td>Yes</td>\n",
       "      <td>Male</td>\n",
       "      <td>...</td>\n",
       "      <td>80.0</td>\n",
       "      <td>Below_30</td>\n",
       "      <td>2.0</td>\n",
       "      <td>23.742677</td>\n",
       "      <td>11.0</td>\n",
       "      <td>Foot_or_bicycle</td>\n",
       "      <td>Public_Sector</td>\n",
       "      <td>26.258248</td>\n",
       "      <td>0.0</td>\n",
       "      <td>Yes</td>\n",
       "    </tr>\n",
       "    <tr>\n",
       "      <th>4</th>\n",
       "      <td>Yellows</td>\n",
       "      <td>10.0</td>\n",
       "      <td>1079.479714</td>\n",
       "      <td>95476.465950</td>\n",
       "      <td>Social</td>\n",
       "      <td>359.826571</td>\n",
       "      <td>No</td>\n",
       "      <td>265.340232</td>\n",
       "      <td>Yes</td>\n",
       "      <td>Female</td>\n",
       "      <td>...</td>\n",
       "      <td>70.0</td>\n",
       "      <td>45_and_up</td>\n",
       "      <td>1.0</td>\n",
       "      <td>537.136752</td>\n",
       "      <td>10.0</td>\n",
       "      <td>Foot_or_bicycle</td>\n",
       "      <td>Student_or_Unemployed</td>\n",
       "      <td>387.592828</td>\n",
       "      <td>2.0</td>\n",
       "      <td>No</td>\n",
       "    </tr>\n",
       "    <tr>\n",
       "      <th>5</th>\n",
       "      <td>Khakis</td>\n",
       "      <td>8.0</td>\n",
       "      <td>580.638566</td>\n",
       "      <td>9634.095730</td>\n",
       "      <td>Environment</td>\n",
       "      <td>193.546188</td>\n",
       "      <td>Yes</td>\n",
       "      <td>49.776727</td>\n",
       "      <td>Yes</td>\n",
       "      <td>Male</td>\n",
       "      <td>...</td>\n",
       "      <td>NaN</td>\n",
       "      <td>30-45</td>\n",
       "      <td>1.0</td>\n",
       "      <td>570.501795</td>\n",
       "      <td>14.0</td>\n",
       "      <td>Public_or_other</td>\n",
       "      <td>Services_or_Retail</td>\n",
       "      <td>328.393265</td>\n",
       "      <td>0.0</td>\n",
       "      <td>No</td>\n",
       "    </tr>\n",
       "    <tr>\n",
       "      <th>6</th>\n",
       "      <td>Blues</td>\n",
       "      <td>5.0</td>\n",
       "      <td>1158.972626</td>\n",
       "      <td>76439.712120</td>\n",
       "      <td>Education</td>\n",
       "      <td>386.324209</td>\n",
       "      <td>No</td>\n",
       "      <td>197.864152</td>\n",
       "      <td>Yes</td>\n",
       "      <td>Male</td>\n",
       "      <td>...</td>\n",
       "      <td>100.0</td>\n",
       "      <td>Below_30</td>\n",
       "      <td>3.0</td>\n",
       "      <td>457.698366</td>\n",
       "      <td>14.0</td>\n",
       "      <td>Public_or_other</td>\n",
       "      <td>Hightech</td>\n",
       "      <td>229.621861</td>\n",
       "      <td>1.0</td>\n",
       "      <td>Yes</td>\n",
       "    </tr>\n",
       "    <tr>\n",
       "      <th>7</th>\n",
       "      <td>Khakis</td>\n",
       "      <td>1.0</td>\n",
       "      <td>269.442675</td>\n",
       "      <td>16335.483200</td>\n",
       "      <td>Education</td>\n",
       "      <td>89.814225</td>\n",
       "      <td>Yes</td>\n",
       "      <td>181.880801</td>\n",
       "      <td>Yes</td>\n",
       "      <td>Female</td>\n",
       "      <td>...</td>\n",
       "      <td>100.0</td>\n",
       "      <td>45_and_up</td>\n",
       "      <td>2.0</td>\n",
       "      <td>271.574086</td>\n",
       "      <td>12.0</td>\n",
       "      <td>Car</td>\n",
       "      <td>Public_Sector</td>\n",
       "      <td>10.055256</td>\n",
       "      <td>0.0</td>\n",
       "      <td>No</td>\n",
       "    </tr>\n",
       "    <tr>\n",
       "      <th>8</th>\n",
       "      <td>Whites</td>\n",
       "      <td>10.0</td>\n",
       "      <td>565.572572</td>\n",
       "      <td>53625.303010</td>\n",
       "      <td>Education</td>\n",
       "      <td>188.524191</td>\n",
       "      <td>No</td>\n",
       "      <td>284.447862</td>\n",
       "      <td>Yes</td>\n",
       "      <td>Female</td>\n",
       "      <td>...</td>\n",
       "      <td>100.0</td>\n",
       "      <td>30-45</td>\n",
       "      <td>3.0</td>\n",
       "      <td>562.271817</td>\n",
       "      <td>10.0</td>\n",
       "      <td>Foot_or_bicycle</td>\n",
       "      <td>Industry_or_other</td>\n",
       "      <td>530.876461</td>\n",
       "      <td>0.0</td>\n",
       "      <td>No</td>\n",
       "    </tr>\n",
       "    <tr>\n",
       "      <th>9</th>\n",
       "      <td>Khakis</td>\n",
       "      <td>8.0</td>\n",
       "      <td>985.856240</td>\n",
       "      <td>49312.786470</td>\n",
       "      <td>Environment</td>\n",
       "      <td>328.618747</td>\n",
       "      <td>No</td>\n",
       "      <td>150.060783</td>\n",
       "      <td>Yes</td>\n",
       "      <td>Male</td>\n",
       "      <td>...</td>\n",
       "      <td>90.0</td>\n",
       "      <td>30-45</td>\n",
       "      <td>2.0</td>\n",
       "      <td>585.553386</td>\n",
       "      <td>14.0</td>\n",
       "      <td>Foot_or_bicycle</td>\n",
       "      <td>Student_or_Unemployed</td>\n",
       "      <td>305.829775</td>\n",
       "      <td>0.0</td>\n",
       "      <td>Yes</td>\n",
       "    </tr>\n",
       "  </tbody>\n",
       "</table>\n",
       "<p>10 rows × 38 columns</p>\n",
       "</div>"
      ],
      "text/plain": [
       "         Vote  Occupation_Satisfaction  Avg_monthly_expense_when_under_age_21  \\\n",
       "0      Khakis                      4.0                              98.179190   \n",
       "1     Oranges                      5.0                             514.970665   \n",
       "2     Purples                      5.0                              75.743802   \n",
       "3  Turquoises                      4.0                             266.509671   \n",
       "4     Yellows                     10.0                            1079.479714   \n",
       "5      Khakis                      8.0                             580.638566   \n",
       "6       Blues                      5.0                            1158.972626   \n",
       "7      Khakis                      1.0                             269.442675   \n",
       "8      Whites                     10.0                             565.572572   \n",
       "9      Khakis                      8.0                             985.856240   \n",
       "\n",
       "   AVG_lottary_expanses Most_Important_Issue  \\\n",
       "0           9405.478590           Healthcare   \n",
       "1          61270.417540             Military   \n",
       "2           9086.370209           Healthcare   \n",
       "3           4703.108703           Healthcare   \n",
       "4          95476.465950               Social   \n",
       "5           9634.095730          Environment   \n",
       "6          76439.712120            Education   \n",
       "7          16335.483200            Education   \n",
       "8          53625.303010            Education   \n",
       "9          49312.786470          Environment   \n",
       "\n",
       "   Avg_monthly_expense_on_pets_or_plants Looking_at_poles_results  \\\n",
       "0                              32.726397                      Yes   \n",
       "1                             171.656888                       No   \n",
       "2                              25.247934                      Yes   \n",
       "3                              88.836557                      Yes   \n",
       "4                             359.826571                       No   \n",
       "5                             193.546188                      Yes   \n",
       "6                             386.324209                       No   \n",
       "7                              89.814225                      Yes   \n",
       "8                             188.524191                       No   \n",
       "9                             328.618747                       No   \n",
       "\n",
       "   Avg_environmental_importance Married  Gender  ... Last_school_grades  \\\n",
       "0                    287.397316     Yes    Male  ...               80.0   \n",
       "1                    356.935385     Yes    Male  ...               30.0   \n",
       "2                    359.885691     Yes  Female  ...               80.0   \n",
       "3                     52.941141     Yes    Male  ...               80.0   \n",
       "4                    265.340232     Yes  Female  ...               70.0   \n",
       "5                     49.776727     Yes    Male  ...                NaN   \n",
       "6                    197.864152     Yes    Male  ...              100.0   \n",
       "7                    181.880801     Yes  Female  ...              100.0   \n",
       "8                    284.447862     Yes  Female  ...              100.0   \n",
       "9                    150.060783     Yes    Male  ...               90.0   \n",
       "\n",
       "   Age_group  Number_of_differnt_parties_voted_for  \\\n",
       "0      30-45                                   3.0   \n",
       "1   Below_30                                   2.0   \n",
       "2      30-45                                   0.0   \n",
       "3   Below_30                                   2.0   \n",
       "4  45_and_up                                   1.0   \n",
       "5      30-45                                   1.0   \n",
       "6   Below_30                                   3.0   \n",
       "7  45_and_up                                   2.0   \n",
       "8      30-45                                   3.0   \n",
       "9      30-45                                   2.0   \n",
       "\n",
       "   Political_interest_Total_Score  Number_of_valued_Kneset_members  \\\n",
       "0                      458.769092                             10.0   \n",
       "1                      672.592678                              6.0   \n",
       "2                      646.913254                             12.0   \n",
       "3                       23.742677                             11.0   \n",
       "4                      537.136752                             10.0   \n",
       "5                      570.501795                             14.0   \n",
       "6                      457.698366                             14.0   \n",
       "7                      271.574086                             12.0   \n",
       "8                      562.271817                             10.0   \n",
       "9                      585.553386                             14.0   \n",
       "\n",
       "   Main_transportation             Occupation  Avg_education_importance  \\\n",
       "0                  Car               Hightech                304.669704   \n",
       "1      Public_or_other      Industry_or_other                392.702317   \n",
       "2      Foot_or_bicycle               Hightech                464.337160   \n",
       "3      Foot_or_bicycle          Public_Sector                 26.258248   \n",
       "4      Foot_or_bicycle  Student_or_Unemployed                387.592828   \n",
       "5      Public_or_other     Services_or_Retail                328.393265   \n",
       "6      Public_or_other               Hightech                229.621861   \n",
       "7                  Car          Public_Sector                 10.055256   \n",
       "8      Foot_or_bicycle      Industry_or_other                530.876461   \n",
       "9      Foot_or_bicycle  Student_or_Unemployed                305.829775   \n",
       "\n",
       "   Num_of_kids_born_last_10_years  Financial_agenda_matters  \n",
       "0                             0.0                       Yes  \n",
       "1                             2.0                        No  \n",
       "2                             NaN                        No  \n",
       "3                             0.0                       Yes  \n",
       "4                             2.0                        No  \n",
       "5                             0.0                        No  \n",
       "6                             1.0                       Yes  \n",
       "7                             0.0                        No  \n",
       "8                             0.0                        No  \n",
       "9                             0.0                       Yes  \n",
       "\n",
       "[10 rows x 38 columns]"
      ]
     },
     "execution_count": 5,
     "metadata": {},
     "output_type": "execute_result"
    }
   ],
   "source": [
    "diamonds = pd.read_csv('../Data/diamonds.csv')\n",
    "diamonds.head(10)"
   ]
  },
  {
   "cell_type": "markdown",
   "metadata": {},
   "source": [
    "## Data Cleansing - Handling Outliers"
   ]
  },
  {
   "cell_type": "markdown",
   "metadata": {},
   "source": [
    "Recall that x, y and z contains zero values"
   ]
  },
  {
   "cell_type": "code",
   "execution_count": 4,
   "metadata": {},
   "outputs": [
    {
     "name": "stdout",
     "output_type": "stream",
     "text": [
      "Total number of records with x\\y\\z discrepencies: 20\n"
     ]
    }
   ],
   "source": [
    "print(\"Total number of records with x\\y\\z discrepencies: {}\".format(len(diamonds[(diamonds.x == 0) | (diamonds.y == 0) | (diamonds.z == 0)])))"
   ]
  },
  {
   "cell_type": "markdown",
   "metadata": {},
   "source": [
    "20 data points with zero value in either X, Y or Z."
   ]
  },
  {
   "cell_type": "markdown",
   "metadata": {},
   "source": [
    "First possible way to handle these cases - simply delete the rows (using the dataframe method drop):"
   ]
  },
  {
   "cell_type": "code",
   "execution_count": 12,
   "metadata": {},
   "outputs": [],
   "source": [
    "diamonds = diamonds.drop(diamonds.loc[diamonds.x <= 0].index)\n",
    "diamonds = diamonds.drop(diamonds.loc[diamonds.y <= 0].index)\n",
    "diamonds = diamonds.drop(diamonds.loc[diamonds.z <= 0].index)\n",
    "print(\"Total number of records with x\\y\\z discrepencies: {}\".format(len(diamonds[(diamonds.x == 0) | (diamonds.y == 0) | (diamonds.z == 0)])))"
   ]
  },
  {
   "cell_type": "markdown",
   "metadata": {},
   "source": [
    "Let us re-load the dataset and try a more sofisticated way:"
   ]
  },
  {
   "cell_type": "code",
   "execution_count": 6,
   "metadata": {},
   "outputs": [],
   "source": [
    "diamonds = pd.read_csv('../Data/diamonds.csv')"
   ]
  },
  {
   "cell_type": "markdown",
   "metadata": {},
   "source": [
    "Recall that the diamond's weight (measured in carats) is strongly correlated to its dimensions (X,Y and Z). Let us check the assumption that Carat is linear in X^3."
   ]
  },
  {
   "cell_type": "code",
   "execution_count": 7,
   "metadata": {},
   "outputs": [
    {
     "data": {
      "image/png": "[encoded data removed]",
      "text/plain": [
       "<Figure size 432x288 with 1 Axes>"
      ]
     },
     "metadata": {
      "needs_background": "light"
     },
     "output_type": "display_data"
    }
   ],
   "source": [
    "plt.scatter(np.power(diamonds['x'],3),diamonds['carat'])\n",
    "plt.xlabel('diamonds length (x)')\n",
    "plt.ylabel('diamonds weight [carat]')\n",
    "plt.show()"
   ]
  },
  {
   "cell_type": "markdown",
   "metadata": {},
   "source": [
    "It means that x^3 is linear with respect to the weight (which makes sense). We can use that insight to over-write the zero values. We will fit a linear line that assess X^3 as a function of carat, and use that line to asses X for the points in which X=0."
   ]
  },
  {
   "cell_type": "code",
   "execution_count": 13,
   "metadata": {},
   "outputs": [
    {
     "name": "stdout",
     "output_type": "stream",
     "text": [
      "3.029185791092459e-10\n",
      "[0.33333333]\n"
     ]
    }
   ],
   "source": [
    "regr = linear_model.LinearRegression() #This just define the model\n",
    "regr.fit(diamonds[['carat']],np.power(diamonds['x'],3)) # And this fits it to the specific data points\n",
    "print(regr.intercept_)\n",
    "print(regr.coef_)"
   ]
  },
  {
   "cell_type": "markdown",
   "metadata": {},
   "source": [
    "No we can use the intercept and the coeficient to assess X."
   ]
  },
  {
   "cell_type": "code",
   "execution_count": 9,
   "metadata": {},
   "outputs": [
    {
     "data": {
      "text/plain": [
       "<matplotlib.collections.PathCollection at 0x109e8bbe0>"
      ]
     },
     "execution_count": 9,
     "metadata": {},
     "output_type": "execute_result"
    },
    {
     "data": {
      "image/png": "[encoded data removed]",
      "text/plain": [
       "<matplotlib.figure.Figure at 0x1a0cb0ab00>"
      ]
     },
     "metadata": {},
     "output_type": "display_data"
    }
   ],
   "source": [
    "diamonds.loc[diamonds['x']==0,'x'] = np.power(regr.intercept_ + regr.coef_* diamonds.loc[diamonds['x']==0,'carat'],1/3)\n",
    "plt.scatter(np.power(diamonds['x'],3),diamonds['carat'])"
   ]
  },
  {
   "cell_type": "markdown",
   "metadata": {},
   "source": [
    "## <a name=\"data_sampling\"></a>Data Sampling"
   ]
  },
  {
   "cell_type": "markdown",
   "metadata": {},
   "source": [
    "Sampling by fraction of the rows (dataframes have a built in sampling method):"
   ]
  },
  {
   "cell_type": "code",
   "execution_count": 11,
   "metadata": {},
   "outputs": [
    {
     "name": "stdout",
     "output_type": "stream",
     "text": [
      "(53940, 10)\n",
      "(26970, 10)\n"
     ]
    }
   ],
   "source": [
    "print(diamonds.shape)\n",
    "diamonds_sample = diamonds.sample(frac = 0.5)\n",
    "print(diamonds_sample.shape)"
   ]
  },
  {
   "cell_type": "markdown",
   "metadata": {},
   "source": [
    "Sampling by number of rows:"
   ]
  },
  {
   "cell_type": "code",
   "execution_count": 12,
   "metadata": {},
   "outputs": [
    {
     "name": "stdout",
     "output_type": "stream",
     "text": [
      "(1000, 10)\n"
     ]
    }
   ],
   "source": [
    "diamonds_sample = diamonds.sample(n = 1000)\n",
    "print(diamonds_sample.shape)"
   ]
  },
  {
   "cell_type": "markdown",
   "metadata": {},
   "source": [
    "Sample with replacement:"
   ]
  },
  {
   "cell_type": "code",
   "execution_count": 13,
   "metadata": {},
   "outputs": [
    {
     "name": "stdout",
     "output_type": "stream",
     "text": [
      "(1000, 10)\n"
     ]
    }
   ],
   "source": [
    "diamonds_sample = diamonds.sample(n = 1000, replace = True)\n",
    "print(diamonds_sample.shape)"
   ]
  },
  {
   "cell_type": "markdown",
   "metadata": {},
   "source": [
    "## <a name=\"categorical_encoding\"></a>Categorical Encoding"
   ]
  },
  {
   "cell_type": "markdown",
   "metadata": {},
   "source": [
    "Categorical feature encoding is an important step before starting any numeric based method (e.g. distance calculation, linear regression, etc.). \n",
    "Two simple scenarios: one for nominal attributes and one for ordinal ones. Let us start with ordinal attributes.\n",
    "We have to encode the values such that better feature value has higher numeric value, i.e Ideal = 4 whereas Good = 1. "
   ]
  },
  {
   "cell_type": "code",
   "execution_count": 14,
   "metadata": {},
   "outputs": [
    {
     "data": {
      "text/html": [
       "<div>\n",
       "<style scoped>\n",
       "    .dataframe tbody tr th:only-of-type {\n",
       "        vertical-align: middle;\n",
       "    }\n",
       "\n",
       "    .dataframe tbody tr th {\n",
       "        vertical-align: top;\n",
       "    }\n",
       "\n",
       "    .dataframe thead th {\n",
       "        text-align: right;\n",
       "    }\n",
       "</style>\n",
       "<table border=\"1\" class=\"dataframe\">\n",
       "  <thead>\n",
       "    <tr style=\"text-align: right;\">\n",
       "      <th></th>\n",
       "      <th>carat</th>\n",
       "      <th>cut</th>\n",
       "      <th>color</th>\n",
       "      <th>clarity</th>\n",
       "      <th>depth</th>\n",
       "      <th>table</th>\n",
       "      <th>price</th>\n",
       "      <th>x</th>\n",
       "      <th>y</th>\n",
       "      <th>z</th>\n",
       "    </tr>\n",
       "  </thead>\n",
       "  <tbody>\n",
       "    <tr>\n",
       "      <th>0</th>\n",
       "      <td>0.23</td>\n",
       "      <td>4</td>\n",
       "      <td>5</td>\n",
       "      <td>1</td>\n",
       "      <td>61.5</td>\n",
       "      <td>55.0</td>\n",
       "      <td>326</td>\n",
       "      <td>3.95</td>\n",
       "      <td>3.98</td>\n",
       "      <td>2.43</td>\n",
       "    </tr>\n",
       "    <tr>\n",
       "      <th>1</th>\n",
       "      <td>0.21</td>\n",
       "      <td>3</td>\n",
       "      <td>5</td>\n",
       "      <td>2</td>\n",
       "      <td>59.8</td>\n",
       "      <td>61.0</td>\n",
       "      <td>326</td>\n",
       "      <td>3.89</td>\n",
       "      <td>3.84</td>\n",
       "      <td>2.31</td>\n",
       "    </tr>\n",
       "    <tr>\n",
       "      <th>2</th>\n",
       "      <td>0.23</td>\n",
       "      <td>1</td>\n",
       "      <td>5</td>\n",
       "      <td>4</td>\n",
       "      <td>56.9</td>\n",
       "      <td>65.0</td>\n",
       "      <td>327</td>\n",
       "      <td>4.05</td>\n",
       "      <td>4.07</td>\n",
       "      <td>2.31</td>\n",
       "    </tr>\n",
       "    <tr>\n",
       "      <th>3</th>\n",
       "      <td>0.29</td>\n",
       "      <td>3</td>\n",
       "      <td>1</td>\n",
       "      <td>3</td>\n",
       "      <td>62.4</td>\n",
       "      <td>58.0</td>\n",
       "      <td>334</td>\n",
       "      <td>4.20</td>\n",
       "      <td>4.23</td>\n",
       "      <td>2.63</td>\n",
       "    </tr>\n",
       "    <tr>\n",
       "      <th>4</th>\n",
       "      <td>0.31</td>\n",
       "      <td>1</td>\n",
       "      <td>0</td>\n",
       "      <td>1</td>\n",
       "      <td>63.3</td>\n",
       "      <td>58.0</td>\n",
       "      <td>335</td>\n",
       "      <td>4.34</td>\n",
       "      <td>4.35</td>\n",
       "      <td>2.75</td>\n",
       "    </tr>\n",
       "  </tbody>\n",
       "</table>\n",
       "</div>"
      ],
      "text/plain": [
       "   carat  cut  color  clarity  depth  table  price     x     y     z\n",
       "0   0.23    4      5        1   61.5   55.0    326  3.95  3.98  2.43\n",
       "1   0.21    3      5        2   59.8   61.0    326  3.89  3.84  2.31\n",
       "2   0.23    1      5        4   56.9   65.0    327  4.05  4.07  2.31\n",
       "3   0.29    3      1        3   62.4   58.0    334  4.20  4.23  2.63\n",
       "4   0.31    1      0        1   63.3   58.0    335  4.34  4.35  2.75"
      ]
     },
     "execution_count": 14,
     "metadata": {},
     "output_type": "execute_result"
    }
   ],
   "source": [
    "diamonds_ordinal = diamonds.copy(deep=True)\n",
    "# Create dictionaries for each ordinal attribute:\n",
    "diamond_cut = {'Fair':0,\n",
    "               'Good':1,\n",
    "               'Very Good':2, \n",
    "               'Premium':3,\n",
    "               'Ideal':4}\n",
    "\n",
    "diamond_color = {'J':0,\n",
    "                 'I':1, \n",
    "                 'H':2,\n",
    "                 'G':3,\n",
    "                 'F':4,\n",
    "                 'E':5,\n",
    "                 'D':6}\n",
    "\n",
    "diamond_clarity = {'I1':0,\n",
    "                   'SI2':1,\n",
    "                   'SI1':2,\n",
    "                   'VS2':3,\n",
    "                   'VS1':4,\n",
    "                   'VVS2':5,\n",
    "                   'VVS1':6,\n",
    "                   'IF':7}\n",
    "\n",
    "diamonds_ordinal.cut = diamonds_ordinal.cut.map(diamond_cut);\n",
    "diamonds_ordinal.clarity = diamonds_ordinal.clarity.map(diamond_clarity);\n",
    "diamonds_ordinal.color = diamonds_ordinal.color.map(diamond_color);\n",
    "diamonds_ordinal.head()"
   ]
  },
  {
   "cell_type": "markdown",
   "metadata": {},
   "source": [
    "In most cases, we are not familiar with a specfic ordering or we do not haver the time to build it. In such cases the default method is cold \"dummy\" encoding."
   ]
  },
  {
   "cell_type": "code",
   "execution_count": 15,
   "metadata": {},
   "outputs": [
    {
     "name": "stdout",
     "output_type": "stream",
     "text": [
      "   Fair  Good  Ideal  Premium  Very Good        cut\n",
      "0     0     0      1        0          0      Ideal\n",
      "1     0     0      0        1          0    Premium\n",
      "2     0     1      0        0          0       Good\n",
      "3     0     0      0        1          0    Premium\n",
      "4     0     1      0        0          0       Good\n",
      "5     0     0      0        0          1  Very Good\n",
      "6     0     0      0        0          1  Very Good\n",
      "7     0     0      0        0          1  Very Good\n",
      "8     1     0      0        0          0       Fair\n",
      "9     0     0      0        0          1  Very Good\n"
     ]
    }
   ],
   "source": [
    "cut_dummies = pd.get_dummies(diamonds['cut'].head(10))\n",
    "print(pd.concat([cut_dummies,diamonds['cut'].head(10)],axis=1))"
   ]
  },
  {
   "cell_type": "markdown",
   "metadata": {},
   "source": [
    "Can be run on the entire set of categorial features:"
   ]
  },
  {
   "cell_type": "code",
   "execution_count": 19,
   "metadata": {
    "scrolled": true
   },
   "outputs": [
    {
     "name": "stdout",
     "output_type": "stream",
     "text": [
      "   carat      cut color clarity  depth  table  price     x     y     z\n",
      "0   0.23    Ideal     E     SI2   61.5   55.0    326  3.95  3.98  2.43\n",
      "1   0.21  Premium     E     SI1   59.8   61.0    326  3.89  3.84  2.31\n",
      "2   0.23     Good     E     VS1   56.9   65.0    327  4.05  4.07  2.31\n",
      "3   0.29  Premium     I     VS2   62.4   58.0    334  4.20  4.23  2.63\n",
      "4   0.31     Good     J     SI2   63.3   58.0    335  4.34  4.35  2.75\n",
      "(53940, 27)\n"
     ]
    },
    {
     "data": {
      "text/plain": [
       "(53940, 10)"
      ]
     },
     "execution_count": 19,
     "metadata": {},
     "output_type": "execute_result"
    }
   ],
   "source": [
    "diamonds = pd.read_csv('../Data/diamonds.csv')\n",
    "print(diamonds.head())\n",
    "diamonds_with_dummies = pd.get_dummies(diamonds)\n",
    "diamonds_with_dummies.head()\n",
    "print(diamonds_with_dummies.shape)\n",
    "diamonds.shape"
   ]
  },
  {
   "cell_type": "markdown",
   "metadata": {},
   "source": [
    "## <a name=\"numeric_discritiation\"></a>Numeric Discritization"
   ]
  },
  {
   "cell_type": "markdown",
   "metadata": {},
   "source": [
    "Sometimes we want to transform numeric columns into discrete values. It might be due to specific business definition or in case we want to use methods that are applicable only for discrete data."
   ]
  },
  {
   "cell_type": "markdown",
   "metadata": {},
   "source": [
    "In case that we want to define the discrete bounderies ourselfs."
   ]
  },
  {
   "cell_type": "code",
   "execution_count": 20,
   "metadata": {},
   "outputs": [
    {
     "name": "stdout",
     "output_type": "stream",
     "text": [
      "[0, 100, 1000, 5000, inf]\n",
      "0    326\n",
      "1    326\n",
      "2    327\n",
      "3    334\n",
      "4    335\n",
      "Name: price, dtype: int64\n",
      "[2 2 2 ... 3 3 3]\n"
     ]
    }
   ],
   "source": [
    "cutoffs = [0,100,1000,5000,np.inf]\n",
    "print(cutoffs)\n",
    "print(diamonds['price'].head())\n",
    "discrete_price = np.digitize(diamonds.price, cutoffs, right=True)\n",
    "print(discrete_price)"
   ]
  },
  {
   "cell_type": "markdown",
   "metadata": {},
   "source": [
    "Let us print the mean value of price for each bin:"
   ]
  },
  {
   "cell_type": "code",
   "execution_count": 21,
   "metadata": {},
   "outputs": [
    {
     "name": "stdout",
     "output_type": "stream",
     "text": [
      "[nan, nan, 708.3848801982925, 2623.6137964537284, 9313.451610710888]\n"
     ]
    }
   ],
   "source": [
    "bin_means = [diamonds.loc[discrete_price == i,'price'].mean() for i in range(0, len(cutoffs))]\n",
    "print(bin_means)"
   ]
  },
  {
   "cell_type": "markdown",
   "metadata": {},
   "source": [
    "Discritize based on equal-width"
   ]
  },
  {
   "cell_type": "code",
   "execution_count": 22,
   "metadata": {},
   "outputs": [
    {
     "name": "stdout",
     "output_type": "stream",
     "text": [
      "(307.503, 4025.4]     34663\n",
      "(4025.4, 7724.8]      11271\n",
      "(7724.8, 11424.2]      4109\n",
      "(11424.2, 15123.6]     2308\n",
      "(15123.6, 18823.0]     1589\n",
      "Name: price, dtype: int64\n",
      "0    326\n",
      "1    326\n",
      "2    327\n",
      "3    334\n",
      "4    335\n",
      "Name: price, dtype: int64\n",
      "0    (307.503, 4025.4]\n",
      "1    (307.503, 4025.4]\n",
      "2    (307.503, 4025.4]\n",
      "3    (307.503, 4025.4]\n",
      "4    (307.503, 4025.4]\n",
      "Name: price, dtype: category\n",
      "Categories (5, interval[float64]): [(307.503, 4025.4] < (4025.4, 7724.8] < (7724.8, 11424.2] < (11424.2, 15123.6] < (15123.6, 18823.0]]\n"
     ]
    }
   ],
   "source": [
    "print(pd.cut(diamonds.price, 5).value_counts())\n",
    "print(diamonds.price.head())\n",
    "\n",
    "print(pd.cut(diamonds.price, 5).head())"
   ]
  },
  {
   "cell_type": "markdown",
   "metadata": {},
   "source": [
    "Discritize based on equal-depth (frequency)"
   ]
  },
  {
   "cell_type": "code",
   "execution_count": 23,
   "metadata": {},
   "outputs": [
    {
     "name": "stdout",
     "output_type": "stream",
     "text": [
      "(325.999, 837.0]     10796\n",
      "(1698.0, 3465.0]     10789\n",
      "(6301.2, 18823.0]    10788\n",
      "(837.0, 1698.0]      10784\n",
      "(3465.0, 6301.2]     10783\n",
      "Name: price, dtype: int64\n",
      "0    326\n",
      "1    326\n",
      "2    327\n",
      "3    334\n",
      "4    335\n",
      "Name: price, dtype: int64\n",
      "0    (325.999, 837.0]\n",
      "1    (325.999, 837.0]\n",
      "2    (325.999, 837.0]\n",
      "3    (325.999, 837.0]\n",
      "4    (325.999, 837.0]\n",
      "Name: price, dtype: category\n",
      "Categories (5, interval[float64]): [(325.999, 837.0] < (837.0, 1698.0] < (1698.0, 3465.0] < (3465.0, 6301.2] < (6301.2, 18823.0]]\n"
     ]
    }
   ],
   "source": [
    "print(pd.qcut(diamonds.price, 5).value_counts())\n",
    "print(diamonds.price.head())\n",
    "print(pd.qcut(diamonds.price, 5).head())"
   ]
  },
  {
   "cell_type": "markdown",
   "metadata": {},
   "source": [
    "## <a name=\"feature_selection\"></a>Feature Selection"
   ]
  },
  {
   "cell_type": "markdown",
   "metadata": {},
   "source": [
    "Very naive and simple filter method (just using mutual information):"
   ]
  },
  {
   "cell_type": "code",
   "execution_count": 25,
   "metadata": {},
   "outputs": [
    {
     "name": "stderr",
     "output_type": "stream",
     "text": [
      "/Users/orenrazon/anaconda3/lib/python3.6/site-packages/sklearn/utils/validation.py:475: DataConversionWarning: Data with input dtype int64 was converted to float64 by the scale function.\n",
      "  warnings.warn(msg, DataConversionWarning)\n"
     ]
    },
    {
     "name": "stdout",
     "output_type": "stream",
     "text": [
      "['carat' 'depth' 'table' 'x' 'y' 'z' 'cut_Fair' 'cut_Good' 'cut_Ideal'\n",
      " 'cut_Premium' 'cut_Very Good' 'color_D' 'color_E' 'color_F' 'color_G'\n",
      " 'color_H' 'color_I' 'color_J' 'clarity_I1' 'clarity_IF' 'clarity_SI1'\n",
      " 'clarity_SI2' 'clarity_VS1' 'clarity_VS2' 'clarity_VVS1' 'clarity_VVS2']\n",
      "[0.81601094 0.0244882  0.03054859 0.45916892 0.48116256 0.47629672\n",
      " 0.01626545 0.02358549 0.03884927 0.04845936 0.00988131 0.0549223\n",
      " 0.063591   0.05563705 0.04639778 0.03771249 0.03004598 0.007394\n",
      " 0.00516955 0.00790122 0.06044646 0.05571972 0.05152511 0.04788341\n",
      " 0.00917375 0.01273759]\n",
      "[ 0  3  4  5 12 13 20 21]\n"
     ]
    },
    {
     "data": {
      "text/html": [
       "<div>\n",
       "<style scoped>\n",
       "    .dataframe tbody tr th:only-of-type {\n",
       "        vertical-align: middle;\n",
       "    }\n",
       "\n",
       "    .dataframe tbody tr th {\n",
       "        vertical-align: top;\n",
       "    }\n",
       "\n",
       "    .dataframe thead th {\n",
       "        text-align: right;\n",
       "    }\n",
       "</style>\n",
       "<table border=\"1\" class=\"dataframe\">\n",
       "  <thead>\n",
       "    <tr style=\"text-align: right;\">\n",
       "      <th></th>\n",
       "      <th>carat</th>\n",
       "      <th>x</th>\n",
       "      <th>y</th>\n",
       "      <th>z</th>\n",
       "      <th>color_E</th>\n",
       "      <th>color_F</th>\n",
       "      <th>clarity_SI1</th>\n",
       "      <th>clarity_SI2</th>\n",
       "      <th>price</th>\n",
       "    </tr>\n",
       "  </thead>\n",
       "  <tbody>\n",
       "    <tr>\n",
       "      <th>0</th>\n",
       "      <td>0.23</td>\n",
       "      <td>3.95</td>\n",
       "      <td>3.98</td>\n",
       "      <td>2.43</td>\n",
       "      <td>1</td>\n",
       "      <td>0</td>\n",
       "      <td>0</td>\n",
       "      <td>1</td>\n",
       "      <td>326</td>\n",
       "    </tr>\n",
       "    <tr>\n",
       "      <th>1</th>\n",
       "      <td>0.21</td>\n",
       "      <td>3.89</td>\n",
       "      <td>3.84</td>\n",
       "      <td>2.31</td>\n",
       "      <td>1</td>\n",
       "      <td>0</td>\n",
       "      <td>1</td>\n",
       "      <td>0</td>\n",
       "      <td>326</td>\n",
       "    </tr>\n",
       "    <tr>\n",
       "      <th>2</th>\n",
       "      <td>0.23</td>\n",
       "      <td>4.05</td>\n",
       "      <td>4.07</td>\n",
       "      <td>2.31</td>\n",
       "      <td>1</td>\n",
       "      <td>0</td>\n",
       "      <td>0</td>\n",
       "      <td>0</td>\n",
       "      <td>327</td>\n",
       "    </tr>\n",
       "    <tr>\n",
       "      <th>3</th>\n",
       "      <td>0.29</td>\n",
       "      <td>4.20</td>\n",
       "      <td>4.23</td>\n",
       "      <td>2.63</td>\n",
       "      <td>0</td>\n",
       "      <td>0</td>\n",
       "      <td>0</td>\n",
       "      <td>0</td>\n",
       "      <td>334</td>\n",
       "    </tr>\n",
       "    <tr>\n",
       "      <th>4</th>\n",
       "      <td>0.31</td>\n",
       "      <td>4.34</td>\n",
       "      <td>4.35</td>\n",
       "      <td>2.75</td>\n",
       "      <td>0</td>\n",
       "      <td>0</td>\n",
       "      <td>0</td>\n",
       "      <td>1</td>\n",
       "      <td>335</td>\n",
       "    </tr>\n",
       "  </tbody>\n",
       "</table>\n",
       "</div>"
      ],
      "text/plain": [
       "   carat     x     y     z  color_E  color_F  clarity_SI1  clarity_SI2  price\n",
       "0   0.23  3.95  3.98  2.43        1        0            0            1    326\n",
       "1   0.21  3.89  3.84  2.31        1        0            1            0    326\n",
       "2   0.23  4.05  4.07  2.31        1        0            0            0    327\n",
       "3   0.29  4.20  4.23  2.63        0        0            0            0    334\n",
       "4   0.31  4.34  4.35  2.75        0        0            0            1    335"
      ]
     },
     "execution_count": 25,
     "metadata": {},
     "output_type": "execute_result"
    }
   ],
   "source": [
    "X = diamonds_with_dummies.drop(['price'], axis=1)\n",
    "Y = diamonds_with_dummies['price']\n",
    "\n",
    "test = SelectKBest(score_func=mutual_info_regression, k=8) # can replace mi function to other functions as well\n",
    "fit = test.fit(X.iloc[:5000,],Y.iloc[:5000]) # Using just 5000 points in order to avoin long execution.\n",
    "\n",
    "# summarize scores\n",
    "print(X.columns.values)\n",
    "print(fit.scores_)\n",
    "\n",
    "idxs_selected = fit.get_support(True)\n",
    "print(idxs_selected)\n",
    "best_x = X.iloc[:,idxs_selected]\n",
    "reduced_set = best_x.join(Y)\n",
    "reduced_set.head()\n"
   ]
  },
  {
   "cell_type": "markdown",
   "metadata": {},
   "source": [
    "Discussion: MRMR (how come that both carat, x and y are there?)"
   ]
  },
  {
   "cell_type": "markdown",
   "metadata": {},
   "source": [
    "## <a name=\"feature_engineering\"></a>Feature Engineering"
   ]
  },
  {
   "cell_type": "markdown",
   "metadata": {},
   "source": [
    "Manual feature engineering, is often based on domain knowledge. \n",
    "Here we do an automatic feature engineering (to include interaction and polynomial features)"
   ]
  },
  {
   "cell_type": "code",
   "execution_count": 19,
   "metadata": {},
   "outputs": [
    {
     "name": "stdout",
     "output_type": "stream",
     "text": [
      "Index(['carat', 'depth', 'table', 'price', 'x', 'y', 'z'], dtype='object')\n",
      "[[0 0 0 0 0 0 0]\n",
      " [1 0 0 0 0 0 0]\n",
      " [0 1 0 0 0 0 0]\n",
      " [0 0 1 0 0 0 0]\n",
      " [0 0 0 1 0 0 0]\n",
      " [0 0 0 0 1 0 0]\n",
      " [0 0 0 0 0 1 0]\n",
      " [0 0 0 0 0 0 1]\n",
      " [1 1 0 0 0 0 0]\n",
      " [1 0 1 0 0 0 0]\n",
      " [1 0 0 1 0 0 0]\n",
      " [1 0 0 0 1 0 0]\n",
      " [1 0 0 0 0 1 0]\n",
      " [1 0 0 0 0 0 1]\n",
      " [0 1 1 0 0 0 0]\n",
      " [0 1 0 1 0 0 0]\n",
      " [0 1 0 0 1 0 0]\n",
      " [0 1 0 0 0 1 0]\n",
      " [0 1 0 0 0 0 1]\n",
      " [0 0 1 1 0 0 0]\n",
      " [0 0 1 0 1 0 0]\n",
      " [0 0 1 0 0 1 0]\n",
      " [0 0 1 0 0 0 1]\n",
      " [0 0 0 1 1 0 0]\n",
      " [0 0 0 1 0 1 0]\n",
      " [0 0 0 1 0 0 1]\n",
      " [0 0 0 0 1 1 0]\n",
      " [0 0 0 0 1 0 1]\n",
      " [0 0 0 0 0 1 1]]\n",
      "        carat^1  depth^1  table^1  price^1   x^1   y^1   z^1  carat^1*depth^1  \\\n",
      "0  1.0     0.23     61.5     55.0    326.0  3.95  3.98  2.43           14.145   \n",
      "1  1.0     0.21     59.8     61.0    326.0  3.89  3.84  2.31           12.558   \n",
      "2  1.0     0.23     56.9     65.0    327.0  4.05  4.07  2.31           13.087   \n",
      "3  1.0     0.29     62.4     58.0    334.0  4.20  4.23  2.63           18.096   \n",
      "4  1.0     0.31     63.3     58.0    335.0  4.34  4.35  2.75           19.623   \n",
      "\n",
      "   carat^1*table^1   ...     table^1*price^1  table^1*x^1  table^1*y^1  \\\n",
      "0            12.65   ...             17930.0       217.25       218.90   \n",
      "1            12.81   ...             19886.0       237.29       234.24   \n",
      "2            14.95   ...             21255.0       263.25       264.55   \n",
      "3            16.82   ...             19372.0       243.60       245.34   \n",
      "4            17.98   ...             19430.0       251.72       252.30   \n",
      "\n",
      "   table^1*z^1  price^1*x^1  price^1*y^1  price^1*z^1  x^1*y^1  x^1*z^1  \\\n",
      "0       133.65      1287.70      1297.48       792.18  15.7210   9.5985   \n",
      "1       140.91      1268.14      1251.84       753.06  14.9376   8.9859   \n",
      "2       150.15      1324.35      1330.89       755.37  16.4835   9.3555   \n",
      "3       152.54      1402.80      1412.82       878.42  17.7660  11.0460   \n",
      "4       159.50      1453.90      1457.25       921.25  18.8790  11.9350   \n",
      "\n",
      "   y^1*z^1  \n",
      "0   9.6714  \n",
      "1   8.8704  \n",
      "2   9.4017  \n",
      "3  11.1249  \n",
      "4  11.9625  \n",
      "\n",
      "[5 rows x 29 columns]\n"
     ]
    }
   ],
   "source": [
    "diamonds_numerics = diamonds.select_dtypes(include=[np.number])\n",
    "\n",
    "poly = PolynomialFeatures(interaction_only=True)\n",
    "\n",
    "print(diamonds_numerics.columns)\n",
    "\n",
    "diamonds_poly = poly.fit_transform(diamonds_numerics)\n",
    "print(poly.powers_)\n",
    "target_feature_names = ['*'.join(['{}^{}'.format(pair[0],pair[1]) for pair in tuple if pair[1]!=0]) for tuple in [zip(diamonds_numerics.columns,p) for p in poly.powers_]]\n",
    "\n",
    "diamonds_poly_df = pd.DataFrame(diamonds_poly, index=diamonds.index, columns = target_feature_names)\n",
    "print(diamonds_poly_df.head())"
   ]
  },
  {
   "cell_type": "markdown",
   "metadata": {},
   "source": [
    "## <a name=\"scaling_nirmalization\"></a>Scaling and Normalization"
   ]
  },
  {
   "cell_type": "markdown",
   "metadata": {},
   "source": [
    "Scaling a specific column. The scaling is based on a standartization techniques"
   ]
  },
  {
   "cell_type": "code",
   "execution_count": 20,
   "metadata": {},
   "outputs": [
    {
     "data": {
      "text/plain": [
       "<matplotlib.axes._subplots.AxesSubplot at 0x20b66e59438>"
      ]
     },
     "execution_count": 20,
     "metadata": {},
     "output_type": "execute_result"
    },
    {
     "data": {
      "image/png": "[encoded data removed]",
      "text/plain": [
       "<matplotlib.figure.Figure at 0x20b66ddef28>"
      ]
     },
     "metadata": {},
     "output_type": "display_data"
    }
   ],
   "source": [
    "scaled_x = preprocessing.scale(diamonds[['x']])\n",
    "\n",
    "f, ax = plt.subplots(2)\n",
    "sns.distplot(diamonds.x, label=\"X\", ax=ax[0])\n",
    "sns.distplot(scaled_x, label=\"Scaled X\", ax=ax[1])"
   ]
  },
  {
   "cell_type": "markdown",
   "metadata": {},
   "source": [
    "The problem with the previous scaling was that we cannot apply the same scaling to new samples (the classic case of training and only later testing). Let's try a different method. "
   ]
  },
  {
   "cell_type": "code",
   "execution_count": 21,
   "metadata": {},
   "outputs": [
    {
     "name": "stdout",
     "output_type": "stream",
     "text": [
      "scaling use [5.73115721] as mean and [1.25832384] as std\n"
     ]
    },
    {
     "data": {
      "text/plain": [
       "<matplotlib.axes._subplots.AxesSubplot at 0x20b67d68630>"
      ]
     },
     "execution_count": 21,
     "metadata": {},
     "output_type": "execute_result"
    },
    {
     "data": {
      "image/png": "[encoded data removed]",
      "text/plain": [
       "<matplotlib.figure.Figure at 0x20b66eacb38>"
      ]
     },
     "metadata": {},
     "output_type": "display_data"
    }
   ],
   "source": [
    "std_scale = preprocessing.StandardScaler()\n",
    "std_scale.fit(diamonds[['x']])\n",
    "print(\"scaling use {} as mean and {} as std\".format(std_scale.mean_, std_scale.var_))\n",
    "\n",
    "scaled_x = std_scale.transform(diamonds[['x']])\n",
    "\n",
    "\n",
    "f, ax = plt.subplots(2)\n",
    "sns.distplot(diamonds.x, label=\"X\", ax=ax[0])\n",
    "sns.distplot(scaled_x, label=\"Scaled X\", ax=ax[1])"
   ]
  },
  {
   "cell_type": "markdown",
   "metadata": {},
   "source": [
    "Now let's do the same this time with a min-max scaling technique."
   ]
  },
  {
   "cell_type": "code",
   "execution_count": 23,
   "metadata": {},
   "outputs": [
    {
     "name": "stdout",
     "output_type": "stream",
     "text": [
      "scaling use [10.74] as max and [0.] as min\n"
     ]
    },
    {
     "data": {
      "text/plain": [
       "<matplotlib.axes._subplots.AxesSubplot at 0x20b67647ac8>"
      ]
     },
     "execution_count": 23,
     "metadata": {},
     "output_type": "execute_result"
    },
    {
     "data": {
      "image/png": "[encoded data removed]",
      "text/plain": [
       "<matplotlib.figure.Figure at 0x20b67aa2208>"
      ]
     },
     "metadata": {},
     "output_type": "display_data"
    }
   ],
   "source": [
    "minmax_scale = preprocessing.MinMaxScaler(feature_range=(3.9, 14.81)).fit(diamonds[['x']])\n",
    "print(\"scaling use {} as max and {} as min\".format(minmax_scale.data_max_, minmax_scale.data_min_))\n",
    "\n",
    "scaled_x = minmax_scale.transform(diamonds[['x']])\n",
    "\n",
    "#to do plots\n",
    "f, ax = plt.subplots(2)\n",
    "sns.distplot(diamonds.x, label=\"X\", ax=ax[0])\n",
    "sns.distplot(scaled_x, label=\"Scaled X\", ax=ax[1])"
   ]
  },
  {
   "cell_type": "markdown",
   "metadata": {},
   "source": [
    "Both scaling methods are linear. Log transform actually changes the distribution of the data."
   ]
  },
  {
   "cell_type": "code",
   "execution_count": 24,
   "metadata": {},
   "outputs": [],
   "source": [
    "carat_log_scale = np.log(diamonds.carat)"
   ]
  },
  {
   "cell_type": "code",
   "execution_count": 25,
   "metadata": {},
   "outputs": [
    {
     "data": {
      "text/plain": [
       "<matplotlib.axes._subplots.AxesSubplot at 0x20b68642208>"
      ]
     },
     "execution_count": 25,
     "metadata": {},
     "output_type": "execute_result"
    },
    {
     "data": {
      "image/png": "[encoded data removed]",
      "text/plain": [
       "<matplotlib.figure.Figure at 0x20b675e2f98>"
      ]
     },
     "metadata": {},
     "output_type": "display_data"
    }
   ],
   "source": [
    "carat_log_scale = np.log(diamonds.carat)\n",
    "f, ax = plt.subplots(2)\n",
    "sns.distplot(diamonds.carat, label=\"X\", ax=ax[0])\n",
    "sns.distplot(carat_log_scale, label=\"Scaled X\", ax=ax[1])"
   ]
  },
  {
   "cell_type": "markdown",
   "metadata": {},
   "source": [
    "## <a name=\"pca\"></a>PCA"
   ]
  },
  {
   "cell_type": "markdown",
   "metadata": {},
   "source": [
    "Perform a full pca transformation and analyzed the explained variance per pc."
   ]
  },
  {
   "cell_type": "code",
   "execution_count": 27,
   "metadata": {},
   "outputs": [
    {
     "name": "stdout",
     "output_type": "stream",
     "text": [
      "[0.99999951 0.99999984 0.99999995 1.         1.         1.\n",
      " 1.        ]\n"
     ]
    },
    {
     "data": {
      "text/plain": [
       "(0.9999995144146524, 1.0)"
      ]
     },
     "execution_count": 27,
     "metadata": {},
     "output_type": "execute_result"
    },
    {
     "data": {
      "image/png": "[encoded data removed]",
      "text/plain": [
       "<matplotlib.figure.Figure at 0x10b689b38>"
      ]
     },
     "metadata": {},
     "output_type": "display_data"
    }
   ],
   "source": [
    "diamonds_numerics = diamonds.select_dtypes(include=[np.number])\n",
    "\n",
    "pca = PCA(n_components=diamonds_numerics.shape[1])\n",
    "principalComponents = pca.fit(diamonds_numerics)\n",
    "print(np.cumsum(pca.explained_variance_ratio_))\n",
    "\n",
    "plt.plot(np.cumsum(pca.explained_variance_ratio_));\n",
    "plt.xlabel(\"number of component\")\n",
    "plt.ylabel(\"cummulative explained variance\")\n",
    "plt.ylim(pca.explained_variance_ratio_[0],1.)"
   ]
  }
 ],
 "metadata": {
  "kernelspec": {
   "display_name": "Python 3",
   "language": "python",
   "name": "python3"
  },
  "language_info": {
   "codemirror_mode": {
    "name": "ipython",
    "version": 3
   },
   "file_extension": ".py",
   "mimetype": "text/x-python",
   "name": "python",
   "nbconvert_exporter": "python",
   "pygments_lexer": "ipython3",
   "version": "3.7.2"
  }
 },
 "nbformat": 4,
 "nbformat_minor": 2
}
