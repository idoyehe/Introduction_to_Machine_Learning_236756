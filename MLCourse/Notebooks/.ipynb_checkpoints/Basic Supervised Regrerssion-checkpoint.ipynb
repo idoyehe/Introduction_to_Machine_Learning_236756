{
 "cells": [
  {
   "cell_type": "markdown",
   "metadata": {},
   "source": [
    "# Basic Supervised Learning - Regression\n",
    "\n",
    "This notebook practice basic regression algorithms and common evaluation techniques and metrics.  \n",
    "The practice will be based on the *diamonds* dataset. The target variable is the diamond price.  \n",
    "The notebook includes: \n",
    "\n",
    "* [Linear regression](#linear_regression)\n",
    "    * [Univariante linear regression](#univariante_linear_regression)\n",
    "    * [Multi variante linear regression](#multi_variante_linear_regression)\n",
    "* [Regression trees](#regression_tree)"
   ]
  },
  {
   "cell_type": "code",
   "execution_count": 11,
   "metadata": {},
   "outputs": [],
   "source": [
    "import numpy as np\n",
    "import pandas as pd\n",
    "import matplotlib.pyplot as plt\n",
    "import seaborn as sns\n",
    "import scipy as sc"
   ]
  },
  {
   "cell_type": "code",
   "execution_count": 12,
   "metadata": {},
   "outputs": [
    {
     "data": {
      "text/html": [
       "<div>\n",
       "<style scoped>\n",
       "    .dataframe tbody tr th:only-of-type {\n",
       "        vertical-align: middle;\n",
       "    }\n",
       "\n",
       "    .dataframe tbody tr th {\n",
       "        vertical-align: top;\n",
       "    }\n",
       "\n",
       "    .dataframe thead th {\n",
       "        text-align: right;\n",
       "    }\n",
       "</style>\n",
       "<table border=\"1\" class=\"dataframe\">\n",
       "  <thead>\n",
       "    <tr style=\"text-align: right;\">\n",
       "      <th></th>\n",
       "      <th>carat</th>\n",
       "      <th>cut</th>\n",
       "      <th>color</th>\n",
       "      <th>clarity</th>\n",
       "      <th>depth</th>\n",
       "      <th>table</th>\n",
       "      <th>price</th>\n",
       "      <th>x</th>\n",
       "      <th>y</th>\n",
       "      <th>z</th>\n",
       "    </tr>\n",
       "  </thead>\n",
       "  <tbody>\n",
       "    <tr>\n",
       "      <th>0</th>\n",
       "      <td>0.23</td>\n",
       "      <td>Ideal</td>\n",
       "      <td>E</td>\n",
       "      <td>SI2</td>\n",
       "      <td>61.5</td>\n",
       "      <td>55.0</td>\n",
       "      <td>326</td>\n",
       "      <td>3.95</td>\n",
       "      <td>3.98</td>\n",
       "      <td>2.43</td>\n",
       "    </tr>\n",
       "    <tr>\n",
       "      <th>1</th>\n",
       "      <td>0.21</td>\n",
       "      <td>Premium</td>\n",
       "      <td>E</td>\n",
       "      <td>SI1</td>\n",
       "      <td>59.8</td>\n",
       "      <td>61.0</td>\n",
       "      <td>326</td>\n",
       "      <td>3.89</td>\n",
       "      <td>3.84</td>\n",
       "      <td>2.31</td>\n",
       "    </tr>\n",
       "    <tr>\n",
       "      <th>2</th>\n",
       "      <td>0.23</td>\n",
       "      <td>Good</td>\n",
       "      <td>E</td>\n",
       "      <td>VS1</td>\n",
       "      <td>56.9</td>\n",
       "      <td>65.0</td>\n",
       "      <td>327</td>\n",
       "      <td>4.05</td>\n",
       "      <td>4.07</td>\n",
       "      <td>2.31</td>\n",
       "    </tr>\n",
       "    <tr>\n",
       "      <th>3</th>\n",
       "      <td>0.29</td>\n",
       "      <td>Premium</td>\n",
       "      <td>I</td>\n",
       "      <td>VS2</td>\n",
       "      <td>62.4</td>\n",
       "      <td>58.0</td>\n",
       "      <td>334</td>\n",
       "      <td>4.20</td>\n",
       "      <td>4.23</td>\n",
       "      <td>2.63</td>\n",
       "    </tr>\n",
       "    <tr>\n",
       "      <th>4</th>\n",
       "      <td>0.31</td>\n",
       "      <td>Good</td>\n",
       "      <td>J</td>\n",
       "      <td>SI2</td>\n",
       "      <td>63.3</td>\n",
       "      <td>58.0</td>\n",
       "      <td>335</td>\n",
       "      <td>4.34</td>\n",
       "      <td>4.35</td>\n",
       "      <td>2.75</td>\n",
       "    </tr>\n",
       "    <tr>\n",
       "      <th>5</th>\n",
       "      <td>0.24</td>\n",
       "      <td>Very Good</td>\n",
       "      <td>J</td>\n",
       "      <td>VVS2</td>\n",
       "      <td>62.8</td>\n",
       "      <td>57.0</td>\n",
       "      <td>336</td>\n",
       "      <td>3.94</td>\n",
       "      <td>3.96</td>\n",
       "      <td>2.48</td>\n",
       "    </tr>\n",
       "    <tr>\n",
       "      <th>6</th>\n",
       "      <td>0.24</td>\n",
       "      <td>Very Good</td>\n",
       "      <td>I</td>\n",
       "      <td>VVS1</td>\n",
       "      <td>62.3</td>\n",
       "      <td>57.0</td>\n",
       "      <td>336</td>\n",
       "      <td>3.95</td>\n",
       "      <td>3.98</td>\n",
       "      <td>2.47</td>\n",
       "    </tr>\n",
       "    <tr>\n",
       "      <th>7</th>\n",
       "      <td>0.26</td>\n",
       "      <td>Very Good</td>\n",
       "      <td>H</td>\n",
       "      <td>SI1</td>\n",
       "      <td>61.9</td>\n",
       "      <td>55.0</td>\n",
       "      <td>337</td>\n",
       "      <td>4.07</td>\n",
       "      <td>4.11</td>\n",
       "      <td>2.53</td>\n",
       "    </tr>\n",
       "    <tr>\n",
       "      <th>8</th>\n",
       "      <td>0.22</td>\n",
       "      <td>Fair</td>\n",
       "      <td>E</td>\n",
       "      <td>VS2</td>\n",
       "      <td>65.1</td>\n",
       "      <td>61.0</td>\n",
       "      <td>337</td>\n",
       "      <td>3.87</td>\n",
       "      <td>3.78</td>\n",
       "      <td>2.49</td>\n",
       "    </tr>\n",
       "    <tr>\n",
       "      <th>9</th>\n",
       "      <td>0.23</td>\n",
       "      <td>Very Good</td>\n",
       "      <td>H</td>\n",
       "      <td>VS1</td>\n",
       "      <td>59.4</td>\n",
       "      <td>61.0</td>\n",
       "      <td>338</td>\n",
       "      <td>4.00</td>\n",
       "      <td>4.05</td>\n",
       "      <td>2.39</td>\n",
       "    </tr>\n",
       "  </tbody>\n",
       "</table>\n",
       "</div>"
      ],
      "text/plain": [
       "   carat        cut color clarity  depth  table  price     x     y     z\n",
       "0   0.23      Ideal     E     SI2   61.5   55.0    326  3.95  3.98  2.43\n",
       "1   0.21    Premium     E     SI1   59.8   61.0    326  3.89  3.84  2.31\n",
       "2   0.23       Good     E     VS1   56.9   65.0    327  4.05  4.07  2.31\n",
       "3   0.29    Premium     I     VS2   62.4   58.0    334  4.20  4.23  2.63\n",
       "4   0.31       Good     J     SI2   63.3   58.0    335  4.34  4.35  2.75\n",
       "5   0.24  Very Good     J    VVS2   62.8   57.0    336  3.94  3.96  2.48\n",
       "6   0.24  Very Good     I    VVS1   62.3   57.0    336  3.95  3.98  2.47\n",
       "7   0.26  Very Good     H     SI1   61.9   55.0    337  4.07  4.11  2.53\n",
       "8   0.22       Fair     E     VS2   65.1   61.0    337  3.87  3.78  2.49\n",
       "9   0.23  Very Good     H     VS1   59.4   61.0    338  4.00  4.05  2.39"
      ]
     },
     "execution_count": 12,
     "metadata": {},
     "output_type": "execute_result"
    }
   ],
   "source": [
    "diamonds = pd.read_csv('../Data/diamonds.csv')\n",
    "diamonds.head(10)"
   ]
  },
  {
   "cell_type": "markdown",
   "metadata": {},
   "source": [
    "## <a name=\"linear_regression\"></a>Linear Regression"
   ]
  },
  {
   "cell_type": "markdown",
   "metadata": {},
   "source": [
    "### <a name=\"univariante_linear_regression\"></a>Univariante Linear Regression\n",
    "First we will do a simple univariante linear regression.  \n",
    "We will start by seperating the data into train \\ test datasets."
   ]
  },
  {
   "cell_type": "code",
   "execution_count": 13,
   "metadata": {},
   "outputs": [
    {
     "name": "stdout",
     "output_type": "stream",
     "text": [
      "(36139,)\n",
      "(36139,)\n"
     ]
    }
   ],
   "source": [
    "from sklearn import linear_model\n",
    "from sklearn.model_selection import train_test_split\n",
    "\n",
    "X_train, X_test, y_train, y_test = train_test_split(diamonds.loc[:,'carat'], diamonds.loc[:,'price'], test_size=0.33, random_state=42)\n",
    "\n",
    "print(X_train.shape)\n",
    "print(y_train.shape)"
   ]
  },
  {
   "cell_type": "code",
   "execution_count": 14,
   "metadata": {},
   "outputs": [
    {
     "data": {
      "text/plain": [
       "pandas.core.series.Series"
      ]
     },
     "execution_count": 14,
     "metadata": {},
     "output_type": "execute_result"
    }
   ],
   "source": [
    "type(X_train)"
   ]
  },
  {
   "cell_type": "markdown",
   "metadata": {},
   "source": [
    "Now we will fit the model."
   ]
  },
  {
   "cell_type": "code",
   "execution_count": 15,
   "metadata": {},
   "outputs": [
    {
     "name": "stdout",
     "output_type": "stream",
     "text": [
      "the linear function is in form of: y = [-2261.15798078] + [[7770.34601788]]*x\n"
     ]
    }
   ],
   "source": [
    "regr = linear_model.LinearRegression()\n",
    "regr.fit(X_train.values.reshape(-1, 1),y_train.values.reshape(-1, 1))\n",
    "print(\"the linear function is in form of: y = {} + {}*x\".format(regr.intercept_,regr.coef_))"
   ]
  },
  {
   "cell_type": "code",
   "execution_count": 16,
   "metadata": {},
   "outputs": [
    {
     "data": {
      "image/png": "[encoded data removed]",
      "text/plain": [
       "<matplotlib.figure.Figure at 0x2a6100f74a8>"
      ]
     },
     "metadata": {},
     "output_type": "display_data"
    }
   ],
   "source": [
    "y_pred = regr.predict(X_test.values.reshape(-1, 1)) \n",
    "plt.plot(y_test, y_pred, '.')\n",
    "plt.title('Predicted vs. Actual')\n",
    "plt.xlabel('Actual')\n",
    "plt.ylabel('Predicted')\n",
    "plt.show()"
   ]
  },
  {
   "cell_type": "code",
   "execution_count": 17,
   "metadata": {},
   "outputs": [
    {
     "name": "stdout",
     "output_type": "stream",
     "text": [
      "prediction correlation: 0.9211653196673246\n",
      "The mean squared error is: 2365402.501877101 \n",
      "The mean absolute error is: 1006.5525923557933 \n",
      "The mean precentage error is: 38.85303862943197% \n"
     ]
    }
   ],
   "source": [
    "from sklearn import metrics \n",
    "corr = np.corrcoef(y_test,y_pred[:,0])[1,0]\n",
    "print(\"prediction correlation: {}\".format(corr))\n",
    "print(\"The mean squared error is: {} \".format(metrics.mean_squared_error(y_test, y_pred[:,0])))\n",
    "print(\"The mean absolute error is: {} \".format(metrics.mean_absolute_error(y_test, y_pred[:,0])))\n",
    "print(\"The mean precentage error is: {}% \".format(np.mean(np.abs((y_test - y_pred[:,0]) / y_test)) * 100))"
   ]
  },
  {
   "cell_type": "code",
   "execution_count": 18,
   "metadata": {},
   "outputs": [
    {
     "data": {
      "text/plain": [
       "[(0, 0.001)]"
      ]
     },
     "execution_count": 18,
     "metadata": {},
     "output_type": "execute_result"
    },
    {
     "data": {
      "image/png": "[encoded data removed]",
      "text/plain": [
       "<matplotlib.figure.Figure at 0x2a6117c1748>"
      ]
     },
     "metadata": {},
     "output_type": "display_data"
    }
   ],
   "source": [
    "residuals = y_pred[:,0] - y_test\n",
    "g = sns.distplot(residuals)\n",
    "g.set(xlim=(-15000, 15000))\n",
    "g.set(ylim=(0, 0.001))"
   ]
  },
  {
   "cell_type": "markdown",
   "metadata": {},
   "source": [
    "Let's take a reasonable baseline to compare with (median)."
   ]
  },
  {
   "cell_type": "code",
   "execution_count": 19,
   "metadata": {},
   "outputs": [
    {
     "name": "stdout",
     "output_type": "stream",
     "text": [
      "The mean squared error is: 17837931.382113364 \n",
      "The mean absolute error is: 2773.75355317117 \n",
      "The mean precentage error is: 110.49154955711657% \n"
     ]
    }
   ],
   "source": [
    "baseline_pred = np.full(y_test.shape, np.median(y_train))\n",
    "\n",
    "print(\"The mean squared error is: {} \".format(metrics.mean_squared_error(y_test, baseline_pred)))\n",
    "print(\"The mean absolute error is: {} \".format(metrics.mean_absolute_error(y_test, baseline_pred)))\n",
    "print(\"The mean precentage error is: {}% \".format(np.mean(np.abs((y_test - baseline_pred) / y_test)) * 100))"
   ]
  },
  {
   "cell_type": "code",
   "execution_count": 20,
   "metadata": {},
   "outputs": [
    {
     "data": {
      "text/plain": [
       "[(0, 0.001)]"
      ]
     },
     "execution_count": 20,
     "metadata": {},
     "output_type": "execute_result"
    },
    {
     "data": {
      "image/png": "[encoded data removed]",
      "text/plain": [
       "<matplotlib.figure.Figure at 0x2a6115444e0>"
      ]
     },
     "metadata": {},
     "output_type": "display_data"
    }
   ],
   "source": [
    "residuals = baseline_pred - y_test\n",
    "g = sns.distplot(residuals)\n",
    "g.set(xlim=(-15000, 15000))\n",
    "g.set(ylim=(0, 0.001))"
   ]
  },
  {
   "cell_type": "markdown",
   "metadata": {},
   "source": [
    "Residuals Analysis:"
   ]
  },
  {
   "cell_type": "code",
   "execution_count": 21,
   "metadata": {},
   "outputs": [
    {
     "data": {
      "text/plain": [
       "[<matplotlib.lines.Line2D at 0x2a6109140b8>]"
      ]
     },
     "execution_count": 21,
     "metadata": {},
     "output_type": "execute_result"
    },
    {
     "data": {
      "image/png": "[encoded data removed]",
      "text/plain": [
       "<matplotlib.figure.Figure at 0x2a6117b2d30>"
      ]
     },
     "metadata": {},
     "output_type": "display_data"
    }
   ],
   "source": [
    "plt.plot(X_test,residuals,'.')"
   ]
  },
  {
   "cell_type": "markdown",
   "metadata": {},
   "source": [
    "Can we improve with feature engineering?"
   ]
  },
  {
   "cell_type": "code",
   "execution_count": 22,
   "metadata": {},
   "outputs": [
    {
     "data": {
      "image/png": "[encoded data removed]",
      "text/plain": [
       "<matplotlib.figure.Figure at 0x2a6117c74e0>"
      ]
     },
     "metadata": {},
     "output_type": "display_data"
    }
   ],
   "source": [
    "plt.plot(X_train, y_train, '.')\n",
    "plt.title('Price vs. Carat')\n",
    "plt.xlabel('Carat')\n",
    "plt.ylabel('Price')\n",
    "plt.show()"
   ]
  },
  {
   "cell_type": "markdown",
   "metadata": {},
   "source": [
    "We can see that the relationship between carat and price is not linear.  \n",
    "Let's add a non-linear feature."
   ]
  },
  {
   "cell_type": "code",
   "execution_count": 23,
   "metadata": {},
   "outputs": [
    {
     "data": {
      "image/png": "[encoded data removed]",
      "text/plain": [
       "<matplotlib.figure.Figure at 0x2a610949208>"
      ]
     },
     "metadata": {},
     "output_type": "display_data"
    }
   ],
   "source": [
    "plt.plot(np.power(X_train,2), y_train, '.')\n",
    "plt.title('Price vs. Carat^2')\n",
    "plt.xlabel('Carat^2')\n",
    "plt.ylabel('Price')\n",
    "plt.show()"
   ]
  },
  {
   "cell_type": "code",
   "execution_count": 24,
   "metadata": {},
   "outputs": [
    {
     "name": "stdout",
     "output_type": "stream",
     "text": [
      "the linear function is in form of: y = [-1891.41791176] + 6832.432584415108*x + 439.3615975725271*x^2\n"
     ]
    }
   ],
   "source": [
    "X_train_quad = pd.concat([X_train,np.power(X_train,2)],axis=1)\n",
    "regr = linear_model.LinearRegression()\n",
    "regr.fit(X_train_quad,y_train.values.reshape(-1, 1))\n",
    "\n",
    "regr.coef_\n",
    "print(\"the linear function is in form of: y = {} + {}*x + {}*x^2\".format(regr.intercept_,regr.coef_[0][0], regr.coef_[0][1]))"
   ]
  },
  {
   "cell_type": "code",
   "execution_count": 25,
   "metadata": {},
   "outputs": [
    {
     "data": {
      "image/png": "[encoded data removed]",
      "text/plain": [
       "<matplotlib.figure.Figure at 0x2a61091ac88>"
      ]
     },
     "metadata": {},
     "output_type": "display_data"
    }
   ],
   "source": [
    "X_test_quad = pd.concat([X_test,np.power(X_test,2)],axis=1) # need to apply the same transformation on the test data\n",
    "y_pred = regr.predict(X_test_quad) \n",
    "plt.plot(y_test, y_pred, '.')\n",
    "plt.title('Predicted vs. Actual')\n",
    "plt.xlabel('Actual')\n",
    "plt.ylabel('Predicted')\n",
    "plt.show()"
   ]
  },
  {
   "cell_type": "code",
   "execution_count": 26,
   "metadata": {},
   "outputs": [
    {
     "name": "stdout",
     "output_type": "stream",
     "text": [
      "prediction correlation: 0.922446817494865\n",
      "The mean squared error is: 2328219.050264529 \n",
      "The mean absolute error is: 957.2640129913484 \n",
      "The mean precentage error is: 34.00298852011226% \n"
     ]
    }
   ],
   "source": [
    "from sklearn import metrics \n",
    "corr = np.corrcoef(y_test,y_pred[:,0])[1,0]\n",
    "print(\"prediction correlation: {}\".format(corr))\n",
    "print(\"The mean squared error is: {} \".format(metrics.mean_squared_error(y_test, y_pred[:,0])))\n",
    "print(\"The mean absolute error is: {} \".format(metrics.mean_absolute_error(y_test, y_pred[:,0])))\n",
    "print(\"The mean precentage error is: {}% \".format(np.mean(np.abs((y_test - y_pred[:,0]) / y_test)) * 100))"
   ]
  },
  {
   "cell_type": "code",
   "execution_count": 27,
   "metadata": {},
   "outputs": [
    {
     "data": {
      "text/plain": [
       "[(0, 0.001)]"
      ]
     },
     "execution_count": 27,
     "metadata": {},
     "output_type": "execute_result"
    },
    {
     "data": {
      "image/png": "[encoded data removed]",
      "text/plain": [
       "<matplotlib.figure.Figure at 0x2a610a71668>"
      ]
     },
     "metadata": {},
     "output_type": "display_data"
    }
   ],
   "source": [
    "residuals = y_pred[:,0] - y_test\n",
    "g = sns.distplot(residuals)\n",
    "g.set(xlim=(-15000, 15000))\n",
    "g.set(ylim=(0, 0.001))"
   ]
  },
  {
   "cell_type": "markdown",
   "metadata": {},
   "source": [
    "Seems slightly better.  \n",
    "Let's try to add additional features."
   ]
  },
  {
   "cell_type": "markdown",
   "metadata": {},
   "source": [
    "### <a name=\"multi_variante_linear_regression\"></a>Multi Variante Linear Regression\n",
    "This time, we will encode all our variables as numeric features and will use them all in the linear regression."
   ]
  },
  {
   "cell_type": "code",
   "execution_count": 28,
   "metadata": {},
   "outputs": [
    {
     "name": "stdout",
     "output_type": "stream",
     "text": [
      "(53940, 27)\n"
     ]
    },
    {
     "data": {
      "text/html": [
       "<div>\n",
       "<style scoped>\n",
       "    .dataframe tbody tr th:only-of-type {\n",
       "        vertical-align: middle;\n",
       "    }\n",
       "\n",
       "    .dataframe tbody tr th {\n",
       "        vertical-align: top;\n",
       "    }\n",
       "\n",
       "    .dataframe thead th {\n",
       "        text-align: right;\n",
       "    }\n",
       "</style>\n",
       "<table border=\"1\" class=\"dataframe\">\n",
       "  <thead>\n",
       "    <tr style=\"text-align: right;\">\n",
       "      <th></th>\n",
       "      <th>carat</th>\n",
       "      <th>depth</th>\n",
       "      <th>table</th>\n",
       "      <th>price</th>\n",
       "      <th>x</th>\n",
       "      <th>y</th>\n",
       "      <th>z</th>\n",
       "      <th>cut_Fair</th>\n",
       "      <th>cut_Good</th>\n",
       "      <th>cut_Ideal</th>\n",
       "      <th>...</th>\n",
       "      <th>color_I</th>\n",
       "      <th>color_J</th>\n",
       "      <th>clarity_I1</th>\n",
       "      <th>clarity_IF</th>\n",
       "      <th>clarity_SI1</th>\n",
       "      <th>clarity_SI2</th>\n",
       "      <th>clarity_VS1</th>\n",
       "      <th>clarity_VS2</th>\n",
       "      <th>clarity_VVS1</th>\n",
       "      <th>clarity_VVS2</th>\n",
       "    </tr>\n",
       "  </thead>\n",
       "  <tbody>\n",
       "    <tr>\n",
       "      <th>0</th>\n",
       "      <td>0.23</td>\n",
       "      <td>61.5</td>\n",
       "      <td>55.0</td>\n",
       "      <td>326</td>\n",
       "      <td>3.95</td>\n",
       "      <td>3.98</td>\n",
       "      <td>2.43</td>\n",
       "      <td>0</td>\n",
       "      <td>0</td>\n",
       "      <td>1</td>\n",
       "      <td>...</td>\n",
       "      <td>0</td>\n",
       "      <td>0</td>\n",
       "      <td>0</td>\n",
       "      <td>0</td>\n",
       "      <td>0</td>\n",
       "      <td>1</td>\n",
       "      <td>0</td>\n",
       "      <td>0</td>\n",
       "      <td>0</td>\n",
       "      <td>0</td>\n",
       "    </tr>\n",
       "    <tr>\n",
       "      <th>1</th>\n",
       "      <td>0.21</td>\n",
       "      <td>59.8</td>\n",
       "      <td>61.0</td>\n",
       "      <td>326</td>\n",
       "      <td>3.89</td>\n",
       "      <td>3.84</td>\n",
       "      <td>2.31</td>\n",
       "      <td>0</td>\n",
       "      <td>0</td>\n",
       "      <td>0</td>\n",
       "      <td>...</td>\n",
       "      <td>0</td>\n",
       "      <td>0</td>\n",
       "      <td>0</td>\n",
       "      <td>0</td>\n",
       "      <td>1</td>\n",
       "      <td>0</td>\n",
       "      <td>0</td>\n",
       "      <td>0</td>\n",
       "      <td>0</td>\n",
       "      <td>0</td>\n",
       "    </tr>\n",
       "    <tr>\n",
       "      <th>2</th>\n",
       "      <td>0.23</td>\n",
       "      <td>56.9</td>\n",
       "      <td>65.0</td>\n",
       "      <td>327</td>\n",
       "      <td>4.05</td>\n",
       "      <td>4.07</td>\n",
       "      <td>2.31</td>\n",
       "      <td>0</td>\n",
       "      <td>1</td>\n",
       "      <td>0</td>\n",
       "      <td>...</td>\n",
       "      <td>0</td>\n",
       "      <td>0</td>\n",
       "      <td>0</td>\n",
       "      <td>0</td>\n",
       "      <td>0</td>\n",
       "      <td>0</td>\n",
       "      <td>1</td>\n",
       "      <td>0</td>\n",
       "      <td>0</td>\n",
       "      <td>0</td>\n",
       "    </tr>\n",
       "    <tr>\n",
       "      <th>3</th>\n",
       "      <td>0.29</td>\n",
       "      <td>62.4</td>\n",
       "      <td>58.0</td>\n",
       "      <td>334</td>\n",
       "      <td>4.20</td>\n",
       "      <td>4.23</td>\n",
       "      <td>2.63</td>\n",
       "      <td>0</td>\n",
       "      <td>0</td>\n",
       "      <td>0</td>\n",
       "      <td>...</td>\n",
       "      <td>1</td>\n",
       "      <td>0</td>\n",
       "      <td>0</td>\n",
       "      <td>0</td>\n",
       "      <td>0</td>\n",
       "      <td>0</td>\n",
       "      <td>0</td>\n",
       "      <td>1</td>\n",
       "      <td>0</td>\n",
       "      <td>0</td>\n",
       "    </tr>\n",
       "    <tr>\n",
       "      <th>4</th>\n",
       "      <td>0.31</td>\n",
       "      <td>63.3</td>\n",
       "      <td>58.0</td>\n",
       "      <td>335</td>\n",
       "      <td>4.34</td>\n",
       "      <td>4.35</td>\n",
       "      <td>2.75</td>\n",
       "      <td>0</td>\n",
       "      <td>1</td>\n",
       "      <td>0</td>\n",
       "      <td>...</td>\n",
       "      <td>0</td>\n",
       "      <td>1</td>\n",
       "      <td>0</td>\n",
       "      <td>0</td>\n",
       "      <td>0</td>\n",
       "      <td>1</td>\n",
       "      <td>0</td>\n",
       "      <td>0</td>\n",
       "      <td>0</td>\n",
       "      <td>0</td>\n",
       "    </tr>\n",
       "  </tbody>\n",
       "</table>\n",
       "<p>5 rows × 27 columns</p>\n",
       "</div>"
      ],
      "text/plain": [
       "   carat  depth  table  price     x     y     z  cut_Fair  cut_Good  \\\n",
       "0   0.23   61.5   55.0    326  3.95  3.98  2.43         0         0   \n",
       "1   0.21   59.8   61.0    326  3.89  3.84  2.31         0         0   \n",
       "2   0.23   56.9   65.0    327  4.05  4.07  2.31         0         1   \n",
       "3   0.29   62.4   58.0    334  4.20  4.23  2.63         0         0   \n",
       "4   0.31   63.3   58.0    335  4.34  4.35  2.75         0         1   \n",
       "\n",
       "   cut_Ideal      ...       color_I  color_J  clarity_I1  clarity_IF  \\\n",
       "0          1      ...             0        0           0           0   \n",
       "1          0      ...             0        0           0           0   \n",
       "2          0      ...             0        0           0           0   \n",
       "3          0      ...             1        0           0           0   \n",
       "4          0      ...             0        1           0           0   \n",
       "\n",
       "   clarity_SI1  clarity_SI2  clarity_VS1  clarity_VS2  clarity_VVS1  \\\n",
       "0            0            1            0            0             0   \n",
       "1            1            0            0            0             0   \n",
       "2            0            0            1            0             0   \n",
       "3            0            0            0            1             0   \n",
       "4            0            1            0            0             0   \n",
       "\n",
       "   clarity_VVS2  \n",
       "0             0  \n",
       "1             0  \n",
       "2             0  \n",
       "3             0  \n",
       "4             0  \n",
       "\n",
       "[5 rows x 27 columns]"
      ]
     },
     "execution_count": 28,
     "metadata": {},
     "output_type": "execute_result"
    }
   ],
   "source": [
    "diamonds_with_dummies = pd.get_dummies(diamonds)\n",
    "print(diamonds_with_dummies.shape)\n",
    "diamonds_with_dummies.head()"
   ]
  },
  {
   "cell_type": "markdown",
   "metadata": {},
   "source": [
    "Seperating again to train and test"
   ]
  },
  {
   "cell_type": "code",
   "execution_count": 29,
   "metadata": {},
   "outputs": [
    {
     "name": "stdout",
     "output_type": "stream",
     "text": [
      "[5782.59546537]\n",
      "[[ 1.12463546e+04 -6.39318861e+01 -2.71104004e+01 -9.85632729e+02\n",
      "  -6.14260735e+00 -5.44107263e+01 -5.84608170e+02  2.89971857e+00\n",
      "   2.52050066e+02  1.81676479e+02  1.47981906e+02  8.34171444e+02\n",
      "   6.14676886e+02  5.62766011e+02  3.31797236e+02 -1.68986527e+02\n",
      "  -6.38338725e+02 -1.53608633e+03 -3.88462057e+03  1.57286573e+03\n",
      "  -1.41484773e+02 -1.10738114e+03  7.63075921e+02  4.46819266e+02\n",
      "   1.21128847e+03  1.13943710e+03]]\n"
     ]
    }
   ],
   "source": [
    "X_train, X_test, y_train, y_test = train_test_split(diamonds_with_dummies.drop(['price'],axis=1), diamonds_with_dummies.loc[:,'price'], test_size=0.33, random_state=42)\n",
    "regr = linear_model.LinearRegression()\n",
    "regr.fit(X_train,y_train.values.reshape(-1, 1))\n",
    "print(regr.intercept_)\n",
    "print(regr.coef_)"
   ]
  },
  {
   "cell_type": "code",
   "execution_count": 30,
   "metadata": {},
   "outputs": [
    {
     "data": {
      "image/png": "[encoded data removed]",
      "text/plain": [
       "<matplotlib.figure.Figure at 0x2a610a305c0>"
      ]
     },
     "metadata": {},
     "output_type": "display_data"
    }
   ],
   "source": [
    "y_pred = regr.predict(X_test) \n",
    "plt.plot(y_test, y_pred, '.')\n",
    "plt.title('Predicted vs. Actual')\n",
    "plt.xlabel('Actual')\n",
    "plt.ylabel('Predicted')\n",
    "plt.show()"
   ]
  },
  {
   "cell_type": "markdown",
   "metadata": {},
   "source": [
    "What do you think about negative predictions?"
   ]
  },
  {
   "cell_type": "code",
   "execution_count": 31,
   "metadata": {},
   "outputs": [
    {
     "name": "stdout",
     "output_type": "stream",
     "text": [
      "17801\n"
     ]
    }
   ],
   "source": [
    "print(y_test.size)\n",
    "adjuster_pred = np.maximum(np.zeros(y_test.size),y_pred[:,0]) # replacing minus with zero"
   ]
  },
  {
   "cell_type": "markdown",
   "metadata": {},
   "source": [
    "Now let's see the performance"
   ]
  },
  {
   "cell_type": "code",
   "execution_count": 32,
   "metadata": {},
   "outputs": [
    {
     "name": "stdout",
     "output_type": "stream",
     "text": [
      "prediction correlation: 0.9633663712378202\n",
      "The mean squared error is: 1131803.6377658097 \n",
      "The mean absolute error is: 686.7249082393232 \n",
      "The mean precentage error is: 30.503406285820738% \n"
     ]
    }
   ],
   "source": [
    "from sklearn import metrics \n",
    "corr = np.corrcoef(y_test,adjuster_pred)[1,0]\n",
    "print(\"prediction correlation: {}\".format(corr))\n",
    "print(\"The mean squared error is: {} \".format(metrics.mean_squared_error(y_test, adjuster_pred)))\n",
    "print(\"The mean absolute error is: {} \".format(metrics.mean_absolute_error(y_test, adjuster_pred)))\n",
    "print(\"The mean precentage error is: {}% \".format(np.mean(np.abs((y_test - adjuster_pred) / y_test)) * 100))"
   ]
  },
  {
   "cell_type": "code",
   "execution_count": 33,
   "metadata": {},
   "outputs": [
    {
     "data": {
      "text/plain": [
       "[(0, 0.001)]"
      ]
     },
     "execution_count": 33,
     "metadata": {},
     "output_type": "execute_result"
    },
    {
     "data": {
      "image/png": "[encoded data removed]",
      "text/plain": [
       "<matplotlib.figure.Figure at 0x2a611800550>"
      ]
     },
     "metadata": {},
     "output_type": "display_data"
    }
   ],
   "source": [
    "residuals = adjuster_pred - y_test\n",
    "g = sns.distplot(residuals)\n",
    "g.set(xlim=(-15000, 15000))\n",
    "g.set(ylim=(0, 0.001))"
   ]
  },
  {
   "cell_type": "markdown",
   "metadata": {},
   "source": [
    "Analyzing the model more deeply using OLS from scipy"
   ]
  },
  {
   "cell_type": "code",
   "execution_count": 34,
   "metadata": {},
   "outputs": [
    {
     "name": "stderr",
     "output_type": "stream",
     "text": [
      "C:\\Users\\Public\\Anaconda3\\lib\\site-packages\\statsmodels\\compat\\pandas.py:56: FutureWarning: The pandas.core.datetools module is deprecated and will be removed in a future version. Please use the pandas.tseries module instead.\n",
      "  from pandas.core import datetools\n"
     ]
    },
    {
     "name": "stdout",
     "output_type": "stream",
     "text": [
      "                            OLS Regression Results                            \n",
      "==============================================================================\n",
      "Dep. Variable:                  price   R-squared:                       0.920\n",
      "Model:                            OLS   Adj. R-squared:                  0.920\n",
      "Method:                 Least Squares   F-statistic:                 1.796e+04\n",
      "Date:                Wed, 26 Dec 2018   Prob (F-statistic):               0.00\n",
      "Time:                        13:48:31   Log-Likelihood:            -3.0554e+05\n",
      "No. Observations:               36139   AIC:                         6.111e+05\n",
      "Df Residuals:                   36115   BIC:                         6.113e+05\n",
      "Df Model:                          23                                         \n",
      "Covariance Type:            nonrobust                                         \n",
      "=================================================================================\n",
      "                    coef    std err          t      P>|t|      [0.025      0.975]\n",
      "---------------------------------------------------------------------------------\n",
      "carat          1.125e+04     59.815    188.019      0.000    1.11e+04    1.14e+04\n",
      "depth           -63.9319      5.434    -11.765      0.000     -74.583     -53.281\n",
      "table           -27.1104      3.603     -7.525      0.000     -34.172     -20.049\n",
      "x              -985.6327     37.752    -26.108      0.000   -1059.629    -911.637\n",
      "y                -6.1426     21.940     -0.280      0.779     -49.145      36.860\n",
      "z               -54.4107     34.975     -1.556      0.120    -122.962      14.141\n",
      "cut_Fair       1887.3410    217.615      8.673      0.000    1460.810    2313.872\n",
      "cut_Good       2474.8489    209.112     11.835      0.000    2064.983    2884.714\n",
      "cut_Ideal      2723.9993    199.369     13.663      0.000    2333.231    3114.768\n",
      "cut_Premium    2653.6257    204.337     12.986      0.000    2253.118    3054.133\n",
      "cut_Very Good  2619.9311    204.510     12.811      0.000    2219.085    3020.778\n",
      "color_D        2599.8494    147.805     17.590      0.000    2310.147    2889.551\n",
      "color_E        2380.3549    147.631     16.124      0.000    2090.993    2669.717\n",
      "color_F        2328.4440    147.805     15.753      0.000    2038.741    2618.147\n",
      "color_G        2097.4752    147.969     14.175      0.000    1807.451    2387.500\n",
      "color_H        1596.6915    148.137     10.778      0.000    1306.339    1887.044\n",
      "color_I        1127.3393    148.540      7.589      0.000     836.196    1418.483\n",
      "color_J         229.5917    149.426      1.536      0.124     -63.287     522.470\n",
      "clarity_I1    -2339.6523    139.225    -16.805      0.000   -2612.538   -2066.766\n",
      "clarity_IF     3117.8340    130.460     23.899      0.000    2862.129    3373.539\n",
      "clarity_SI1    1403.4835    130.533     10.752      0.000    1147.634    1659.333\n",
      "clarity_SI2     437.5871    130.411      3.355      0.001     181.978     693.196\n",
      "clarity_VS1    2308.0442    129.736     17.790      0.000    2053.758    2562.330\n",
      "clarity_VS2    1991.7875    129.886     15.335      0.000    1737.206    2246.369\n",
      "clarity_VVS1   2756.2567    129.665     21.257      0.000    2502.110    3010.404\n",
      "clarity_VVS2   2684.4054    129.708     20.696      0.000    2430.174    2938.637\n",
      "==============================================================================\n",
      "Omnibus:                     9394.777   Durbin-Watson:                   1.989\n",
      "Prob(Omnibus):                  0.000   Jarque-Bera (JB):           375833.759\n",
      "Skew:                           0.526   Prob(JB):                         0.00\n",
      "Kurtosis:                      18.763   Cond. No.                     1.16e+16\n",
      "==============================================================================\n",
      "\n",
      "Warnings:\n",
      "[1] Standard Errors assume that the covariance matrix of the errors is correctly specified.\n",
      "[2] The smallest eigenvalue is 1.93e-24. This might indicate that there are\n",
      "strong multicollinearity problems or that the design matrix is singular.\n"
     ]
    }
   ],
   "source": [
    "import statsmodels.api as sm\n",
    "from scipy import stats\n",
    "\n",
    "est = sm.OLS(y_train, X_train)\n",
    "est2 = est.fit()\n",
    "print(est2.summary())"
   ]
  },
  {
   "cell_type": "markdown",
   "metadata": {},
   "source": [
    "predict"
   ]
  },
  {
   "cell_type": "code",
   "execution_count": 35,
   "metadata": {},
   "outputs": [
    {
     "name": "stdout",
     "output_type": "stream",
     "text": [
      "prediction correlation: 0.9592504891178519\n",
      "The mean squared error is: 1246563.0458256057 \n",
      "The mean absolute error is: 733.6995524535872 \n",
      "The mean precentage error is: 39.20541673615204% \n"
     ]
    }
   ],
   "source": [
    "y_pred = est2.predict(X_test).values\n",
    "\n",
    "from sklearn import metrics \n",
    "corr = np.corrcoef(y_test,y_pred)[1,0]\n",
    "print(\"prediction correlation: {}\".format(corr))\n",
    "print(\"The mean squared error is: {} \".format(metrics.mean_squared_error(y_test, y_pred)))\n",
    "print(\"The mean absolute error is: {} \".format(metrics.mean_absolute_error(y_test, y_pred)))\n",
    "print(\"The mean precentage error is: {}% \".format(np.mean(np.abs((y_test - y_pred) / y_test)) * 100))"
   ]
  },
  {
   "cell_type": "markdown",
   "metadata": {},
   "source": [
    "adding lot's of fearues (using interactions)"
   ]
  },
  {
   "cell_type": "code",
   "execution_count": 40,
   "metadata": {},
   "outputs": [
    {
     "name": "stdout",
     "output_type": "stream",
     "text": [
      "(53940, 378)\n"
     ]
    }
   ],
   "source": [
    "from sklearn.preprocessing import PolynomialFeatures\n",
    "poly = PolynomialFeatures(2)\n",
    "\n",
    "X = diamonds_with_dummies.drop(['price'],axis=1)\n",
    "X_poly = poly.fit_transform(X)\n",
    "print(X_poly.shape)\n",
    "\n",
    "X_train, X_test, y_train, y_test = train_test_split(X_poly, diamonds_with_dummies.loc[:,'price'], test_size=0.33, random_state=42)"
   ]
  },
  {
   "cell_type": "code",
   "execution_count": 37,
   "metadata": {},
   "outputs": [
    {
     "name": "stdout",
     "output_type": "stream",
     "text": [
      "                            OLS Regression Results                            \n",
      "==============================================================================\n",
      "Dep. Variable:                  price   R-squared:                       0.972\n",
      "Model:                            OLS   Adj. R-squared:                  0.972\n",
      "Method:                 Least Squares   F-statistic:                     5174.\n",
      "Date:                Wed, 26 Dec 2018   Prob (F-statistic):               0.00\n",
      "Time:                        13:57:32   Log-Likelihood:            -2.8654e+05\n",
      "No. Observations:               36139   AIC:                         5.736e+05\n",
      "Df Residuals:                   35898   BIC:                         5.756e+05\n",
      "Df Model:                         240                                         \n",
      "Covariance Type:            nonrobust                                         \n",
      "==============================================================================\n",
      "                 coef    std err          t      P>|t|      [0.025      0.975]\n",
      "------------------------------------------------------------------------------\n",
      "const      -1077.6087   7000.422     -0.154      0.878   -1.48e+04    1.26e+04\n",
      "x1         -6718.3613   2046.786     -3.282      0.001   -1.07e+04   -2706.598\n",
      "x2           146.5295    201.756      0.726      0.468    -248.918     541.977\n",
      "x3           332.5249    125.754      2.644      0.008      86.043     579.007\n",
      "x4         -8864.2326   2930.803     -3.025      0.002   -1.46e+04   -3119.771\n",
      "x5          2937.1606   2948.834      0.996      0.319   -2842.642    8716.964\n",
      "x6          4993.3935   2826.257      1.767      0.077    -546.155    1.05e+04\n",
      "x7           793.6724   1427.414      0.556      0.578   -2004.102    3591.447\n",
      "x8          -695.1287   1650.275     -0.421      0.674   -3929.718    2539.461\n",
      "x9           988.6360   1376.277      0.718      0.473   -1708.909    3686.181\n",
      "x10         -700.2819   1417.690     -0.494      0.621   -3478.997    2078.433\n",
      "x11        -1464.5066   1650.124     -0.888      0.375   -4698.798    1769.785\n",
      "x12        -1066.1292   1472.953     -0.724      0.469   -3953.162    1820.904\n",
      "x13        -2581.8936   1322.492     -1.952      0.051   -5174.018      10.230\n",
      "x14        -1601.1989   1129.258     -1.418      0.156   -3814.579     612.181\n",
      "x15        -1284.1367   1120.254     -1.146      0.252   -3479.868     911.595\n",
      "x16         -517.8777   1112.719     -0.465      0.642   -2698.841    1663.085\n",
      "x17         1619.0525   1100.510      1.471      0.141    -537.980    3776.085\n",
      "x18         4354.5750   1169.961      3.722      0.000    2061.416    6647.734\n",
      "x19        -4978.3287   1296.854     -3.839      0.000   -7520.201   -2436.457\n",
      "x20        -2204.2593   2546.518     -0.866      0.387   -7195.511    2786.993\n",
      "x21         1389.4976   1071.576      1.297      0.195    -710.824    3489.819\n",
      "x22         1784.0546   1141.192      1.563      0.118    -452.717    4020.826\n",
      "x23         4339.5241   1429.734      3.035      0.002    1537.203    7141.845\n",
      "x24          445.2636    884.227      0.504      0.615   -1287.849    2178.376\n",
      "x25          609.4520   1189.465      0.512      0.608   -1721.936    2940.840\n",
      "x26        -2462.8126   1304.491     -1.888      0.059   -5019.655      94.029\n",
      "x27        -1172.2908     80.094    -14.636      0.000   -1329.278   -1015.303\n",
      "x28           52.4350     39.364      1.332      0.183     -24.719     129.589\n",
      "x29          159.9847     20.809      7.688      0.000     119.198     200.772\n",
      "x30        -6219.1218    356.138    -17.463      0.000   -6917.164   -5521.080\n",
      "x31         5555.9205    223.101     24.903      0.000    5118.636    5993.205\n",
      "x32         3331.3524    420.266      7.927      0.000    2507.618    4155.087\n",
      "x33         -573.9282    481.131     -1.193      0.233   -1516.960     369.103\n",
      "x34        -1969.9533    439.706     -4.480      0.000   -2831.790   -1108.117\n",
      "x35        -1147.0701    382.734     -2.997      0.003   -1897.240    -396.900\n",
      "x36        -1257.4486    405.461     -3.101      0.002   -2052.164    -462.733\n",
      "x37        -1769.9611    410.323     -4.314      0.000   -2574.207    -965.715\n",
      "x38         -704.4062    317.938     -2.216      0.027   -1327.575     -81.237\n",
      "x39          -83.4124    314.848     -0.265      0.791    -700.524     533.699\n",
      "x40          437.6303    311.701      1.404      0.160    -173.313    1048.573\n",
      "x41         -711.4968    298.287     -2.385      0.017   -1296.148    -126.846\n",
      "x42        -1264.8441    305.757     -4.137      0.000   -1864.137    -665.551\n",
      "x43        -1717.6488    311.312     -5.517      0.000   -2327.829   -1107.469\n",
      "x44        -2674.1834    323.930     -8.255      0.000   -3309.096   -2039.271\n",
      "x45        -9136.6175    358.124    -25.512      0.000   -9838.551   -8434.684\n",
      "x46         1083.3493    457.241      2.369      0.018     187.144    1979.555\n",
      "x47         -420.6379    276.796     -1.520      0.129    -963.167     121.891\n",
      "x48        -2560.2878    278.600     -9.190      0.000   -3106.353   -2014.223\n",
      "x49          770.2000    288.379      2.671      0.008     204.968    1335.432\n",
      "x50          213.9774    274.942      0.778      0.436    -324.918     752.872\n",
      "x51         1752.9453    331.145      5.294      0.000    1103.891    2401.999\n",
      "x52         1578.7100    323.843      4.875      0.000     943.968    2213.452\n",
      "x53           -2.6220      1.674     -1.567      0.117      -5.902       0.658\n",
      "x54           -4.0586      2.556     -1.588      0.112      -9.068       0.951\n",
      "x55          239.6235     51.149      4.685      0.000     139.370     339.877\n",
      "x56         -154.5331     50.127     -3.083      0.002    -252.784     -56.282\n",
      "x57          -64.5767     32.528     -1.985      0.047    -128.332      -0.821\n",
      "x58           35.3092     38.162      0.925      0.355     -39.490     110.108\n",
      "x59           37.5112     49.934      0.751      0.453     -60.362     135.384\n",
      "x60          -31.6349     40.408     -0.783      0.434    -110.836      47.566\n",
      "x61           36.9975     41.538      0.891      0.373     -44.418     118.413\n",
      "x62           68.3466     50.944      1.342      0.180     -31.505     168.198\n",
      "x63           14.3294     49.580      0.289      0.773     -82.849     111.508\n",
      "x64           86.9800     41.652      2.088      0.037       5.342     168.618\n",
      "x65           60.4142     34.543      1.749      0.080      -7.291     128.120\n",
      "x66           48.1419     34.051      1.414      0.157     -18.599     114.883\n",
      "x67           33.7483     33.255      1.015      0.310     -31.433      98.930\n",
      "x68           -9.6927     32.957     -0.294      0.769     -74.289      54.904\n",
      "x69          -87.3917     33.860     -2.581      0.010    -153.759     -21.024\n",
      "x70          126.2966     36.726      3.439      0.001      54.312     198.281\n",
      "x71           67.1058     91.124      0.736      0.461    -111.499     245.711\n",
      "x72           -4.2832     32.778     -0.131      0.896     -68.529      59.962\n",
      "x73          -14.4598     34.777     -0.416      0.678     -82.624      53.704\n",
      "x74         -133.0109     47.933     -2.775      0.006    -226.961     -39.060\n",
      "x75           11.0358     26.348      0.419      0.675     -40.608      62.679\n",
      "x76           -9.5014     37.781     -0.251      0.801     -83.554      64.551\n",
      "x77          103.3466     43.715      2.364      0.018      17.663     189.030\n",
      "x78            0.0271      0.645      0.042      0.966      -1.238       1.292\n",
      "x79          -68.0188     35.547     -1.913      0.056    -137.693       1.655\n",
      "x80          -56.0156     39.668     -1.412      0.158    -133.766      21.735\n",
      "x81           93.9293     42.731      2.198      0.028      10.176     177.683\n",
      "x82           70.7303     27.795      2.545      0.011      16.252     125.209\n",
      "x83           60.7631     26.249      2.315      0.021       9.314     112.212\n",
      "x84           72.9219     24.228      3.010      0.003      25.435     120.409\n",
      "x85           70.9307     24.986      2.839      0.005      21.958     119.903\n",
      "x86           57.1788     25.198      2.269      0.023       7.790     106.567\n",
      "x87           41.5365     18.766      2.213      0.027       4.754      78.319\n",
      "x88           43.6664     18.792      2.324      0.020       6.834      80.498\n",
      "x89           50.7674     18.705      2.714      0.007      14.105      87.430\n",
      "x90           52.1045     18.517      2.814      0.005      15.811      88.398\n",
      "x91           62.5332     18.616      3.359      0.001      26.045      99.022\n",
      "x92           40.2258     19.056      2.111      0.035       2.876      77.576\n",
      "x93           41.6911     19.692      2.117      0.034       3.094      80.288\n",
      "x94          106.8927     20.868      5.122      0.000      65.991     147.794\n",
      "x95           16.4067     20.135      0.815      0.415     -23.058      55.872\n",
      "x96           45.6018     16.805      2.714      0.007      12.664      78.540\n",
      "x97           45.2964     17.098      2.649      0.008      11.784      78.809\n",
      "x98           28.6566     16.864      1.699      0.089      -4.397      61.710\n",
      "x99           40.3326     16.820      2.398      0.016       7.365      73.300\n",
      "x100          17.5836     18.021      0.976      0.329     -17.738      52.906\n",
      "x101          31.7545     17.418      1.823      0.068      -2.385      65.894\n",
      "x102        1284.7620    207.981      6.177      0.000     877.112    1692.412\n",
      "x103         431.1929    180.966      2.383      0.017      76.493     785.892\n",
      "x104       -2845.9136    318.691     -8.930      0.000   -3470.557   -2221.270\n",
      "x105         -72.4897    764.256     -0.095      0.924   -1570.454    1425.474\n",
      "x106       -2230.9336    622.135     -3.586      0.000   -3450.337   -1011.530\n",
      "x107       -3345.8435    532.286     -6.286      0.000   -4389.139   -2302.548\n",
      "x108       -1308.9492    553.206     -2.366      0.018   -2393.250    -224.648\n",
      "x109       -1906.0166    609.952     -3.125      0.002   -3101.540    -710.493\n",
      "x110       -1431.2979    513.544     -2.787      0.005   -2437.859    -424.737\n",
      "x111       -1034.3363    465.716     -2.221      0.026   -1947.154    -121.519\n",
      "x112       -1379.2679    456.305     -3.023      0.003   -2273.639    -484.897\n",
      "x113       -1497.4596    457.432     -3.274      0.001   -2394.040    -600.879\n",
      "x114       -1335.9986    444.775     -3.004      0.003   -2207.771    -464.226\n",
      "x115       -1403.1041    479.773     -2.925      0.003   -2343.473    -462.735\n",
      "x116        -782.7681    513.934     -1.523      0.128   -1790.095     224.559\n",
      "x117       -2535.7884    633.360     -4.004      0.000   -3777.193   -1294.383\n",
      "x118        1246.8003    794.215      1.570      0.116    -309.886    2803.486\n",
      "x119       -1264.1560    415.678     -3.041      0.002   -2078.898    -449.414\n",
      "x120       -2156.8721    418.492     -5.154      0.000   -2977.128   -1336.616\n",
      "x121       -1922.6134    519.037     -3.704      0.000   -2939.942    -905.285\n",
      "x122       -1181.8530    391.569     -3.018      0.003   -1949.339    -414.367\n",
      "x123        -250.6624    519.129     -0.483      0.629   -1268.170     766.846\n",
      "x124        -799.0875    494.060     -1.617      0.106   -1767.459     169.284\n",
      "x125        -217.0488     20.258    -10.714      0.000    -256.755    -177.343\n",
      "x126         971.1927    311.211      3.121      0.002     361.210    1581.176\n",
      "x127       -1255.7962    718.212     -1.749      0.080   -2663.513     151.921\n",
      "x128        1458.6836    664.385      2.196      0.028     156.468    2760.899\n",
      "x129        1496.0403    523.024      2.860      0.004     470.897    2521.183\n",
      "x130         -26.0379    581.433     -0.045      0.964   -1165.665    1113.589\n",
      "x131        1264.2708    617.971      2.046      0.041      53.030    2475.512\n",
      "x132         624.8225    518.193      1.206      0.228    -390.851    1640.496\n",
      "x133        1072.6847    487.411      2.201      0.028     117.344    2028.025\n",
      "x134        1079.4956    455.411      2.370      0.018     186.876    1972.115\n",
      "x135         940.2273    464.324      2.025      0.043      30.139    1850.316\n",
      "x136         547.9750    444.612      1.232      0.218    -323.478    1419.428\n",
      "x137         298.6466    476.693      0.626      0.531    -635.686    1232.979\n",
      "x138       -1626.6910    497.893     -3.267      0.001   -2602.576    -650.806\n",
      "x139        2693.7918    635.790      4.237      0.000    1447.624    3939.959\n",
      "x140       -1086.0946    792.127     -1.371      0.170   -2638.688     466.499\n",
      "x141          63.2970    432.175      0.146      0.884    -783.778     910.372\n",
      "x142         947.4772    434.479      2.181      0.029      95.884    1799.070\n",
      "x143        -491.6250    450.546     -1.091      0.275   -1374.709     391.459\n",
      "x144         132.0031    399.771      0.330      0.741    -651.559     915.565\n",
      "x145        -511.7180    533.476     -0.959      0.337   -1557.348     533.912\n",
      "x146        1190.0292    507.563      2.345      0.019     195.191    2184.867\n",
      "x147         -40.2358     30.612     -1.314      0.189    -100.236      19.765\n",
      "x148         158.7309    588.854      0.270      0.788    -995.441    1312.903\n",
      "x149         704.8007    728.633      0.967      0.333    -723.342    2132.943\n",
      "x150        2290.6347    538.516      4.254      0.000    1235.127    3346.143\n",
      "x151        1335.3370    565.802      2.360      0.018     226.349    2444.325\n",
      "x152         503.8902    740.242      0.681      0.496    -947.007    1954.788\n",
      "x153        1699.1713    813.939      2.088      0.037     103.827    3294.515\n",
      "x154        -246.7358    612.070     -0.403      0.687   -1446.411     952.939\n",
      "x155        -167.4513    480.279     -0.349      0.727   -1108.813     773.911\n",
      "x156         384.3128    480.769      0.799      0.424    -558.008    1326.634\n",
      "x157         357.3620    454.546      0.786      0.432    -533.562    1248.286\n",
      "x158         604.9519    435.735      1.388      0.165    -249.103    1459.007\n",
      "x159        2361.7827    538.596      4.385      0.000    1306.119    3417.446\n",
      "x160         810.6565    466.967      1.736      0.083    -104.614    1725.927\n",
      "x161         127.3646   1698.928      0.075      0.940   -3202.585    3457.315\n",
      "x162         417.9186    487.570      0.857      0.391    -537.733    1373.570\n",
      "x163         738.8524    505.329      1.462      0.144    -251.607    1729.312\n",
      "x164        2884.6599    780.589      3.695      0.000    1354.681    4414.638\n",
      "x165         594.0977    373.667      1.590      0.112    -138.300    1326.495\n",
      "x166         775.8155    590.625      1.314      0.189    -381.828    1933.459\n",
      "x167       -1355.9715    733.619     -1.848      0.065   -2793.888      81.945\n",
      "x168         793.6724   1427.414      0.556      0.578   -2004.102    3591.447\n",
      "x169        6.766e-11   5.25e-11      1.288      0.198   -3.53e-11    1.71e-10\n",
      "x170        1.837e-11   6.13e-11      0.300      0.764   -1.02e-10    1.39e-10\n",
      "x171       -6.437e-11   4.67e-11     -1.379      0.168   -1.56e-10    2.71e-11\n",
      "x172       -8.413e-12   1.09e-11     -0.770      0.441   -2.98e-11     1.3e-11\n",
      "x173        -193.6883    301.277     -0.643      0.520    -784.200     396.823\n",
      "x174        -454.9799    271.461     -1.676      0.094    -987.051      77.091\n",
      "x175        -263.8720    230.457     -1.145      0.252    -715.575     187.831\n",
      "x176        -222.4452    224.831     -0.989      0.322    -663.120     218.230\n",
      "x177          35.2330    232.599      0.151      0.880    -420.669     491.135\n",
      "x178         652.0604    234.553      2.780      0.005     192.329    1111.792\n",
      "x179        1241.3645    268.199      4.629      0.000     715.686    1767.043\n",
      "x180        -849.7234    297.870     -2.853      0.004   -1433.557    -265.889\n",
      "x181        -964.2583    543.162     -1.775      0.076   -2028.873     100.356\n",
      "x182         576.3697    226.371      2.546      0.011     132.675    1020.064\n",
      "x183         652.0943    241.730      2.698      0.007     178.297    1125.892\n",
      "x184        1060.0275    298.696      3.549      0.000     474.575    1645.480\n",
      "x185         317.0040    191.248      1.658      0.097     -57.847     691.855\n",
      "x186         457.6589    279.102      1.640      0.101     -89.390    1004.708\n",
      "x187        -455.5002    275.829     -1.651      0.099    -996.134      85.134\n",
      "x188        -695.1287   1650.275     -0.421      0.674   -3929.718    2539.461\n",
      "x189       -3.814e-11   6.04e-11     -0.631      0.528   -1.57e-10    8.03e-11\n",
      "x190       -1.037e-11   1.99e-11     -0.522      0.602   -4.93e-11    2.86e-11\n",
      "x191       -1.533e-11   1.96e-11     -0.783      0.433   -5.37e-11     2.3e-11\n",
      "x192        -311.3368    324.701     -0.959      0.338    -947.760     325.087\n",
      "x193        -566.6641    295.133     -1.920      0.055   -1145.133      11.805\n",
      "x194        -413.8043    260.129     -1.591      0.112    -923.666      96.057\n",
      "x195        -313.6293    259.059     -1.211      0.226    -821.393     194.134\n",
      "x196        -124.5239    259.905     -0.479      0.632    -633.946     384.898\n",
      "x197         263.5474    259.673      1.015      0.310    -245.420     772.515\n",
      "x198         771.2823    263.044      2.932      0.003     255.707    1286.857\n",
      "x199       -1083.5219    285.622     -3.794      0.000   -1643.350    -523.693\n",
      "x200        -529.4579    534.314     -0.991      0.322   -1576.729     517.813\n",
      "x201         250.4763    247.942      1.010      0.312    -235.498     736.450\n",
      "x202         343.4288    258.581      1.328      0.184    -163.398     850.256\n",
      "x203         843.3748    309.377      2.726      0.006     236.988    1449.762\n",
      "x204          46.6945    212.453      0.220      0.826    -369.719     463.108\n",
      "x205         -36.7362    277.032     -0.133      0.895    -579.727     506.254\n",
      "x206        -529.3871    290.934     -1.820      0.069   -1099.627      40.853\n",
      "x207         988.6360   1376.277      0.718      0.473   -1708.909    3686.181\n",
      "x208        1.027e-11   8.44e-12      1.217      0.223   -6.27e-12    2.68e-11\n",
      "x209        1.098e-11   6.54e-12      1.679      0.093   -1.84e-12    2.38e-11\n",
      "x210          -2.2378    290.868     -0.008      0.994    -572.347     567.871\n",
      "x211        -335.5453    264.394     -1.269      0.204    -853.765     182.675\n",
      "x212         -79.6053    218.863     -0.364      0.716    -508.584     349.373\n",
      "x213         -42.6769    221.302     -0.193      0.847    -476.436     391.082\n",
      "x214          77.7662    216.700      0.359      0.720    -346.972     502.504\n",
      "x215         398.2692    212.153      1.877      0.060     -17.557     814.096\n",
      "x216         972.6659    225.590      4.312      0.000     530.503    1414.829\n",
      "x217        -628.5323    255.462     -2.460      0.014   -1129.246    -127.818\n",
      "x218        -118.1780    506.538     -0.233      0.816   -1111.008     874.652\n",
      "x219         347.6334    206.863      1.680      0.093     -57.825     753.092\n",
      "x220         384.2697    222.031      1.731      0.084     -50.917     819.456\n",
      "x221         964.4390    280.591      3.437      0.001     414.472    1514.406\n",
      "x222         177.2295    171.402      1.034      0.301    -158.724     513.183\n",
      "x223         183.1458    240.484      0.762      0.446    -288.211     654.503\n",
      "x224        -321.3712    251.615     -1.277      0.202    -814.545     171.803\n",
      "x225        -700.2819   1417.690     -0.494      0.621   -3478.997    2078.433\n",
      "x226        1.048e-11   3.95e-12      2.654      0.008    2.74e-12    1.82e-11\n",
      "x227        -184.0496    296.020     -0.622      0.534    -764.258     396.159\n",
      "x228        -518.4706    266.775     -1.943      0.052   -1041.358       4.417\n",
      "x229        -346.1847    229.412     -1.509      0.131    -795.839     103.470\n",
      "x230        -264.8140    226.604     -1.169      0.243    -708.965     179.337\n",
      "x231        -223.2074    221.565     -1.007      0.314    -657.482     211.067\n",
      "x232         146.6107    220.537      0.665      0.506    -285.648     578.870\n",
      "x233         689.8337    238.435      2.893      0.004     222.493    1157.174\n",
      "x234       -1166.4648    260.111     -4.484      0.000   -1676.291    -656.638\n",
      "x235        -310.2272    515.300     -0.602      0.547   -1320.231     699.777\n",
      "x236         143.6849    214.621      0.669      0.503    -276.978     564.348\n",
      "x237         252.3284    226.476      1.114      0.265    -191.571     696.228\n",
      "x238         792.9036    285.752      2.775      0.006     232.821    1352.986\n",
      "x239          17.6373    181.608      0.097      0.923    -338.320     373.595\n",
      "x240          60.3174    249.940      0.241      0.809    -429.573     550.207\n",
      "x241        -490.4615    263.653     -1.860      0.063   -1007.229      26.306\n",
      "x242       -1464.5066   1650.124     -0.888      0.375   -4698.798    1769.785\n",
      "x243        -374.8167    321.103     -1.167      0.243   -1004.188     254.555\n",
      "x244        -706.2338    288.753     -2.446      0.014   -1272.198    -140.270\n",
      "x245        -497.7327    261.928     -1.900      0.057   -1011.120      15.655\n",
      "x246        -440.5713    262.575     -1.678      0.093    -955.226      74.084\n",
      "x247        -283.1457    257.387     -1.100      0.271    -787.632     221.340\n",
      "x248         158.5649    254.344      0.623      0.533    -339.958     657.088\n",
      "x249         679.4286    258.417      2.629      0.009     172.923    1185.935\n",
      "x250       -1250.0864    295.556     -4.230      0.000   -1829.385    -670.788\n",
      "x251        -282.1380    526.388     -0.536      0.592   -1313.873     749.598\n",
      "x252          71.3334    243.844      0.293      0.770    -406.609     549.276\n",
      "x253         151.9334    257.670      0.590      0.555    -353.108     656.975\n",
      "x254         678.7791    309.838      2.191      0.028      71.488    1286.070\n",
      "x255        -113.3017    207.812     -0.545      0.586    -520.620     294.016\n",
      "x256         -54.9339    244.153     -0.225      0.822    -533.481     423.613\n",
      "x257        -666.0926    287.197     -2.319      0.020   -1229.008    -103.177\n",
      "x258       -1066.1292   1472.953     -0.724      0.469   -3953.162    1820.904\n",
      "x259                0          0        nan        nan           0           0\n",
      "x260                0          0        nan        nan           0           0\n",
      "x261                0          0        nan        nan           0           0\n",
      "x262                0          0        nan        nan           0           0\n",
      "x263                0          0        nan        nan           0           0\n",
      "x264                0          0        nan        nan           0           0\n",
      "x265       -2208.2935    244.189     -9.043      0.000   -2686.912   -1729.675\n",
      "x266        1783.2421    398.657      4.473      0.000    1001.862    2564.622\n",
      "x267        -404.5901    203.849     -1.985      0.047    -804.139      -5.041\n",
      "x268        -861.0892    213.429     -4.035      0.000   -1279.417    -442.761\n",
      "x269         465.4551    249.324      1.867      0.062     -23.227     954.137\n",
      "x270        -191.0830    184.850     -1.034      0.301    -553.395     171.229\n",
      "x271         416.4272    224.052      1.859      0.063     -22.721     855.575\n",
      "x272         -66.1978    228.652     -0.290      0.772    -514.362     381.966\n",
      "x273       -2581.8936   1322.492     -1.952      0.051   -5174.018      10.230\n",
      "x274                0          0        nan        nan           0           0\n",
      "x275                0          0        nan        nan           0           0\n",
      "x276                0          0        nan        nan           0           0\n",
      "x277                0          0        nan        nan           0           0\n",
      "x278                0          0        nan        nan           0           0\n",
      "x279       -2137.9371    228.745     -9.346      0.000   -2586.285   -1689.589\n",
      "x280        -127.2961    382.345     -0.333      0.739    -876.704     622.111\n",
      "x281        -269.1746    191.492     -1.406      0.160    -644.504     106.155\n",
      "x282        -635.8239    200.968     -3.164      0.002   -1029.727    -241.921\n",
      "x283         582.0363    233.456      2.493      0.013     124.456    1039.617\n",
      "x284         -98.0156    164.508     -0.596      0.551    -420.457     224.425\n",
      "x285         293.4450    214.189      1.370      0.171    -126.371     713.261\n",
      "x286        -189.1276    200.540     -0.943      0.346    -582.192     203.937\n",
      "x287       -1601.1989   1129.258     -1.418      0.156   -3814.579     612.181\n",
      "x288                0          0        nan        nan           0           0\n",
      "x289                0          0        nan        nan           0           0\n",
      "x290                0          0        nan        nan           0           0\n",
      "x291                0          0        nan        nan           0           0\n",
      "x292       -1780.0625    206.539     -8.619      0.000   -2184.885   -1375.239\n",
      "x293        -216.4411    370.134     -0.585      0.559    -941.915     509.033\n",
      "x294        -149.5672    164.993     -0.907      0.365    -472.958     173.824\n",
      "x295        -453.3177    175.860     -2.578      0.010    -798.008    -108.628\n",
      "x296         696.1372    214.390      3.247      0.001     275.927    1116.347\n",
      "x297          91.8233    145.575      0.631      0.528    -193.508     377.155\n",
      "x298         354.2149    182.040      1.946      0.052      -2.589     711.018\n",
      "x299        -143.9858    205.449     -0.701      0.483    -546.673     258.701\n",
      "x300       -1284.1367   1120.254     -1.146      0.252   -3479.868     911.595\n",
      "x301                0          0        nan        nan           0           0\n",
      "x302                0          0        nan        nan           0           0\n",
      "x303                0          0        nan        nan           0           0\n",
      "x304       -1250.6397    205.696     -6.080      0.000   -1653.810    -847.470\n",
      "x305        -658.4172    370.232     -1.778      0.075   -1384.082      67.248\n",
      "x306          37.8958    168.952      0.224      0.823    -293.254     369.046\n",
      "x307        -110.1525    176.886     -0.623      0.533    -456.854     236.549\n",
      "x308         732.6869    214.339      3.418      0.001     312.576    1152.798\n",
      "x309         118.5100    140.583      0.843      0.399    -157.036     394.056\n",
      "x310          99.1830    178.778      0.555      0.579    -251.227     449.593\n",
      "x311        -253.2030    203.520     -1.244      0.213    -652.108     145.701\n",
      "x312        -517.8777   1112.719     -0.465      0.642   -2698.841    1663.085\n",
      "x313                0          0        nan        nan           0           0\n",
      "x314                0          0        nan        nan           0           0\n",
      "x315        -394.4086    207.460     -1.901      0.057    -801.037      12.220\n",
      "x316        -931.9374    370.847     -2.513      0.012   -1658.808    -205.067\n",
      "x317         382.3854    169.468      2.256      0.024      50.223     714.548\n",
      "x318         577.3953    176.834      3.265      0.001     230.796     923.995\n",
      "x319         533.3940    212.319      2.512      0.012     117.243     949.545\n",
      "x320           9.4590    144.962      0.065      0.948    -274.670     293.588\n",
      "x321        -107.4490    177.352     -0.606      0.545    -455.065     240.167\n",
      "x322        -586.7164    202.848     -2.892      0.004    -984.305    -189.128\n",
      "x323        1619.0525   1100.510      1.471      0.141    -537.980    3776.085\n",
      "x324                0          0        nan        nan           0           0\n",
      "x325         607.7699    211.077      2.879      0.004     194.053    1021.487\n",
      "x326        -897.8830    370.523     -2.423      0.015   -1624.119    -171.647\n",
      "x327         699.1851    165.208      4.232      0.000     375.373    1022.997\n",
      "x328        1153.5440    175.822      6.561      0.000     808.928    1498.160\n",
      "x329         596.4270    212.070      2.812      0.005     180.763    1012.091\n",
      "x330         150.5002    148.376      1.014      0.310    -140.321     441.322\n",
      "x331        -126.1961    179.730     -0.702      0.483    -478.472     226.080\n",
      "x332        -564.2945    203.786     -2.769      0.006    -963.722    -164.868\n",
      "x333        4354.5750   1169.961      3.722      0.000    2061.416    6647.734\n",
      "x334        2185.2427    222.263      9.832      0.000    1749.601    2620.884\n",
      "x335       -1155.5265    385.217     -3.000      0.003   -1910.563    -400.490\n",
      "x336        1093.3632    174.176      6.277      0.000     751.972    1434.754\n",
      "x337        2113.4986    182.638     11.572      0.000    1755.523    2471.475\n",
      "x338         733.3875    222.975      3.289      0.001     296.350    1170.425\n",
      "x339         364.0698    148.944      2.444      0.015      72.134     656.005\n",
      "x340        -320.1728    204.233     -1.568      0.117    -720.475      80.129\n",
      "x341        -659.2875    210.052     -3.139      0.002   -1070.995    -247.580\n",
      "x342       -4978.3287   1296.854     -3.839      0.000   -7520.201   -2436.457\n",
      "x343                0          0        nan        nan           0           0\n",
      "x344                0          0        nan        nan           0           0\n",
      "x345                0          0        nan        nan           0           0\n",
      "x346                0          0        nan        nan           0           0\n",
      "x347                0          0        nan        nan           0           0\n",
      "x348                0          0        nan        nan           0           0\n",
      "x349                0          0        nan        nan           0           0\n",
      "x350       -2204.2593   2546.518     -0.866      0.387   -7195.511    2786.993\n",
      "x351                0          0        nan        nan           0           0\n",
      "x352                0          0        nan        nan           0           0\n",
      "x353                0          0        nan        nan           0           0\n",
      "x354                0          0        nan        nan           0           0\n",
      "x355                0          0        nan        nan           0           0\n",
      "x356                0          0        nan        nan           0           0\n",
      "x357        1389.4976   1071.576      1.297      0.195    -710.824    3489.819\n",
      "x358                0          0        nan        nan           0           0\n",
      "x359                0          0        nan        nan           0           0\n",
      "x360                0          0        nan        nan           0           0\n",
      "x361                0          0        nan        nan           0           0\n",
      "x362                0          0        nan        nan           0           0\n",
      "x363        1784.0546   1141.192      1.563      0.118    -452.717    4020.826\n",
      "x364                0          0        nan        nan           0           0\n",
      "x365                0          0        nan        nan           0           0\n",
      "x366                0          0        nan        nan           0           0\n",
      "x367                0          0        nan        nan           0           0\n",
      "x368        4339.5241   1429.734      3.035      0.002    1537.203    7141.845\n",
      "x369                0          0        nan        nan           0           0\n",
      "x370                0          0        nan        nan           0           0\n",
      "x371                0          0        nan        nan           0           0\n",
      "x372         445.2636    884.227      0.504      0.615   -1287.849    2178.376\n",
      "x373                0          0        nan        nan           0           0\n",
      "x374                0          0        nan        nan           0           0\n",
      "x375         609.4520   1189.465      0.512      0.608   -1721.936    2940.840\n",
      "x376                0          0        nan        nan           0           0\n",
      "x377       -2462.8126   1304.491     -1.888      0.059   -5019.655      94.029\n",
      "==============================================================================\n",
      "Omnibus:                     8072.532   Durbin-Watson:                   2.001\n",
      "Prob(Omnibus):                  0.000   Jarque-Bera (JB):           296332.106\n",
      "Skew:                          -0.318   Prob(JB):                         0.00\n",
      "Kurtosis:                      17.014   Cond. No.                     1.00e+16\n",
      "==============================================================================\n",
      "\n",
      "Warnings:\n",
      "[1] Standard Errors assume that the covariance matrix of the errors is correctly specified.\n",
      "[2] The smallest eigenvalue is 1.39e-20. This might indicate that there are\n",
      "strong multicollinearity problems or that the design matrix is singular.\n"
     ]
    },
    {
     "name": "stderr",
     "output_type": "stream",
     "text": [
      "C:\\Users\\Public\\Anaconda3\\lib\\site-packages\\statsmodels\\base\\model.py:1036: RuntimeWarning: invalid value encountered in true_divide\n",
      "  return self.params / self.bse\n",
      "C:\\Users\\Public\\Anaconda3\\lib\\site-packages\\scipy\\stats\\_distn_infrastructure.py:879: RuntimeWarning: invalid value encountered in greater\n",
      "  return (self.a < x) & (x < self.b)\n",
      "C:\\Users\\Public\\Anaconda3\\lib\\site-packages\\scipy\\stats\\_distn_infrastructure.py:879: RuntimeWarning: invalid value encountered in less\n",
      "  return (self.a < x) & (x < self.b)\n",
      "C:\\Users\\Public\\Anaconda3\\lib\\site-packages\\scipy\\stats\\_distn_infrastructure.py:1821: RuntimeWarning: invalid value encountered in less_equal\n",
      "  cond2 = cond0 & (x <= self.a)\n"
     ]
    }
   ],
   "source": [
    "est = sm.OLS(y_train, X_train)\n",
    "est2 = est.fit()\n",
    "print(est2.summary())"
   ]
  },
  {
   "cell_type": "markdown",
   "metadata": {},
   "source": [
    "We get much better R-square, let's see the performance over the test set."
   ]
  },
  {
   "cell_type": "code",
   "execution_count": 38,
   "metadata": {},
   "outputs": [
    {
     "name": "stdout",
     "output_type": "stream",
     "text": [
      "prediction correlation: 0.9484393684864535\n",
      "The mean squared error is: 1663906.0475494706 \n",
      "The mean absolute error is: 410.19389980501325 \n",
      "The mean precentage error is: 16.35402204368036% \n"
     ]
    }
   ],
   "source": [
    "y_pred = est2.predict(X_test)\n",
    "\n",
    "from sklearn import metrics \n",
    "corr = np.corrcoef(y_test,y_pred)[1,0]\n",
    "print(\"prediction correlation: {}\".format(corr))\n",
    "print(\"The mean squared error is: {} \".format(metrics.mean_squared_error(y_test, y_pred)))\n",
    "print(\"The mean absolute error is: {} \".format(metrics.mean_absolute_error(y_test, y_pred)))\n",
    "print(\"The mean precentage error is: {}% \".format(np.mean(np.abs((y_test - y_pred) / y_test)) * 100))"
   ]
  },
  {
   "cell_type": "code",
   "execution_count": 39,
   "metadata": {},
   "outputs": [
    {
     "data": {
      "image/png": "[encoded data removed]",
      "text/plain": [
       "<matplotlib.figure.Figure at 0x2a61255af28>"
      ]
     },
     "metadata": {},
     "output_type": "display_data"
    }
   ],
   "source": [
    "plt.plot(y_test, y_pred, '.')\n",
    "plt.title('Predicted vs. Actual')\n",
    "plt.xlabel('Actual')\n",
    "plt.ylabel('Predicted')\n",
    "plt.ylim(0,10000)\n",
    "plt.show()"
   ]
  },
  {
   "cell_type": "markdown",
   "metadata": {},
   "source": [
    "## <a name=\"regression_tree\"></a>Regression Trees\n",
    "Very similar to classification trees.  \n",
    "Regression trees use a different metric in order to split a tree node, and the decision in each leaf defined by the average value."
   ]
  },
  {
   "cell_type": "code",
   "execution_count": 41,
   "metadata": {},
   "outputs": [
    {
     "data": {
      "text/plain": [
       "DecisionTreeRegressor(criterion='mse', max_depth=5, max_features=None,\n",
       "           max_leaf_nodes=None, min_impurity_decrease=0.0,\n",
       "           min_impurity_split=None, min_samples_leaf=1,\n",
       "           min_samples_split=2, min_weight_fraction_leaf=0.0,\n",
       "           presort=False, random_state=None, splitter='best')"
      ]
     },
     "execution_count": 41,
     "metadata": {},
     "output_type": "execute_result"
    }
   ],
   "source": [
    "from sklearn.tree import DecisionTreeRegressor\n",
    "regr_tree = DecisionTreeRegressor(max_depth=5)\n",
    "X_train, X_test, y_train, y_test = train_test_split(diamonds_with_dummies.drop(['price'],axis=1), diamonds_with_dummies.loc[:,'price'], test_size=0.33, random_state=42)\n",
    "regr_tree.fit(X_train, y_train)"
   ]
  },
  {
   "cell_type": "code",
   "execution_count": 42,
   "metadata": {},
   "outputs": [
    {
     "ename": "InvocationException",
     "evalue": "GraphViz's executables not found",
     "output_type": "error",
     "traceback": [
      "\u001b[1;31m---------------------------------------------------------------------------\u001b[0m",
      "\u001b[1;31mInvocationException\u001b[0m                       Traceback (most recent call last)",
      "\u001b[1;32m<ipython-input-42-4647e750ac47>\u001b[0m in \u001b[0;36m<module>\u001b[1;34m()\u001b[0m\n\u001b[0;32m      9\u001b[0m                 special_characters=True)\n\u001b[0;32m     10\u001b[0m \u001b[0mgraph\u001b[0m \u001b[1;33m=\u001b[0m \u001b[0mpydotplus\u001b[0m\u001b[1;33m.\u001b[0m\u001b[0mgraph_from_dot_data\u001b[0m\u001b[1;33m(\u001b[0m\u001b[0mdot_data\u001b[0m\u001b[1;33m.\u001b[0m\u001b[0mgetvalue\u001b[0m\u001b[1;33m(\u001b[0m\u001b[1;33m)\u001b[0m\u001b[1;33m)\u001b[0m\u001b[1;33m\u001b[0m\u001b[0m\n\u001b[1;32m---> 11\u001b[1;33m \u001b[0mImage\u001b[0m\u001b[1;33m(\u001b[0m\u001b[0mgraph\u001b[0m\u001b[1;33m.\u001b[0m\u001b[0mcreate_png\u001b[0m\u001b[1;33m(\u001b[0m\u001b[1;33m)\u001b[0m\u001b[1;33m)\u001b[0m\u001b[1;33m\u001b[0m\u001b[0m\n\u001b[0m\u001b[0;32m     12\u001b[0m \u001b[1;33m\u001b[0m\u001b[0m\n\u001b[0;32m     13\u001b[0m \u001b[1;31m# if you encounter with grphic related issues: https://stackoverflow.com/questions/18438997/why-is-pydot-unable-to-find-graphvizs-executables-in-windows-8\u001b[0m\u001b[1;33m\u001b[0m\u001b[1;33m\u001b[0m\u001b[0m\n",
      "\u001b[1;32mC:\\Users\\Public\\Anaconda3\\lib\\site-packages\\pydotplus\\graphviz.py\u001b[0m in \u001b[0;36m<lambda>\u001b[1;34m(f, prog)\u001b[0m\n\u001b[0;32m   1795\u001b[0m             self.__setattr__(\n\u001b[0;32m   1796\u001b[0m                 \u001b[1;34m'create_'\u001b[0m \u001b[1;33m+\u001b[0m \u001b[0mfrmt\u001b[0m\u001b[1;33m,\u001b[0m\u001b[1;33m\u001b[0m\u001b[0m\n\u001b[1;32m-> 1797\u001b[1;33m                 \u001b[1;32mlambda\u001b[0m \u001b[0mf\u001b[0m\u001b[1;33m=\u001b[0m\u001b[0mfrmt\u001b[0m\u001b[1;33m,\u001b[0m \u001b[0mprog\u001b[0m\u001b[1;33m=\u001b[0m\u001b[0mself\u001b[0m\u001b[1;33m.\u001b[0m\u001b[0mprog\u001b[0m\u001b[1;33m:\u001b[0m \u001b[0mself\u001b[0m\u001b[1;33m.\u001b[0m\u001b[0mcreate\u001b[0m\u001b[1;33m(\u001b[0m\u001b[0mformat\u001b[0m\u001b[1;33m=\u001b[0m\u001b[0mf\u001b[0m\u001b[1;33m,\u001b[0m \u001b[0mprog\u001b[0m\u001b[1;33m=\u001b[0m\u001b[0mprog\u001b[0m\u001b[1;33m)\u001b[0m\u001b[1;33m\u001b[0m\u001b[0m\n\u001b[0m\u001b[0;32m   1798\u001b[0m             )\n\u001b[0;32m   1799\u001b[0m             \u001b[0mf\u001b[0m \u001b[1;33m=\u001b[0m \u001b[0mself\u001b[0m\u001b[1;33m.\u001b[0m\u001b[0m__dict__\u001b[0m\u001b[1;33m[\u001b[0m\u001b[1;34m'create_'\u001b[0m \u001b[1;33m+\u001b[0m \u001b[0mfrmt\u001b[0m\u001b[1;33m]\u001b[0m\u001b[1;33m\u001b[0m\u001b[0m\n",
      "\u001b[1;32mC:\\Users\\Public\\Anaconda3\\lib\\site-packages\\pydotplus\\graphviz.py\u001b[0m in \u001b[0;36mcreate\u001b[1;34m(self, prog, format)\u001b[0m\n\u001b[0;32m   1958\u001b[0m             \u001b[1;32mif\u001b[0m \u001b[0mself\u001b[0m\u001b[1;33m.\u001b[0m\u001b[0mprogs\u001b[0m \u001b[1;32mis\u001b[0m \u001b[1;32mNone\u001b[0m\u001b[1;33m:\u001b[0m\u001b[1;33m\u001b[0m\u001b[0m\n\u001b[0;32m   1959\u001b[0m                 raise InvocationException(\n\u001b[1;32m-> 1960\u001b[1;33m                     'GraphViz\\'s executables not found')\n\u001b[0m\u001b[0;32m   1961\u001b[0m \u001b[1;33m\u001b[0m\u001b[0m\n\u001b[0;32m   1962\u001b[0m         \u001b[1;32mif\u001b[0m \u001b[0mprog\u001b[0m \u001b[1;32mnot\u001b[0m \u001b[1;32min\u001b[0m \u001b[0mself\u001b[0m\u001b[1;33m.\u001b[0m\u001b[0mprogs\u001b[0m\u001b[1;33m:\u001b[0m\u001b[1;33m\u001b[0m\u001b[0m\n",
      "\u001b[1;31mInvocationException\u001b[0m: GraphViz's executables not found"
     ]
    }
   ],
   "source": [
    "from sklearn.externals.six import StringIO # StringIO is a class that support input and output operations \n",
    "from IPython.display import Image  \n",
    "from sklearn.tree import export_graphviz\n",
    "import pydotplus # might need to install it first\n",
    "\n",
    "dot_data = StringIO()\n",
    "export_graphviz(regr_tree, out_file=dot_data,  \n",
    "                filled=True, rounded=True,\n",
    "                special_characters=True)\n",
    "graph = pydotplus.graph_from_dot_data(dot_data.getvalue())  \n",
    "Image(graph.create_png())\n",
    "    \n",
    "# if you encounter with grphic related issues: https://stackoverflow.com/questions/18438997/why-is-pydot-unable-to-find-graphvizs-executables-in-windows-8"
   ]
  },
  {
   "cell_type": "code",
   "execution_count": 43,
   "metadata": {},
   "outputs": [],
   "source": [
    "# Predict\n",
    "y_pred = regr_tree.predict(X_test)"
   ]
  },
  {
   "cell_type": "markdown",
   "metadata": {},
   "source": [
    "Notice that predictions are not continuous "
   ]
  },
  {
   "cell_type": "code",
   "execution_count": 44,
   "metadata": {},
   "outputs": [
    {
     "name": "stdout",
     "output_type": "stream",
     "text": [
      "prediction correlation: 0.9560876331621803\n",
      "The mean squared error is: 1341856.537769226 \n",
      "The mean absolute error is: 638.8954267295866 \n",
      "The mean precentage error is: 17.733446393388473% \n"
     ]
    }
   ],
   "source": [
    "from sklearn import metrics \n",
    "corr = np.corrcoef(y_test,y_pred)[1,0]\n",
    "print(\"prediction correlation: {}\".format(corr))\n",
    "print(\"The mean squared error is: {} \".format(metrics.mean_squared_error(y_test, y_pred)))\n",
    "print(\"The mean absolute error is: {} \".format(metrics.mean_absolute_error(y_test, y_pred)))\n",
    "print(\"The mean precentage error is: {}% \".format(np.mean(np.abs((y_test - y_pred) / y_test)) * 100))"
   ]
  },
  {
   "cell_type": "code",
   "execution_count": 45,
   "metadata": {},
   "outputs": [
    {
     "data": {
      "text/plain": [
       "[(0, 0.001)]"
      ]
     },
     "execution_count": 45,
     "metadata": {},
     "output_type": "execute_result"
    },
    {
     "data": {
      "image/png": "[encoded data removed]",
      "text/plain": [
       "<matplotlib.figure.Figure at 0x2a6131437b8>"
      ]
     },
     "metadata": {},
     "output_type": "display_data"
    }
   ],
   "source": [
    "residuals = y_pred - y_test\n",
    "g = sns.distplot(residuals)\n",
    "g.set(xlim=(-15000, 15000))\n",
    "g.set(ylim=(0, 0.001))"
   ]
  },
  {
   "cell_type": "code",
   "execution_count": 46,
   "metadata": {},
   "outputs": [
    {
     "data": {
      "image/png": "[encoded data removed]",
      "text/plain": [
       "<matplotlib.figure.Figure at 0x2a613143550>"
      ]
     },
     "metadata": {},
     "output_type": "display_data"
    }
   ],
   "source": [
    "plt.plot(y_test, y_pred, '.')\n",
    "plt.title('Predicted vs. Actual')\n",
    "plt.xlabel('Actual')\n",
    "plt.ylabel('Predicted')\n",
    "plt.show()"
   ]
  },
  {
   "cell_type": "markdown",
   "metadata": {},
   "source": [
    "Seems to be rather good!"
   ]
  }
 ],
 "metadata": {
  "kernelspec": {
   "display_name": "Python 2",
   "language": "python",
   "name": "python2"
  },
  "language_info": {
   "codemirror_mode": {
    "name": "ipython",
    "version": 2
   },
   "file_extension": ".py",
   "mimetype": "text/x-python",
   "name": "python",
   "nbconvert_exporter": "python",
   "pygments_lexer": "ipython2",
   "version": "2.7.15"
  }
 },
 "nbformat": 4,
 "nbformat_minor": 2
}
