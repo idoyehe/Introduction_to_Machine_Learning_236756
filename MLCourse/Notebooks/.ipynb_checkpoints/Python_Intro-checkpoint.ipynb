{
 "cells": [
  {
   "cell_type": "markdown",
   "metadata": {},
   "source": [
    "# Python Intro\n",
    "\n",
    "In this intro notebook, we will cover quickly some of the basic data structures and functionallity while coding with Python. \n",
    "\n",
    "This section will cover:\n",
    "* [Hello World](#hello_world)\n",
    "* [Basic data types](#basic_data_types)\n",
    "    * [Basic primitives](#basic_primitives)\n",
    "    * [Collection data structures](#collection_data_structures)\n",
    "        * [List](#list)\n",
    "        * [Tuple](#tuple)\n",
    "        * [Dictionary](#dictionary)\n",
    "        * [Set](#set)\n",
    "* [Fucntions](#functions)\n",
    "* [Packages](#packages)\n",
    "* [Loops](#loops)\n",
    "\n",
    "---"
   ]
  },
  {
   "cell_type": "markdown",
   "metadata": {},
   "source": [
    "## <a name=\"hello_world\"></a>Hello World"
   ]
  },
  {
   "cell_type": "code",
   "execution_count": 1,
   "metadata": {},
   "outputs": [
    {
     "name": "stdout",
     "output_type": "stream",
     "text": [
      "hello worldd!\n",
      "hello world!!!\n",
      "hello world :)\n",
      "hi world :)\n",
      "hello world :)\n",
      "hi world :) oren\n",
      "type of int1: <type 'int'>\n",
      "type of float1: <type 'float'>\n"
     ]
    }
   ],
   "source": [
    "# simple print\n",
    "print(\"hello world!\")\n",
    "\n",
    "# variable assignment\n",
    "str1 = \"hello world!!!\"\n",
    "\n",
    "# print variable\n",
    "print(str1)\n",
    "str1=\"oren\"\n",
    "str2 = \"world :)\"\n",
    "print(\"hello \" + str2)\n",
    "print(\"hi {}\".format(str2))\n",
    "print(\"hello \" + str2)\n",
    "print(\"hi {} {}\".format(str2,str1))\n",
    "\n",
    "\n",
    "# checking type of a variable\n",
    "int1 = 5\n",
    "float1 = 5.\n",
    "\n",
    "res = type(int1)\n",
    "\n",
    "print(\"type of int1: {}\".format(res))\n",
    "print(\"type of float1: {}\".format(type(float1)))"
   ]
  },
  {
   "cell_type": "markdown",
   "metadata": {},
   "source": [
    "## <a name=\"basic_data_types\"></a>Basic Data Types\n",
    "Python support various data types like any other programming language.  \n",
    "In general we can divide them to primitive (simple) types and non primitive.\n",
    "\n",
    "![alt text](http://res.cloudinary.com/dyd911kmh/image/upload/c_scale,f_auto,q_auto:best,w_700/v1512740202/Template_2_oxrskq.png)"
   ]
  },
  {
   "cell_type": "markdown",
   "metadata": {},
   "source": [
    "### <a name=\"basic_primitives\"></a>Basic Primitives\n",
    "Primitived types include: int, float, boolean and strings."
   ]
  },
  {
   "cell_type": "markdown",
   "metadata": {},
   "source": [
    "#### <a name=\"float\"></a>Float - Common Operations"
   ]
  },
  {
   "cell_type": "code",
   "execution_count": 2,
   "metadata": {},
   "outputs": [
    {
     "name": "stdout",
     "output_type": "stream",
     "text": [
      "x + y :7.0\n",
      "x - y :3.0\n",
      "x * y :10.0\n",
      "x / y :2.5\n",
      "x % y :1.0\n",
      "abs(x) :5.0\n",
      "x ^ y :25.0\n"
     ]
    }
   ],
   "source": [
    "# Floats\n",
    "x = 5.0\n",
    "y = 2.0\n",
    "\n",
    "# Addition\n",
    "print(\"x + y :{}\".format(x + y))\n",
    "\n",
    "# Subtraction\n",
    "print(\"x - y :{}\".format(x - y))\n",
    "\n",
    "# Multiplication\n",
    "print(\"x * y :{}\".format(x * y))\n",
    "\n",
    "# Returns the quotient\n",
    "print(\"x / y :{}\".format(x / y))\n",
    "\n",
    "# Returns the remainder \n",
    "print(\"x % y :{}\".format(x % y))\n",
    "\n",
    "# Absolute value\n",
    "print(\"abs(x) :{}\".format(abs(x)))\n",
    "\n",
    "# x to the power y\n",
    "print(\"x ^ y :{}\".format(x ** y))"
   ]
  },
  {
   "cell_type": "markdown",
   "metadata": {},
   "source": [
    "#### <a name=\"string\"></a>String - Common Operations"
   ]
  },
  {
   "cell_type": "code",
   "execution_count": 3,
   "metadata": {},
   "outputs": [
    {
     "name": "stdout",
     "output_type": "stream",
     "text": [
      "Concat: Cake & Cookie\n",
      "Repeat: CakeCake\n",
      "Range slicing: Cak\n",
      "Specific slicing: C\n",
      "Capitalize: Cookie\n",
      "Length of string Cake 4 U is: 8\n",
      "'Cake 4 U' is digits: False\n",
      "'404' is digits: True\n",
      "Replacing substring: Cake 404\n",
      "Finding substring starting at: 12\n"
     ]
    }
   ],
   "source": [
    "x = 'Cake'\n",
    "y = 'Cookie'\n",
    "\n",
    "# Concat\n",
    "print('Concat: ' + x + ' & ' + y)\n",
    "\n",
    "# Repeat\n",
    "print('Repeat: ' + x * 2)\n",
    "\n",
    "# Range Slicing\n",
    "print(\"Range slicing: \" + x[:3])\n",
    "\n",
    "# Slicing\n",
    "print(\"Specific slicing: \" + y[0])\n",
    "\n",
    "# Capitalize\n",
    "print(\"Capitalize: \" + str.capitalize('cookie'))\n",
    "\n",
    "str1 = \"Cake 4 U\"\n",
    "str2 = \"404\"\n",
    "\n",
    "# Length\n",
    "print(\"Length of string {} is: {}\".format(str1, len(str1)))\n",
    "\n",
    "# Is digits\n",
    "print(\"'{}' is digits: {}\".format(str1, str1.isdigit()))\n",
    "print(\"'{}' is digits: {}\".format(str2, str2.isdigit()))\n",
    "\n",
    "# Replace part of string\n",
    "print(\"Replacing substring: \" + str1.replace('4 U', str2))\n",
    "\n",
    "# Find substring within a string\n",
    "str1 = 'I got you a cookie'\n",
    "str2 = 'cook'\n",
    "print(\"Finding substring starting at: {}\".format(str1.find(str2)))"
   ]
  },
  {
   "cell_type": "markdown",
   "metadata": {},
   "source": [
    "#### <a name=\"boolean\"></a>Boolean - Common Operations"
   ]
  },
  {
   "cell_type": "code",
   "execution_count": 4,
   "metadata": {},
   "outputs": [
    {
     "name": "stdout",
     "output_type": "stream",
     "text": [
      "x == y: False\n",
      "x > y: True\n"
     ]
    }
   ],
   "source": [
    "x = 4\n",
    "y = 2\n",
    "print(\"x == y: {}\".format(x == y))\n",
    "print(\"x > y: {}\".format(x > y))"
   ]
  },
  {
   "cell_type": "markdown",
   "metadata": {},
   "source": [
    "### <a name=\"collection_data_structures\"></a>Collections Data Structures"
   ]
  },
  {
   "cell_type": "markdown",
   "metadata": {},
   "source": [
    "#### <a name=\"list\"></a>List\n",
    "Lists in Python are used to store collection of heterogeneous items.  \n",
    "They are mutable, which means that you can change their content without changing their identity.  \n",
    "You can recognize lists by their square brackets [ and ] that hold elements, separated by a comma."
   ]
  },
  {
   "cell_type": "code",
   "execution_count": 5,
   "metadata": {},
   "outputs": [
    {
     "name": "stdout",
     "output_type": "stream",
     "text": [
      "type of x1: <class 'list'>\n",
      "type of x2: <class 'list'>\n",
      "new modified x2: [1, 4, 3]\n"
     ]
    }
   ],
   "source": [
    "# integer list\n",
    "x1 = [1,2,3]\n",
    "print(\"type of x1: {}\".format(type(x1)))\n",
    "\n",
    "# heterogenous list\n",
    "x2 = [1,'apple',3]\n",
    "print(\"type of x2: {}\".format(type(x2)))\n",
    "\n",
    "# modify list\n",
    "x2[1] = 4\n",
    "print(\"new modified x2: {}\".format(x2))"
   ]
  },
  {
   "cell_type": "markdown",
   "metadata": {},
   "source": [
    "Common list methods:"
   ]
  },
  {
   "cell_type": "code",
   "execution_count": 6,
   "metadata": {},
   "outputs": [
    {
     "name": "stdout",
     "output_type": "stream",
     "text": [
      "[1, 2, 45, 6, 7, 2, 90, 23, 435]\n",
      "['c', 'o', 'o', 'k', 'i', 'e']\n",
      "append: [1, 2, 45, 6, 7, 2, 90, 23, 435, 11]\n",
      "adding in 0 index: [11, 1, 2, 45, 6, 7, 2, 90, 23, 435, 11]\n",
      "remove the first occurance of a char: ['c', 'o', 'k', 'i', 'e']\n",
      "remove a specific index: ['c', 'o', 'k', 'e']\n"
     ]
    }
   ],
   "source": [
    "list_num = [1,2,45,6,7,2,90,23,435]\n",
    "list_char = ['c','o','o','k','i','e']\n",
    "\n",
    "print(list_num)\n",
    "print(list_char)\n",
    "\n",
    "# Insert at the end of the list\n",
    "list_num.append(11) \n",
    "print(\"append: {}\".format(list_num))\n",
    "\n",
    " # Insert at a specific index\n",
    "list_num.insert(0, 11)\n",
    "print(\"adding in 0 index: {}\".format(list_num))\n",
    "\n",
    "# Remove the first occurence of \n",
    "list_char.remove('o') \n",
    "print(\"remove the first occurance of a char: {}\".format(list_char))\n",
    "\n",
    "# Removes the item at the specified position\n",
    "list_char.pop(-2) \n",
    "print(\"remove a specific index: {}\".format(list_char))"
   ]
  },
  {
   "cell_type": "markdown",
   "metadata": {},
   "source": [
    "When we copy an object in python we actually creating another pointer to the same object."
   ]
  },
  {
   "cell_type": "code",
   "execution_count": 12,
   "metadata": {},
   "outputs": [
    {
     "name": "stdout",
     "output_type": "stream",
     "text": [
      "True\n",
      "[1, 2, 3, 4]\n",
      "list1: [1, 9, 3, 4]\n",
      "[1, 9, 3, 4]\n",
      "[1, 9, 3, 4]\n",
      "[1, 9, 3, 4]\n",
      "[1, 9, 99, 4]\n"
     ]
    }
   ],
   "source": [
    "list_1 = [1,2,3,4]\n",
    "list_2 = list_1\n",
    "print(list_1==list_2)\n",
    "\n",
    "print(list_1)\n",
    "list_2[1]=9\n",
    "print(\"list1: {}\".format(list_1))\n",
    "print(list_2)\n",
    "\n",
    "list_3 = list_1[:]\n",
    "print(list_3)\n",
    "list_3[2] = 99\n",
    "\n",
    "print(list_1)\n",
    "print(list_3)"
   ]
  },
  {
   "cell_type": "markdown",
   "metadata": {},
   "source": [
    "If we will slice the data we will get an actual copy of the data instead of a pointer"
   ]
  },
  {
   "cell_type": "code",
   "execution_count": 8,
   "metadata": {},
   "outputs": [
    {
     "name": "stdout",
     "output_type": "stream",
     "text": [
      "[1, 2, 3, 4]\n",
      "[1, 2, 3, 4]\n",
      "[1, 9, 3, 4]\n"
     ]
    }
   ],
   "source": [
    "list_1 = [1,2,3,4]\n",
    "list_2 = list_1[:]\n",
    "print(list_1)\n",
    "list_2[1]=9\n",
    "print(list_1)\n",
    "print(list_2)"
   ]
  },
  {
   "cell_type": "markdown",
   "metadata": {},
   "source": [
    "#### <a name=\"tuple\"></a>Tuple\n",
    "Tuples are another standard sequence data type.  \n",
    "The difference between tuples and list is that tuples are immutable, which means once defined you cannot delete, add or edit any values inside it.  \n",
    "This might be useful in situations where you might to pass the control to someone else but you do not want them to manipulate data in your collection, but rather maybe just see them or perform operations separately in a copy of the data."
   ]
  },
  {
   "cell_type": "code",
   "execution_count": 9,
   "metadata": {},
   "outputs": [
    {
     "name": "stdout",
     "output_type": "stream",
     "text": [
      "(1, 2, 'd', 4, 5)\n",
      "e\n"
     ]
    }
   ],
   "source": [
    "x_tuple = (1,2,'d',4,5)\n",
    "y_tuple = 'c','a','k','e'\n",
    "print(x_tuple)\n",
    "print(y_tuple[3])"
   ]
  },
  {
   "cell_type": "markdown",
   "metadata": {},
   "source": [
    "If we will try to modify a tuple we will get an error."
   ]
  },
  {
   "cell_type": "code",
   "execution_count": 13,
   "metadata": {},
   "outputs": [
    {
     "ename": "TypeError",
     "evalue": "'tuple' object does not support item assignment",
     "output_type": "error",
     "traceback": [
      "\u001b[0;31m---------------------------------------------------------------------------\u001b[0m",
      "\u001b[0;31mTypeError\u001b[0m                                 Traceback (most recent call last)",
      "\u001b[0;32m<ipython-input-13-fd10b7e36f48>\u001b[0m in \u001b[0;36m<module>\u001b[0;34m()\u001b[0m\n\u001b[0;32m----> 1\u001b[0;31m \u001b[0mx_tuple\u001b[0m\u001b[0;34m[\u001b[0m\u001b[0;36m0\u001b[0m\u001b[0;34m]\u001b[0m \u001b[0;34m=\u001b[0m \u001b[0;36m0\u001b[0m\u001b[0;34m\u001b[0m\u001b[0m\n\u001b[0m",
      "\u001b[0;31mTypeError\u001b[0m: 'tuple' object does not support item assignment"
     ]
    }
   ],
   "source": [
    "x_tuple[0] = 0"
   ]
  },
  {
   "cell_type": "markdown",
   "metadata": {},
   "source": [
    "#### <a name=\"dictionary\"></a>Dictionary\n",
    "Dictionaries are exactly what you need if you want to implement something similar to a telephone book.  \n",
    "None of the data structures that you have seen before are suitable for a telephone book.  \n",
    "This is when a dictionary can come in handy.  \n",
    "Dictionaries are made up of key-value pairs.  \n",
    "key is used to identify the item and the value holds as the name suggests, the value of the item."
   ]
  },
  {
   "cell_type": "code",
   "execution_count": 14,
   "metadata": {},
   "outputs": [
    {
     "name": "stdout",
     "output_type": "stream",
     "text": [
      "{'Edward': 1, 'Jorge': 2, 'Prem': 3, 'Joe': 4}\n",
      "deleting 'Joe' key: {'Edward': 1, 'Jorge': 2, 'Prem': 3}\n",
      "print value for 'Edward' key: 1\n",
      "dictionary length: 3\n",
      "dictionary keys: dict_keys(['Edward', 'Jorge', 'Prem'])\n",
      "dictionary values: dict_values([1, 2, 3])\n",
      "added new key: {'Edward': 1, 'Jorge': 2, 'Prem': 3, 'Yossi': 5}\n"
     ]
    }
   ],
   "source": [
    "x_dict = {'Edward':1, 'Jorge':2, 'Prem':3, 'Joe':4}\n",
    "print(x_dict)\n",
    "\n",
    "# deleting from dictionary\n",
    "del x_dict['Joe']\n",
    "print(\"deleting 'Joe' key: {}\".format(x_dict))\n",
    "\n",
    "# selecting from dictionary\n",
    "print(\"print value for 'Edward' key: {}\".format(x_dict['Edward']))\n",
    "\n",
    "# length\n",
    "print(\"dictionary length: {}\".format(len(x_dict)))\n",
    "\n",
    "# get keys\n",
    "print(\"dictionary keys: {}\".format(x_dict.keys()))\n",
    "\n",
    "# get values\n",
    "print(\"dictionary values: {}\".format(x_dict.values()))\n",
    "\n",
    "# adding new key\n",
    "x_dict['Yossi']=5\n",
    "print(\"added new key: {}\".format(x_dict))"
   ]
  },
  {
   "cell_type": "markdown",
   "metadata": {},
   "source": [
    "#### <a name=\"set\"></a>Set\n",
    "Sets are a collection of distinct (unique) objects.  \n",
    "These are useful to create lists that only hold unique values in the dataset.  \n",
    "It is an unordered collection but a mutable one, this is very helpful when going through a huge dataset."
   ]
  },
  {
   "cell_type": "code",
   "execution_count": null,
   "metadata": {},
   "outputs": [],
   "source": [
    "x_set = set('CAKE&COKE')\n",
    "y_set = set('COOKKKKKKKKKKKIE')\n",
    "\n",
    "print(\"x: {}\".format(x_set))\n",
    "print(\"y: {}\".format(y_set))\n",
    "\n",
    "# All the elements in x_set but not in y_set\n",
    "print(\"x - y: {}\".format(x_set - y_set)) \n",
    "\n",
    "# Unique elements in x_set or y_set or both\n",
    "print(\"x | y: {}\".format(x_set | y_set)) \n",
    "\n",
    "# Elements in both x_set and y_set\n",
    "print(\"x & y: {}\".format(x_set & y_set)) "
   ]
  },
  {
   "cell_type": "markdown",
   "metadata": {},
   "source": [
    "## <a name=\"functions\"></a>Functions\n",
    "Using function we can define code procedures and use them later."
   ]
  },
  {
   "cell_type": "code",
   "execution_count": 16,
   "metadata": {},
   "outputs": [
    {
     "name": "stdout",
     "output_type": "stream",
     "text": [
      "b\n"
     ]
    }
   ],
   "source": [
    "def print_a():\n",
    "    print(\"a\")\n",
    "    print(\"aa\")\n",
    "    print('3')\n",
    "\n",
    "def print_b():\n",
    "    print(\"b\")\n",
    "    \n",
    "print_b() # using the function"
   ]
  },
  {
   "cell_type": "markdown",
   "metadata": {},
   "source": [
    "Functions can get parameters."
   ]
  },
  {
   "cell_type": "code",
   "execution_count": 17,
   "metadata": {},
   "outputs": [
    {
     "name": "stdout",
     "output_type": "stream",
     "text": [
      "stam\n"
     ]
    }
   ],
   "source": [
    "def my_print(str):\n",
    "    print(str)\n",
    "    \n",
    "my_print(\"stam\")"
   ]
  },
  {
   "cell_type": "markdown",
   "metadata": {},
   "source": [
    "In the \"my_print\" function the 'str' parameter is mandatory therefor we will get an error if we won't provide it while calling the function."
   ]
  },
  {
   "cell_type": "code",
   "execution_count": 18,
   "metadata": {},
   "outputs": [
    {
     "ename": "TypeError",
     "evalue": "my_print() missing 1 required positional argument: 'str'",
     "output_type": "error",
     "traceback": [
      "\u001b[0;31m---------------------------------------------------------------------------\u001b[0m",
      "\u001b[0;31mTypeError\u001b[0m                                 Traceback (most recent call last)",
      "\u001b[0;32m<ipython-input-18-4c217c20ad54>\u001b[0m in \u001b[0;36m<module>\u001b[0;34m()\u001b[0m\n\u001b[0;32m----> 1\u001b[0;31m \u001b[0mmy_print\u001b[0m\u001b[0;34m(\u001b[0m\u001b[0;34m)\u001b[0m \u001b[0;31m# will cause to error, because there is a missing param\u001b[0m\u001b[0;34m\u001b[0m\u001b[0m\n\u001b[0m",
      "\u001b[0;31mTypeError\u001b[0m: my_print() missing 1 required positional argument: 'str'"
     ]
    }
   ],
   "source": [
    "my_print() # will cause to error, because there is a missing param"
   ]
  },
  {
   "cell_type": "markdown",
   "metadata": {},
   "source": [
    "We can change the function to have default values, which make the parameter to be optional."
   ]
  },
  {
   "cell_type": "code",
   "execution_count": 5,
   "metadata": {},
   "outputs": [
    {
     "name": "stdout",
     "output_type": "stream",
     "text": [
      "hello\n",
      "stam\n"
     ]
    }
   ],
   "source": [
    "def my_print(str=\"hello\"): # Adding default value behaviour will make it optional param\n",
    "    print(str)\n",
    "    \n",
    "my_print()\n",
    "my_print(\"stam\")"
   ]
  },
  {
   "cell_type": "markdown",
   "metadata": {},
   "source": [
    "Python functions can also return more than one return value at once."
   ]
  },
  {
   "cell_type": "code",
   "execution_count": 4,
   "metadata": {},
   "outputs": [
    {
     "name": "stdout",
     "output_type": "stream",
     "text": [
      "1\n",
      "('z', 4)\n"
     ]
    }
   ],
   "source": [
    "def return_multiple():\n",
    "    return 1, ('z',4)\n",
    "\n",
    "a, b = return_multiple()\n",
    "print(a)\n",
    "print(b)"
   ]
  },
  {
   "cell_type": "markdown",
   "metadata": {},
   "source": [
    "## <a name=\"packages\"></a>Packages"
   ]
  },
  {
   "cell_type": "markdown",
   "metadata": {},
   "source": [
    "Python come with some basic set of packages.  \n",
    "When we want to use additional package in our code, we should first import it making the package accisible.  \n",
    "You can't use anything in Python before it is defined.  "
   ]
  },
  {
   "cell_type": "code",
   "execution_count": 20,
   "metadata": {},
   "outputs": [
    {
     "ename": "NameError",
     "evalue": "name 'math' is not defined",
     "output_type": "error",
     "traceback": [
      "\u001b[0;31m---------------------------------------------------------------------------\u001b[0m",
      "\u001b[0;31mNameError\u001b[0m                                 Traceback (most recent call last)",
      "\u001b[0;32m<ipython-input-20-ba176c33b95f>\u001b[0m in \u001b[0;36m<module>\u001b[0;34m()\u001b[0m\n\u001b[0;32m----> 1\u001b[0;31m \u001b[0mmath\u001b[0m\u001b[0;34m.\u001b[0m\u001b[0mceil\u001b[0m\u001b[0;34m(\u001b[0m\u001b[0;36m4.5\u001b[0m\u001b[0;34m)\u001b[0m \u001b[0;31m# We will get an error cause math is not defined\u001b[0m\u001b[0;34m\u001b[0m\u001b[0m\n\u001b[0m",
      "\u001b[0;31mNameError\u001b[0m: name 'math' is not defined"
     ]
    }
   ],
   "source": [
    "math.ceil(4.5) # We will get an error cause math is not defined "
   ]
  },
  {
   "cell_type": "markdown",
   "metadata": {},
   "source": [
    "Now let's first import the 'math' package."
   ]
  },
  {
   "cell_type": "code",
   "execution_count": 21,
   "metadata": {},
   "outputs": [
    {
     "data": {
      "text/plain": [
       "5"
      ]
     },
     "execution_count": 21,
     "metadata": {},
     "output_type": "execute_result"
    }
   ],
   "source": [
    "import math\n",
    "math.ceil(4.5) # Will work now"
   ]
  },
  {
   "cell_type": "code",
   "execution_count": null,
   "metadata": {},
   "outputs": [],
   "source": [
    "We can alias the package name."
   ]
  },
  {
   "cell_type": "code",
   "execution_count": 24,
   "metadata": {},
   "outputs": [
    {
     "data": {
      "text/plain": [
       "5"
      ]
     },
     "execution_count": 24,
     "metadata": {},
     "output_type": "execute_result"
    }
   ],
   "source": [
    "import math as m # We can rename the package\n",
    "m.ceil(4.5) # Will work now"
   ]
  },
  {
   "cell_type": "markdown",
   "metadata": {},
   "source": [
    "And we can improt specfic defintions from a python module."
   ]
  },
  {
   "cell_type": "code",
   "execution_count": 23,
   "metadata": {},
   "outputs": [
    {
     "data": {
      "text/plain": [
       "5"
      ]
     },
     "execution_count": 23,
     "metadata": {},
     "output_type": "execute_result"
    }
   ],
   "source": [
    "from math import ceil # Selective imports - We can import specific definitions from the math module\n",
    "ceil(4.5)"
   ]
  },
  {
   "cell_type": "markdown",
   "metadata": {},
   "source": [
    "## <a name=\"loops\"></a>Loops\n",
    "Python has standart loop functions"
   ]
  },
  {
   "cell_type": "code",
   "execution_count": null,
   "metadata": {},
   "outputs": [],
   "source": [
    "x=range(5)\n",
    "print(*x)\n",
    "\n",
    "x2=range(0,5)\n",
    "print(*x2)"
   ]
  },
  {
   "cell_type": "code",
   "execution_count": null,
   "metadata": {},
   "outputs": [],
   "source": [
    "# Prints out the numbers 0,1,2,3,4\n",
    "for x in range(5):\n",
    "    print(x)\n",
    "\n",
    "# Prints out 3,4,5\n",
    "for x in range(3, 6):\n",
    "    print(x)"
   ]
  },
  {
   "cell_type": "markdown",
   "metadata": {},
   "source": [
    "Now using the While operator:"
   ]
  },
  {
   "cell_type": "code",
   "execution_count": null,
   "metadata": {},
   "outputs": [],
   "source": [
    "count = 0\n",
    "while count < 5:\n",
    "    print(count)\n",
    "    count += 1  # This is the same as count = count + 1"
   ]
  }
 ],
 "metadata": {
  "kernelspec": {
   "display_name": "Python 2",
   "language": "python",
   "name": "python2"
  },
  "language_info": {
   "codemirror_mode": {
    "name": "ipython",
    "version": 2
   },
   "file_extension": ".py",
   "mimetype": "text/x-python",
   "name": "python",
   "nbconvert_exporter": "python",
   "pygments_lexer": "ipython2",
   "version": "2.7.15"
  }
 },
 "nbformat": 4,
 "nbformat_minor": 2
}
