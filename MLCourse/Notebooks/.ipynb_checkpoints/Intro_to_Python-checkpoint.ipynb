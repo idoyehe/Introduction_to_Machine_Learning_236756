{
 "cells": [
  {
   "cell_type": "markdown",
   "metadata": {},
   "source": [
    "# Introduction to Python\n",
    "\n",
    "Python is a programming language that lets you design and run machine learning algorithms more quickly. "
   ]
  },
  {
   "cell_type": "code",
   "execution_count": 2,
   "metadata": {},
   "outputs": [
    {
     "name": "stdout",
     "output_type": "stream",
     "text": [
      "hello world!\n",
      "hello world!!\n"
     ]
    }
   ],
   "source": [
    "# simple print\n",
    "print(\"hello world!\")\n",
    "\n",
    "# variable assignment\n",
    "str1 = \"hello world!!\"\n",
    "\n",
    "# print variable\n",
    "print(str1)\n"
   ]
  },
  {
   "cell_type": "code",
   "execution_count": 4,
   "metadata": {},
   "outputs": [
    {
     "name": "stdout",
     "output_type": "stream",
     "text": [
      "Hi Everybody :)\n",
      "hi Everybody :)\n"
     ]
    }
   ],
   "source": [
    "str1 = \"Hi\"\n",
    "str2 = \"Everybody :)\"\n",
    "print(str1 + \" \" + str2)\n",
    "print(\"Hi {}\".format(str2))"
   ]
  },
  {
   "cell_type": "code",
   "execution_count": 5,
   "metadata": {},
   "outputs": [
    {
     "name": "stdout",
     "output_type": "stream",
     "text": [
      "type of int_1: <class 'int'>\n",
      "type of float1: <class 'float'>\n"
     ]
    }
   ],
   "source": [
    "# checking type of a variable\n",
    "int_1 = 5\n",
    "float_1 = 5.\n",
    "\n",
    "print(\"type of int_1: {}\".format(type(int_1)))\n",
    "print(\"type of float1: {}\".format(type(float_1)))"
   ]
  },
  {
   "cell_type": "markdown",
   "metadata": {},
   "source": [
    "#### Floats:"
   ]
  },
  {
   "cell_type": "code",
   "execution_count": 7,
   "metadata": {},
   "outputs": [
    {
     "name": "stdout",
     "output_type": "stream",
     "text": [
      "x + y :7.0\n",
      "x - y :3.0\n",
      "x * y :10.0\n",
      "x / y :2.5\n",
      "x % y :1.0\n",
      "abs(x) :5.0\n",
      "x ^ y :25.0\n"
     ]
    }
   ],
   "source": [
    "x = 5.0\n",
    "y = 2.0\n",
    "\n",
    "# Addition\n",
    "print(\"x + y :{}\".format(x + y))\n",
    "\n",
    "# Subtraction\n",
    "print(\"x - y :{}\".format(x - y))\n",
    "\n",
    "# Multiplication\n",
    "print(\"x * y :{}\".format(x * y))\n",
    "\n",
    "# Returns the quotient\n",
    "print(\"x / y :{}\".format(x / y))\n",
    "\n",
    "# Returns the remainder \n",
    "print(\"x % y :{}\".format(x % y))\n",
    "\n",
    "# Absolute value\n",
    "print(\"abs(x) :{}\".format(abs(x)))\n",
    "\n",
    "# x to the power y\n",
    "print(\"x ^ y :{}\".format(x ** y))"
   ]
  },
  {
   "cell_type": "markdown",
   "metadata": {},
   "source": [
    "#### Strings:"
   ]
  },
  {
   "cell_type": "code",
   "execution_count": 9,
   "metadata": {},
   "outputs": [
    {
     "name": "stdout",
     "output_type": "stream",
     "text": [
      "Concat: Cake & Cookie\n",
      "Repeat: CakeCake\n",
      "Range slicing: Cak\n",
      "Specific slicing: C\n",
      "Capitalize: Cookie\n",
      "Length of string Cake 4 U is: 8\n",
      "'Cake 4 U' is digits: False\n",
      "'404' is digits: True\n",
      "Replacing substring: Cake 404\n",
      "Finding substring starting at: 12\n"
     ]
    }
   ],
   "source": [
    "x = 'Cake'\n",
    "y = 'Cookie'\n",
    "\n",
    "# Concat\n",
    "print('Concat: ' + x + ' & ' + y)\n",
    "\n",
    "# Repeat\n",
    "print('Repeat: ' + x * 2)\n",
    "\n",
    "# Range Slicing\n",
    "print(\"Range slicing: \" + x[:3])\n",
    "\n",
    "# Slicing\n",
    "print(\"Specific slicing: \" + y[0])\n",
    "\n",
    "# Capitalize\n",
    "print(\"Capitalize: \" + str.capitalize('cookie'))\n",
    "\n",
    "str1 = \"Cake 4 U\"\n",
    "str2 = \"404\"\n",
    "\n",
    "# Length\n",
    "print(\"Length of string {} is: {}\".format(str1, len(str1)))\n",
    "\n",
    "# Is digits\n",
    "print(\"'{}' is digits: {}\".format(str1, str1.isdigit()))\n",
    "print(\"'{}' is digits: {}\".format(str2, str2.isdigit()))\n",
    "\n",
    "# Replace part of string\n",
    "print(\"Replacing substring: \" + str1.replace('4 U', str2))\n",
    "\n",
    "# Find substring within a string\n",
    "str1 = 'I got you a cookie'\n",
    "str2 = 'cook'\n",
    "print(\"Finding substring starting at: {}\".format(str1.find(str2)))"
   ]
  },
  {
   "cell_type": "code",
   "execution_count": null,
   "metadata": {},
   "outputs": [],
   "source": []
  }
 ],
 "metadata": {
  "kernelspec": {
   "display_name": "Python 3",
   "language": "python",
   "name": "python3"
  },
  "language_info": {
   "codemirror_mode": {
    "name": "ipython",
    "version": 3
   },
   "file_extension": ".py",
   "mimetype": "text/x-python",
   "name": "python",
   "nbconvert_exporter": "python",
   "pygments_lexer": "ipython3",
   "version": "3.6.4"
  }
 },
 "nbformat": 4,
 "nbformat_minor": 2
}
