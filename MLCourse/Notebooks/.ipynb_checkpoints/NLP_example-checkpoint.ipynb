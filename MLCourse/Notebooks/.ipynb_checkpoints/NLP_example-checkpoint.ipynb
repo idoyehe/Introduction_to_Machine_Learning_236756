{
 "cells": [
  {
   "cell_type": "markdown",
   "metadata": {},
   "source": [
    "## NLP Use Case - An Example"
   ]
  },
  {
   "cell_type": "code",
   "execution_count": 1,
   "metadata": {},
   "outputs": [],
   "source": [
    "import pandas as pd\n",
    "from nltk.tokenize import RegexpTokenizer\n",
    "from sklearn.feature_extraction.text import CountVectorizer\n",
    "from scipy.cluster.hierarchy import *\n",
    "import re\n",
    "from nltk.stem import SnowballStemmer\n",
    "from scipy.cluster.hierarchy import fcluster\n",
    "from scipy.spatial.distance import pdist\n",
    "import numpy as np\n",
    "from sklearn.metrics.pairwise import pairwise_distances"
   ]
  },
  {
   "cell_type": "markdown",
   "metadata": {},
   "source": [
    "We created a list of news article titles, which were scrapped from several online sources of interest. In the following example, we will read the set of titles and group them to topics, according to the words in their titles.\n",
    "Let us first read the titles."
   ]
  },
  {
   "cell_type": "code",
   "execution_count": 2,
   "metadata": {
    "scrolled": true
   },
   "outputs": [
    {
     "name": "stdout",
     "output_type": "stream",
     "text": [
      "                                                Title\n",
      "0   Data from 800,000 user accounts stolen in Oran...\n",
      "1   China's web giants unite to defuse Windows XP ...\n",
      "2   Mt. Gox, once the world’s largest Bitcoin exch...\n",
      "3   Netflix is paying Comcast for direct connectio...\n",
      "4   UPDATE 1-Netflix may need to pay AT&T, Verizon...\n",
      "5   Suspected Hacker Group Creates Network of Fake...\n",
      "6   Zeus variant targets Salesforce.com accounts, ...\n",
      "7   Wall St. Is Told to Tighten Digital Security o...\n",
      "8   MasterCard program will protect credit card pu...\n",
      "9   Researchers blow past all protections in Micro...\n",
      "10  Security Alert: New and Cheap Stampado Ransomw...\n",
      "11  Report: Verizon Uncovers Two More Retail Breac...\n",
      "12  360 million newly stolen credentials on black ...\n",
      "13  Oklahoma DPS and Bank Security Exposure - Blog...\n",
      "14  Data Breach Cuts Into Target's 4Q Profit | Fox...\n",
      "15  Blue Coat to Deliver Transformative Security S...\n",
      "16  Google will start teaching people how to build...\n",
      "17  CrowdStrike Inc. Partners with IBM to Launch A...\n",
      "18  Proofpoint Joins IBM Security Intelligence Par...\n",
      "19  TCP Flaw in Linux Extends to 80 Percent of And...\n",
      "(6860, 1)\n"
     ]
    }
   ],
   "source": [
    "article_titles = pd.read_csv('../Data/article_titles.csv')\n",
    "print(article_titles.head(20))\n",
    "print(article_titles.shape)\n",
    "article_titles = article_titles.head(1000) # We will work only on the first 1000 articles (just in order to be able to run it quickly)"
   ]
  },
  {
   "cell_type": "markdown",
   "metadata": {},
   "source": [
    "The titles are not \"clean\":\n",
    "Data = data, but the capital initial pose a problem.\n",
    "China's = Chine\n",
    "...\n",
    "We will run some standard text pre-processing operations."
   ]
  },
  {
   "cell_type": "code",
   "execution_count": 3,
   "metadata": {},
   "outputs": [
    {
     "data": {
      "text/html": [
       "<div>\n",
       "<style scoped>\n",
       "    .dataframe tbody tr th:only-of-type {\n",
       "        vertical-align: middle;\n",
       "    }\n",
       "\n",
       "    .dataframe tbody tr th {\n",
       "        vertical-align: top;\n",
       "    }\n",
       "\n",
       "    .dataframe thead th {\n",
       "        text-align: right;\n",
       "    }\n",
       "</style>\n",
       "<table border=\"1\" class=\"dataframe\">\n",
       "  <thead>\n",
       "    <tr style=\"text-align: right;\">\n",
       "      <th></th>\n",
       "      <th>Title</th>\n",
       "      <th>clean_title</th>\n",
       "    </tr>\n",
       "  </thead>\n",
       "  <tbody>\n",
       "    <tr>\n",
       "      <th>0</th>\n",
       "      <td>Data from 800,000 user accounts stolen in Oran...</td>\n",
       "      <td>data 800 000 user account stolen orang fr hack</td>\n",
       "    </tr>\n",
       "    <tr>\n",
       "      <th>1</th>\n",
       "      <td>China's web giants unite to defuse Windows XP ...</td>\n",
       "      <td>china web giant unit defus window xp bombshel ...</td>\n",
       "    </tr>\n",
       "    <tr>\n",
       "      <th>2</th>\n",
       "      <td>Mt. Gox, once the world’s largest Bitcoin exch...</td>\n",
       "      <td>mt gox world largest bitcoin exchang shut ar t...</td>\n",
       "    </tr>\n",
       "    <tr>\n",
       "      <th>3</th>\n",
       "      <td>Netflix is paying Comcast for direct connectio...</td>\n",
       "      <td>netflix pay comcast direct connect network ar ...</td>\n",
       "    </tr>\n",
       "    <tr>\n",
       "      <th>4</th>\n",
       "      <td>UPDATE 1-Netflix may need to pay AT&amp;T, Verizon...</td>\n",
       "      <td>updat 1 netflix may need pay verizon faster speed</td>\n",
       "    </tr>\n",
       "    <tr>\n",
       "      <th>5</th>\n",
       "      <td>Suspected Hacker Group Creates Network of Fake...</td>\n",
       "      <td>suspect hacker group creat network fake linked...</td>\n",
       "    </tr>\n",
       "    <tr>\n",
       "      <th>6</th>\n",
       "      <td>Zeus variant targets Salesforce.com accounts, ...</td>\n",
       "      <td>zeus variant target salesforc com account saa ...</td>\n",
       "    </tr>\n",
       "    <tr>\n",
       "      <th>7</th>\n",
       "      <td>Wall St. Is Told to Tighten Digital Security o...</td>\n",
       "      <td>wall st told tighten digit secur partner new y...</td>\n",
       "    </tr>\n",
       "    <tr>\n",
       "      <th>8</th>\n",
       "      <td>MasterCard program will protect credit card pu...</td>\n",
       "      <td>mastercard program protect credit card purchas...</td>\n",
       "    </tr>\n",
       "    <tr>\n",
       "      <th>9</th>\n",
       "      <td>Researchers blow past all protections in Micro...</td>\n",
       "      <td>research blow past protect microsoft emet anti...</td>\n",
       "    </tr>\n",
       "  </tbody>\n",
       "</table>\n",
       "</div>"
      ],
      "text/plain": [
       "                                               Title  \\\n",
       "0  Data from 800,000 user accounts stolen in Oran...   \n",
       "1  China's web giants unite to defuse Windows XP ...   \n",
       "2  Mt. Gox, once the world’s largest Bitcoin exch...   \n",
       "3  Netflix is paying Comcast for direct connectio...   \n",
       "4  UPDATE 1-Netflix may need to pay AT&T, Verizon...   \n",
       "5  Suspected Hacker Group Creates Network of Fake...   \n",
       "6  Zeus variant targets Salesforce.com accounts, ...   \n",
       "7  Wall St. Is Told to Tighten Digital Security o...   \n",
       "8  MasterCard program will protect credit card pu...   \n",
       "9  Researchers blow past all protections in Micro...   \n",
       "\n",
       "                                         clean_title  \n",
       "0     data 800 000 user account stolen orang fr hack  \n",
       "1  china web giant unit defus window xp bombshel ...  \n",
       "2  mt gox world largest bitcoin exchang shut ar t...  \n",
       "3  netflix pay comcast direct connect network ar ...  \n",
       "4  updat 1 netflix may need pay verizon faster speed  \n",
       "5  suspect hacker group creat network fake linked...  \n",
       "6  zeus variant target salesforc com account saa ...  \n",
       "7  wall st told tighten digit secur partner new y...  \n",
       "8  mastercard program protect credit card purchas...  \n",
       "9  research blow past protect microsoft emet anti...  "
      ]
     },
     "execution_count": 3,
     "metadata": {},
     "output_type": "execute_result"
    }
   ],
   "source": [
    "# Stemming = taking the word to its stem form\n",
    "stemmer = SnowballStemmer(\"english\", ignore_stopwords=True)\n",
    "# Tokenization = breaking a text into a set of words.\n",
    "tokenizer = RegexpTokenizer(r'\\w+')\n",
    "for i ,row in article_titles.iterrows(): # Go over all the titles\n",
    "    tokens = tokenizer.tokenize(row['Title'].lower()) # Tokenize the lowercase version of the sentence\n",
    "    clean_words = [stemmer.stem(word) for word in tokens if word not in stemmer.stopwords] # Stem and remove stopwords\n",
    "    sentence = \" \".join(clean_words) # Re-create the sentence from the words\n",
    "    article_titles.loc[i,'clean_title'] = sentence \n",
    "article_titles.head(10)"
   ]
  },
  {
   "cell_type": "markdown",
   "metadata": {},
   "source": [
    "In order to run any machine learning algorithm, we need to encode the titles as vectors.\n",
    "We will use the most simple encoding method, known as \"Bag of Words\". Each title will be represented by a row, and the columns will include a binary indication on the existance of words in the title."
   ]
  },
  {
   "cell_type": "code",
   "execution_count": 4,
   "metadata": {
    "scrolled": false
   },
   "outputs": [
    {
     "name": "stdout",
     "output_type": "stream",
     "text": [
      "   0     1     2     3     4     5     6     7     8     9     ...   2424  \\\n",
      "0     1     0     0     0     0     0     0     0     0     0  ...      0   \n",
      "1     0     0     0     0     0     0     0     0     0     0  ...      0   \n",
      "2     0     0     0     0     0     0     0     0     0     0  ...      0   \n",
      "3     0     0     0     0     0     0     0     0     0     0  ...      0   \n",
      "4     0     0     0     0     0     0     0     0     0     0  ...      0   \n",
      "\n",
      "   2425  2426  2427  2428  2429  2430  2431  2432  2433  \n",
      "0     0     0     0     0     0     0     0     0     0  \n",
      "1     0     0     0     0     0     0     0     0     0  \n",
      "2     0     0     0     0     0     0     0     0     0  \n",
      "3     0     0     0     0     0     0     0     0     0  \n",
      "4     0     0     0     0     0     0     0     0     0  \n",
      "\n",
      "[5 rows x 2434 columns]\n",
      "{'data': 582, '800': 70, '000': 0, 'user': 2301, 'account': 85, 'stolen': 2070, 'orang': 1530, 'fr': 911, 'hack': 1007, 'china': 411, 'web': 2363, 'giant': 962, 'unit': 2278, 'defus': 614, 'window': 2388, 'xp': 2419, 'bombshel': 297, 'regist': 1776, 'mt': 1433, 'gox': 983, 'world': 2401, 'largest': 1246, 'bitcoin': 273, 'exchang': 799, 'shut': 1944, 'ar': 180, 'technica': 2143, 'netflix': 1461, 'pay': 1583, 'comcast': 458, 'direct': 655, 'connect': 489, 'network': 1464, 'updat': 2292, 'may': 1367, 'need': 1455, 'verizon': 2317, 'faster': 843, 'speed': 2022, 'suspect': 2107, 'hacker': 1009, 'group': 991, 'creat': 526, 'fake': 833, 'linkedin': 1293, 'profil': 1696, 'securework': 1901, 'zeus': 2430, 'variant': 2308, 'target': 2134, 'salesforc': 1863, 'com': 455, 'saa': 1854, 'applic': 174, 'zdnet': 2428, 'wall': 2347, 'st': 2045, 'told': 2203, 'tighten': 2191, 'digit': 652, 'secur': 1899, 'partner': 1571, 'new': 1467, 'york': 2426, 'time': 2193, 'mastercard': 1363, 'program': 1698, 'protect': 1710, 'credit': 528, 'card': 367, 'purchas': 1728, 'use': 2300, 'smartphon': 1982, 'locat': 1300, 'verg': 2315, 'research': 1798, 'blow': 285, 'past': 1576, 'microsoft': 1393, 'emet': 748, 'anti': 157, 'exploit': 811, 'tool': 2204, 'pcworld': 1589, 'alert': 128, 'cheap': 402, 'stampado': 2051, 'ransomwar': 1752, 'sale': 1862, 'dark': 579, 'report': 1792, 'uncov': 2268, 'two': 2260, 'retail': 1810, 'breach': 315, 'huge': 1076, 'fox': 910, 'busi': 343, '360': 52, 'million': 1397, 'newli': 1468, 'credenti': 527, 'black': 276, 'market': 1353, 'cybersecur': 569, 'firm': 879, 'oklahoma': 1509, 'dps': 698, 'bank': 235, 'exposur': 815, 'blog': 282, 'mackeep': 1325, 'cut': 560, '4q': 58, 'profit': 1697, 'blue': 286, 'coat': 445, 'deliv': 618, 'transform': 2222, 'solut': 2004, 'hp': 1070, 'combat': 456, 'advanc': 105, 'attack': 199, 'googl': 978, 'start': 2056, 'teach': 2139, 'peopl': 1593, 'build': 337, 'part': 1569, 'april': 177, 'crowdstrik': 539, 'inc': 1113, 'ibm': 1088, 'launch': 1251, 'cyber': 562, 'threat': 2179, 'intellig': 1150, 'servic': 1924, 'marketwatch': 1354, 'proofpoint': 1705, 'join': 1197, 'tcp': 2138, 'flaw': 887, 'linux': 1295, 'extend': 817, '80': 69, 'percent': 1595, 'android': 147, 'devic': 646, 'threatpost': 2181, 'first': 881, 'stop': 2071, 'news': 1469, 'openid': 1521, 'attribut': 202, 'help': 1042, 'net': 1460, 'salli': 1864, 'beauti': 246, 'hit': 1051, 'kreb': 1237, 'year': 2423, 'old': 1510, 'php': 1609, 'vulner': 2342, 'found': 906, 'person': 1600, 'info': 1130, '1m': 25, 'custom': 559, 'carefirst': 370, 'sql': 2038, 'result': 1808, 'telstra': 2155, 'telecom': 2150, 'pacnet': 1557, 'domain': 680, 'registrar': 1777, 'enom': 763, 'suffer': 2096, 'dns': 674, 'larg': 1245, 'internet': 1156, 'infrastructur': 1138, 'compani': 466, 'geekwir': 949, 'blame': 279, 'vers': 2318, 'outag': 1537, 'host': 1063, 'issu': 1181, 'fiercec': 861, 'virus': 2328, 'give': 966, 'access': 83, '15': 14, 'isra': 1178, 'comput': 475, 'upi': 2293, 'bootkit': 301, '350': 51, 'mobil': 1413, 'ceo': 389, 'arrest': 186, 'money': 1419, 'launder': 1252, 'jan': 1191, '27': 42, '2014': 32, 'name': 1443, 'ndn': 1452, 'futur': 931, 'architectur': 182, 'halt': 1016, 'implement': 1105, 'technolog': 2145, 'rule': 1848, 'wsj': 2413, 'websit': 2365, 'children': 409, 'defac': 607, 'meca': 1373, 'without': 2394, 'trace': 2216, 'fileless': 866, 'malwar': 1342, 'spot': 2030, 'wild': 2386, 'trendlab': 2231, 'kremlin': 1238, 'day': 584, 'flash': 886, 'vuln': 2341, 'sell': 1911, 'govern': 982, 'server': 1923, 'computerworld': 476, 'five': 883, 'simpl': 1960, 'step': 2065, 'corpor': 507, 'fcc': 846, 'warn': 2354, 'provid': 1716, 'hook': 1059, 'privaci': 1685, 'washington': 2357, 'post': 1656, 'ddos': 586, 'bankinfosecur': 237, 'secret': 1896, 'investig': 1161, 'michael': 1389, 'angri': 150, 'bird': 269, 'follow': 893, 'link': 1292, 'nsa': 1490, 'spi': 2024, 'hotel': 1065, 'franchis': 913, 'white': 2378, 'lodg': 1305, 'homeland': 1056, 'dept': 631, 'struggl': 2081, 'hire': 1049, 'staff': 2047, 'cyberattack': 563, 'hardwar': 1026, 'scrambl': 1887, 'password': 1575, 'leak': 1263, 'light': 1284, 'touchpap': 2210, 'joke': 1198, 'jet': 1194, 'plane': 1624, 'bar': 238, 'flight': 889, 'hactivist': 1013, 'ebay': 729, 'paypal': 1585, 'bell': 254, 'small': 1978, 'inform': 1132, 'toronto': 2208, 'star': 2055, 'develop': 645, 'high': 1046, 'code': 446, 'error': 776, 'nhs': 1474, 'redirect': 1771, 'malici': 1340, 'site': 1964, 'gameov': 940, 'encrypt': 753, 'bypass': 350, 'detect': 639, 'forget': 897, 'ski': 1967, 'jump': 1207, 'russian': 1851, 'set': 1925, 'record': 1768, 'sochi': 1996, 'visitor': 2331, 'within': 2393, 'minut': 1405, 'face': 828, 'minefield': 1400, 'video': 2324, 'nbcnew': 1451, 'broke': 323, 'via': 2321, 'hvac': 1081, 'british': 319, 'anonym': 154, 'cnet': 441, 'revolutionari': 1822, 'cryptographi': 544, 'could': 512, 'make': 1336, 'softwar': 2000, 'unhack': 2275, 'extremetech': 824, 'email': 745, 'vendor': 2312, 'edward': 736, 'snowden': 1995, 'call': 353, 'public': 1720, 'oversight': 1549, 'sxsw': 2115, 'cnn': 442, 'mobilityfirst': 1414, 'fia': 858, 'overview': 1551, 'bt': 332, 'tackl': 2123, 'car': 364, 'itproport': 1183, 'anthem': 156, 'scam': 1877, 'hacktivist': 1012, 'opisi': 1526, 'take': 2126, 'islam': 1175, 'state': 2059, 'isi': 1174, 'social': 1997, 'media': 1376, 'educ': 735, 'product': 1694, 'schoolchildren': 1884, 'sponsor': 2028, 'agent': 114, 'like': 1286, 'behind': 252, 'sophist': 2008, 'mask': 1359, 'kasperski': 1214, 'ever': 789, 'us': 2298, 'european': 785, 'victim': 2323, 'prolex': 1701, 'advisori': 108, 'flooder': 891, 'toolkit': 2205, 'sys': 2120, 'con': 477, 'buckl': 333, 'nullcrew': 1497, 'fts': 927, 'financi': 870, 'form': 899, 'partnership': 1572, 'affect': 112, 'insur': 1147, 'phoni': 1608, 'ssl': 2044, 'certif': 393, 'imperson': 1103, 'facebook': 829, 'itun': 1184, 'mspi': 1432, 'deni': 627, 'even': 787, 'confirm': 482, 'errata': 775, 'nbc': 1450, 'stori': 2074, '100': 5, 'fraudul': 918, 'surpris': 2104, 'learn': 1264, 'router': 1844, 'also': 135, 'hotspot': 1067, 'great': 985, 'snapchat': 1989, 'dos': 691, 'phone': 1607, 'gizmodo': 967, 'australia': 206, 'strengthen': 2077, 'cybercrim': 564, 'fight': 864, 'europ': 784, 'v3': 2304, 'uk': 2264, 'ministri': 1404, 'justic': 1210, 'down': 694, 'revel': 1817, 'weird': 2370, 'self': 1908, 'replic': 1791, 'themoon': 2170, 'worm': 2403, 'crawl': 524, 'linksi': 1294, 'thousand': 2178, 'tesco': 2163, 'login': 1307, 'onlin': 1516, 'syrian': 2119, 'electron': 741, 'armi': 183, 'forb': 894, 'steal': 2062, 'iron': 1173, 'tiger': 2189, 'campaign': 357, 'terabyt': 2157, 'apac': 164, 'infosecur': 1135, 'magazin': 1328, 'english': 761, 'summari': 2097, 'belgian': 253, 'professor': 1695, 'de': 588, 'standaard': 2053, 'satnew': 1873, 'publish': 1721, 'daili': 574, 'satellit': 1872, 'wordpress': 2398, 'factor': 830, 'plugin': 1635, 'bug': 336, 'er': 773, 'critic': 536, 'major': 1335, 'iranian': 1172, 'navi': 1449, 'extens': 818, 'invas': 1158, 'previous': 1674, 'pastebin': 1577, 'uni': 2277, 'mcafe': 1369, 'collud': 453, 'beat': 245, 'collus': 454, 'korean': 1236, '90': 72, '100m': 6, 'ban': 233, 'mess': 1385, 'boe': 291, 'destruct': 637, 'abc': 78, 'sear': 1892, 'say': 1875, 'possibl': 1655, 'look': 1310, 'bloomberg': 284, 'map': 1350, 'list': 1296, 'fbi': 845, 'ellen': 743, 'degener': 615, 'selfi': 1909, 'oscar': 1535, 'break': 316, 'twitter': 2259, 'fandango': 839, 'karma': 1213, 'expos': 814, 'gmail': 971, 'mail': 1330, 'realli': 1762, 'free': 919, 'fire': 875, 'offer': 1501, 'underground': 2270, 'univers': 2279, 'maryland': 1358, '300': 46, 'hide': 1045, 'plain': 1622, 'sight': 1948, 'sneaki': 1990, 'trojan': 2238, 'malwarebyt': 1343, 'lab': 1241, 'view': 2326, '3d': 54, 'neiman': 1457, 'marcus': 1352, '60': 64, 'bag': 231, 'buy': 348, 'startup': 2057, 'click': 432, 'fraud': 916, 'alphr': 134, 'evil': 794, 'benign': 255, 'trust': 2241, 'proxi': 1717, 'draft': 699, 'debat': 593, 'rage': 1745, 'snoop': 1993, 'offici': 1503, 'announc': 152, 'brussel': 330, 'transpar': 2226, 'center': 385, 'munich': 1439, 'confer': 479, 'save': 1874, 'privat': 1686, 'ietf': 1098, 'reveal': 1816, 'crypto': 541, 'bust': 345, 'propos': 1706, 'appl': 171, 'releas': 1781, 'io': 1164, 'fix': 884, 'huawei': 1074, 'next': 1472, 'generat': 952, 'rsa': 1846, 'press': 1671, 'journal': 1200, 'let': 1274, 'see': 1903, 'shopper': 1940, 'prostor': 1709, 'claim': 428, 'infosec': 1134, 'bod': 290, 'send': 1914, 'ceas': 379, 'desist': 635, 'plug': 1634, 'maker': 1337, 'akamai': 124, 'heartble': 1036, 'patch': 1578, 'crap': 522, 'hospit': 1062, 'databas': 583, 'goldmin': 975, 'crook': 538, 'botnet': 308, 'slayer': 1973, 'rise': 1827, 'health': 1033, 'care': 368, 'biggest': 264, 'sector': 1898, 'team': 2140, 'cymru': 573, 'soho': 2001, 'compromis': 474, 'war': 2350, 'ukrain': 2265, 'russia': 1850, 'conflict': 484, 'pcmag': 1587, 'design': 634, 'tls': 2197, 'pretend': 1672, 'tripl': 2237, 'handshak': 1020, 'resumpt': 1809, 'renegoti': 1788, 'laptop': 1244, 'applecar': 172, 'thiev': 2173, 'jam': 1189, 'smucker': 1987, 'processor': 1693, 'yahoo': 2420, 'block': 281, 'id': 1093, 'pre': 1664, 'instal': 1144, 'head': 1032, 'resign': 1802, 'wake': 2345, 'devast': 644, 'outgo': 1540, 'symantec': 2116, 'communiti': 465, 'techniqu': 2144, 'bewar': 262, 'chicago': 407, 'taxi': 2136, 'tell': 2153, 'firstambank': 882, 'lock': 1301, 'stand': 2052, 'bbc': 243, 'tor': 2207, 'enabl': 752, 'stole': 2069, 'pos': 1653, 'system': 2122, 'dozen': 697, 'leav': 1266, 'hundr': 1078, 'open': 1519, 'app': 168, 'eavesdrop': 728, 'twelv': 2257, 'korea': 1235, 'anoth': 155, 'massiv': 1362, 'phisherman': 1605, 'friend': 924, 'confus': 485, 'crimewar': 532, 'dendroid': 626, 'easier': 723, 'itworld': 1185, 'camera': 355, 'audio': 204, 'enter': 766, 'play': 1627, 'keurig': 1217, 'coffe': 447, 'machin': 1324, 'drm': 708, 'lockdown': 1302, 'hijack': 1047, 'samsung': 1866, 'mobe': 1412, 'man': 1345, 'middl': 1394, 'diddl': 650, 'got': 980, 'netgear': 1462, 'virgin': 2327, 'chang': 398, 'admin': 100, '70': 68, 'dongl': 686, 'stem': 2064, 'epidem': 772, 'brooklyn': 327, 'trick': 2233, '162': 17, 'distribut': 669, 'denial': 628, 'valuabl': 2307, 'lesson': 1273, 'cio': 418, '95': 75, 'atm': 197, 'deadlin': 590, 'mar': 1351, 'diann': 649, 'feinstein': 854, 'cia': 417, 'broken': 324, 'law': 1255, 'senat': 1913, 'huffpost': 1075, 'backdoor': 225, 'file': 865, 'cell': 381, 'galaxi': 938, 'allow': 131, 'remot': 1786, 'vodafon': 2333, 'germani': 959, 'end': 754, 'sim': 1959, 'signatur': 1951, 'career': 369, 'review': 1820, 'miss': 1406, 'epic': 771, 'fail': 831, 'act': 92, 'ethic': 782, 'backer': 226, 'ransack': 1750, 'ec': 730, 'council': 513, 'confidenti': 481, 'serious': 1921, 'wikipedia': 2385, 'home': 1054, 'core': 505, 'base': 239, 'amplif': 143, 'outlin': 1541, 'process': 1692, 'hand': 1019, 'enforc': 758, 'nato': 1448, 'respons': 1805, 'dw': 716, '16': 16, '03': 1, 'itnew': 1182, 'lightout': 1285, 'latest': 1250, 'energi': 757, 'malaysia': 1338, 'airlin': 122, 'mh370': 1388, 'theori': 2171, 'emerg': 747, 'intern': 1155, 'browser': 329, 'safe': 1858, 'poke': 1641, 'hole': 1053, 'chrome': 416, 'safari': 1857, 'ie': 1097, 'firefox': 877, 'earn': 721, 'pwn2own': 1737, 'zero': 2429, 'spam': 2017, 'cancer': 361, 'convict': 501, 'weev': 2367, 'get': 960, 'chanc': 397, 'freedom': 921, 'japan': 1192, 'hold': 1052, 'broad': 320, 'drill': 704, 'fret': 923, 'olymp': 1513, 'risk': 1828, 'kick': 1221, 'hard': 1022, 'right': 1825, 'locki': 1304, 'version': 2319, 'oper': 1524, 'offlin': 1504, 'mode': 1415, 'cso': 548, 'icann': 1090, '101': 7, 'overse': 1548, 'wire': 2390, 'backlash': 227, 'administr': 101, 'decis': 599, 'relinquish': 1783, 'control': 500, 'overs': 1547, 'crash': 523, 'twice': 2258, '17': 19, 'gone': 976, 'phish': 1604, 'thrift': 2183, 'plan': 1623, 'test': 2165, 'awar': 218, 'citroen': 427, 'becom': 247, 'adob': 103, 'coldfus': 449, 'guardian': 997, 'briefli': 317, 'venezuela': 2313, 'unix': 2280, '35': 50, 'messag': 1386, '10': 4, 'serv': 1922, 'tsunami': 2244, 'lookout': 1311, 'expand': 805, 'find': 871, 'mac': 1323, 'address': 99, 'hash': 1028, 'problem': 1690, 'trustwav': 2242, 'acquir': 89, 'cenzic': 388, 'add': 98, 'dynam': 719, 'lilli': 1287, 'pulitz': 1722, 'collect': 451, 'went': 2371, 'due': 714, 'heavi': 1038, 'demand': 621, 'whac': 2373, 'mole': 1418, 'deterr': 642, 'action': 93, 'hurrican': 1080, 'panda': 1564, 'russiandol': 1852, 'leverag': 1277, 'apt28': 179, 'fireey': 876, 'iot': 1165, 'org': 1532, 'embrac': 746, 'activ': 94, 'defens': 613, 'buyer': 349, 'appli': 173, 'export': 813, 'put': 1734, 'comment': 461, 'herbert': 1043, 'lin': 1290, 'ward': 2352, 'hord': 1060, 'zone': 2433, 'chief': 408, 'pros': 1708, 'wrong': 2412, 'bring': 318, '30': 45, 'chines': 412, 'support': 2100, 'hong': 1058, 'kong': 1234, 'protest': 1712, 'wheeler': 2376, 'must': 1440, 'lead': 1261, 'broadcast': 322, 'cabl': 351, 'everyth': 793, 'know': 1231, 'swat': 2110, 'increas': 1117, 'popular': 1649, 'prank': 1662, 'unsuspect': 2286, 'watch': 2358, 'insid': 1142, 'india': 1119, 'debug': 595, 'revers': 1819, 'engin': 759, 'deliber': 617, 'disabl': 657, 'way': 2360, 'intend': 1151, 'netherland': 1463, 'pave': 1581, 'carrier': 371, 'full': 929, 'disclosur': 662, 'pms': 1638, 'privileg': 1687, 'escal': 777, 'syria': 2118, 'goe': 974, 'sever': 1929, 'hour': 1068, 'taken': 2128, 'unmention': 2284, 'air': 120, 'show': 1942, 'charg': 401, 'dot': 692, 'knew': 1228, '19': 21, 'teenag': 2149, 'student': 2083, 'tax': 2135, 'agenc': 113, 'openssl': 1522, 'hunt': 1079, 'enough': 764, 'donat': 684, 'cash': 373, 'fed': 850, 'come': 459, 'admit': 102, 'read': 1758, 'hotmail': 1066, 'inbox': 1112, 'blogger': 283, 'termin': 2158, 'steve': 2066, 'bennett': 257, 'securityweek': 1902, 'sourc': 2011, 'california': 352, 'dmv': 673, 'turkey': 2248, 'prime': 1680, 'minist': 1403, 'erad': 774, 'cira': 421, 'canada': 358, 'foundat': 907, 'non': 1481, 'organ': 1533, 'expert': 810, 'forc': 895, 'identifi': 1096, 'crimin': 533, 'nice': 1476, 'extort': 821, 'racket': 1742, 'bork': 304, 'basecamp': 240, '20gbps': 35, 'bomb': 296, 'word': 2397, 'mastermind': 1364, 'lower': 1319, 'bill': 267, 'plead': 1630, 'guilti': 1001, 'bit': 272, 'disclos': 661, 'urg': 2296, 'stash': 2058, 'tweet': 2255, 'point': 1639, 'steganographi': 2063, 'dyn': 718, 'bought': 309, 'global': 970, 'monitor': 1420, 'renesi': 1789, 'pwn': 1736, 'pc': 1586, 'rtf': 1847, 'outlook': 1542, 'lob': 1298, 'suebal': 2095, 'prevent': 1673, 'notifi': 1487, '2013': 31, 'zip': 2431, 'extent': 819, 'mit': 1410, 'prism': 1683, 'proof': 1704, 'approach': 176, 'download': 695, 'covert': 518, 'mine': 1399, 'cryptocurr': 542, 'cop': 504, 'cuff': 552, '500': 60, 'station': 2061, 'raid': 1746, 'ash': 190, 'fresh': 922, 'unwant': 2291, 'adwar': 109, 'juli': 1206, 'cerberus': 391, 'hous': 1069, 'section': 1897, '215': 36, 'bulk': 339, 'obama': 1500, 'formal': 900, 'telephon': 2152, 'move': 1428, 'youtub': 2427, 'level': 1276, 'turktelekom': 2249, 'aw': 217, 'scrub': 1889, 'github': 965, 'key': 1218, 'amazon': 137, 'decompil': 603, 'gaff': 936, 'dev': 643, 'clear': 430, 'suprem': 2101, 'court': 517, 'decid': 598, 'whether': 2377, 'patent': 1579, 'potenti': 1657, 'tesla': 2164, 'settl': 1926, 'ftc': 925, 'deceiv': 596, 'consum': 492, 'transmit': 2225, 'sensit': 1915, 'feder': 851, 'trade': 2218, 'commiss': 462, 'endow': 755, 'second': 1895, 'influenc': 1129, 'inspir': 1143, 'sped': 2021, 'crack': 519, 'effort': 738, 'exclus': 800, 'infiltr': 1127, 'deepli': 606, 'thought': 2177, 'studi': 2084, 'wi': 2381, 'fi': 857, 'scandal': 1880, 'ask': 192, 'street': 2076, 'lawsuit': 1257, '24': 38, 'isp': 1177, 'turn': 2250, 'dvrs': 715, 'worst': 2406, 'miner': 1401, 'unhappi': 2276, 'oracl': 1529, 'java': 1193, 'cloud': 437, 'detail': 638, 'east': 725, 'florida': 892, 'nest': 1459, 'alarm': 126, 'wave': 2359, 'switch': 2113, 'probe': 1689, 'experian': 808, 'invest': 1160, 'tech': 2141, 'boom': 299, 'despit': 636, 'fear': 847, 'america': 139, 'asia': 191, 'societi': 1998, 'bounti': 311, 'submiss': 2089, 'dramat': 701, 'palo': 1563, 'alto': 136, 'nss': 1492, 'defend': 612, 'page': 1559, 'crn': 537, 'back': 224, 'untruth': 2289, 'ahnlab': 118, 'want': 2349, 'boffin': 293, 'annoy': 153, 'default': 608, 'xbox': 2416, 'boy': 312, 'waltz': 2348, 'around': 184, 'valid': 2305, 'tighter': 2192, 'vpns': 2340, 'censorship': 384, 'intensifi': 1152, 'undo': 2274, 'ffiec': 856, 'letter': 1275, 'novemb': 1488, '1999': 22, 'cooki': 502, 'ident': 1095, '22': 37, 'zombi': 2432, 'final': 869, 'offic': 1502, '2003': 28, 'tuesday': 2246, 'anymor': 160, 'whitehat': 2379, 'far': 840, 'method': 1387, 'ciol': 419, 'consid': 490, 'deal': 591, 'worri': 2404, 'illeg': 1100, 'run': 1849, 'check': 404, 'lawyer': 1258, 'cloudflar': 439, 'challeng': 396, 'resourc': 1803, 'execut': 801, 'weigh': 2368, 'preferenti': 1667, 'treatment': 2228, 'techradar': 2146, 'said': 1861, 'appeal': 169, 'overturn': 1550, 'known': 1232, 'troll': 2239, 'walk': 2346, 'main': 1334, 'ralli': 1748, 'multin': 1436, '2012': 30, 'american': 140, 'opt': 1528, 'diplomaci': 653, 'curb': 556, 'iran': 1171, 'one': 1514, 'diplomat': 654, 'apt': 178, 'gang': 941, 'work': 2399, 'judici': 1204, 'thumb': 2186, 'sue': 2094, 'spywar': 2037, 'mumsnet': 1438, 'canadian': 359, 'taxman': 2137, 'pierc': 1612, 'skewer': 1966, 'wors': 2405, 'slow': 1976, 'junip': 1209, 'eye': 825, 'puls': 1724, 'assum': 196, 'weak': 2362, 'billion': 268, 'bogus': 294, 'refund': 1773, 'grow': 992, 'ir': 1170, 'theft': 2168, 'revenu': 1818, 'today': 2198, 'fingerprint': 874, 'easili': 724, 'defeat': 610, 'kardashian': 1212, '600': 65, 'aim': 119, 'limit': 1289, 'undisclos': 2273, 'cisco': 423, 'indian': 1120, 'pawaa': 1582, 'magento': 1329, 'ecommerc': 732, 'platform': 1626, 'think': 2175, 'citi': 425, 'birth': 270, 'question': 1740, 'terribl': 2160, 'idea': 1094, 'fiber': 859, 'push': 1732, 'automat': 211, 'piraci': 1616, 'fine': 872, 'subscrib': 2091, 'kill': 1223, '2015': 33, 'easi': 722, 'flag': 885, 'reddit': 1770, 'discov': 663, 'dope': 690, 'gun': 1004, 'communic': 464, 'satcom': 1871, 'mission': 1408, 'wide': 2383, 'art': 188, 'craft': 521, 'store': 2073, 'antivirus': 159, 'pull': 1723, 'apolog': 166, 'author': 209, 'algorithm': 129, 'captcha': 363, '99': 77, 'accuraci': 86, 'easter': 726, 'egg': 739, 'dsl': 712, 'mere': 1384, 'instead': 1145, 'close': 435, '32764': 49, 'oauth': 1499, 'threaten': 2180, 'fallout': 836, 'slew': 1974, 'aol': 163, 'fall': 835, 'prey': 1675, 'spoof': 2029, 'manag': 1346, 'nist': 1478, 'remov': 1787, 'dual': 713, 'drbg': 703, 'sp': 2015, '90a': 73, 'os': 1534, 'pdfs': 1590, 'jpeg': 1201, 'url': 2297, 'kit': 1225, 'iphon': 1168, 'extrem': 823, 'openbsd': 1520, 'fork': 898, 'prune': 1719, 'mysteri': 1441, 'drop': 710, 'avalanch': 213, 'thief': 2172, 'doorstep': 689, 'traffic': 2220, 'road': 1831, 'rerout': 1796, 'boost': 300, 'portfolio': 1651, 'depart': 629, 'amid': 141, 'strategi': 2075, 'disput': 666, 'standard': 2054, 'brazil': 313, 'neutral': 1465, 'bevi': 261, 'behemoth': 251, 'dollar': 679, 'confid': 480, 'pelt': 1591, 'poor': 1647, 'prs': 1718, 'volley': 2336, 'untru': 2288, 'invoic': 1163, 'beg': 248, 'search': 1893, 'warrant': 2355, 'eu': 783, 'exercis': 802, 'place': 1621, 'shakeup': 1931, 'channelnom': 400, 'would': 2408, 'presid': 1670, 'abil': 79, 'prioriti': 1682, 'crisi': 535, 'sec': 1894, 'exam': 797, 'cctv': 378, 'knock': 1230, 'snot': 1994, 'jewelri': 1195, 'still': 2067, 'understand': 2271, 'whitehous': 2380, 'gov': 981, 'hedg': 1039, 'fund': 930, 'cuf': 551, 'darknet': 580, 'dwell': 717, 'cyberscum': 568, 'tricki': 2234, 'disrupt': 667, 'crim': 530, 'top': 2206, 'complet': 470, 'pioneer': 1615, 'declar': 600, 'av': 212, 'dead': 589, 'doom': 687, 'failur': 832, 'illinoi': 1101, 'other': 1536, 'order': 1531, 'stltoday': 2068, 'scan': 1879, 'concern': 478, 'ad': 96, 'chip': 413, 'pin': 1613, 'appoint': 175, 'enhanc': 762, 'tri': 2232, 'waylay': 2361, 'virustot': 2329, 'spotlight': 2032, 'firmwar': 880, 'ham': 1017, 'radio': 1743, 'scheme': 1882, 'log': 1306, 'in': 1111, 'outsid': 1543, 'big': 263, 'ignor': 1099, 'request': 1794, 'experi': 807, 'polici': 1643, 'putin': 1735, 'sign': 1949, 'track': 2217, 'smart': 1979, 'door': 688, 'everyon': 792, 'christi': 415, 'nj': 1479, 'chest': 406, 'raytheon': 1756, 'plow': 1633, 'ventur': 2314, 'https': 1073, 'third': 2176, 'parti': 1570, 'librari': 1279, 'nors': 1482, 'corp': 506, 'implod': 1106, 'futurist': 932, 'trap': 2227, 'better': 260, 'keep': 1215, 'usernam': 2302, 'former': 901, 'nuclear': 1495, 'nation': 1447, 'geospati': 957, 'ingellig': 1139, 'usao': 2299, 'ndok': 1453, 'februari': 849, '2016': 34, 'nexus': 1473, 'bulletin': 340, 'bot': 306, 'command': 460, 'own': 1553, 'mandiant': 1347, 'founder': 908, 'ipad': 1167, 'oh': 1506, 'dropbox': 711, 'share': 1933, 'return': 1813, 'squash': 2041, 'bore': 302, 'restor': 1807, 'porn': 1650, 'unlock': 2283, 'koler': 1233, '31': 47, 'countri': 516, 'silli': 1957, 'sysadmin': 2121, 'agre': 117, 'promis': 1703, 'disappear': 658, 'fals': 837, 'heartland': 1037, 'notif': 1486, 'blitz': 280, 'assault': 194, 'edg': 733, 'closer': 436, 'realiti': 1760, 'disastr': 660, 'preced': 1665, 'tweak': 2254, 'continu': 497, '911': 74, 'sent': 1916, 'fileshar': 867, 'demonoid': 624, 'desert': 633, 'falcon': 834, 'arab': 181, 'cyberespionag': 565, 'signific': 1952, 'portion': 1652, 'made': 1327, 'forg': 896, 'droid': 709, 'cloak': 434, 'outwit': 1544, 'bouncer': 310, 'materi': 1365, 'upon': 2294, 'seek': 1904, 'licens': 1280, 'infect': 1126, 'pcs': 1588, 'spotti': 2033, 'solar': 2002, 'power': 1660, 'grid': 988, 'hardcor': 1024, 'west': 2372, 'dissid': 668, 'worker': 2400, 'polit': 1644, 'recod': 1766, 'dogevault': 678, 'pray': 1663, 'backup': 228, 'much': 1434, 'sad': 1856, 'doge': 676, 'vault': 2309, 'lose': 1314, '56': 62, 'heist': 1040, 'teen': 2148, 'school': 1883, 'resid': 1801, 'seri': 1920, 'incid': 1114, 'throughout': 2184, 'north': 1483, 'greenwald': 987, 'alleg': 130, 'tamper': 2131, 'plant': 1625, 'glenn': 968, 'al': 125, 'qaeda': 1738, 'homebrew': 1055, 'intel': 1149, 'gather': 944, 'terrorist': 2162, 'subway': 2093, 'sandwich': 1868, 'franchise': 914, '40': 55, 'gift': 963, 'guidelin': 1000, 'informationweek': 1133, 'michell': 1390, 'purport': 1729, 'ladi': 1242, 'passport': 1574, 'appear': 170, 'nsf': 1491, 'award': 219, '15m': 15, 'toward': 2213, 'robust': 1834, 'agil': 115, 'scienc': 1885, 'project': 1700, 'xia': 2418, 'express': 816, 'throw': 2185, 'lot': 1317, 'militari': 1396, 'good': 977, 'thing': 2174, 'voltag': 2337, 'never': 1466, 'rememb': 1785, 'australian': 207, 'enterpris': 767, 'averag': 215, 'field': 860, 'per': 1594, 'damballa': 576, 'analysi': 144, 'best': 258, 'forward': 905, 'la': 1240, 'skylock': 1970, 'bike': 265, 'rate': 1755, 'among': 142, 'least': 1265, 'trustworthi': 2243, 'eff': 737, 'tougher': 2211, 'suspici': 2109, 'slap': 1972, 'across': 91, 'trigger': 2236, 'measur': 1372, 'fortinet': 902, 'centrifi': 387, 'impost': 1108, 'crimp': 534, 'perv': 1602, 'cam': 354, 'underway': 2272, 'blackshad': 278, 'ring': 1826, 'reuter': 1815, 'summit': 2098, 'crime': 531, 'crackdown': 520, 'week': 2366, 'curtail': 558, 'surveil': 2106, 'accord': 84, 'retali': 1811, 'squad': 2040, 'indict': 1122, 'gtisc': 994, 'jailbreak': 1187, '5s': 63, 'winocm': 2389, 'i0ni1c': 1085, 'jailbroken': 1188, 'unteth': 2287, 'i0n1c': 1084, 'silverlight': 1958, 'malvertis': 1341, 'angler': 149, 'ek': 740, 'angl': 148, 'protector': 1711, 'lifelock': 1282, 'delet': 616, 'csrf': 549, 'token': 2202, 'rotat': 1843, 'util': 2303, 'brute': 331, 'pricey': 1679, 'verit': 2316, 'swiss': 2112, 'knife': 1229, 'woolworth': 2396, 'inflict': 1128, 'exampl': 798, '13': 11, '97': 76, 'anyway': 162, 'ground': 990, 'israel': 1179, 'togeth': 2201, 'contain': 494, '145': 13, 'left': 1269, 'burglar': 342, 'emv': 750, 'protocol': 1713, 'low': 1318, 'webmail': 2364, 'darpa': 581, 'crazytech': 525, 'crew': 529, 'human': 1077, 'defenc': 611, 'acceler': 81, 'techworld': 2147, 'explor': 812, 'surfac': 2102, 'icloud': 1091, 'telegram': 2151, '200gbps': 29, 'pound': 1659, 'filipino': 868, 'wage': 2344, 'cyberwar': 572, 'recal': 1764, '440': 57, 'smoke': 1985, 'detector': 640, 'safeti': 1859, 'sorri': 2010, 'sourceforg': 2012, 'reset': 1800, 'vizio': 2332, 'tvs': 2252, 'cough': 511, 'owner': 1554, 'habit': 1006, 'pirat': 1617, 'ship': 1939, 'cms': 440, 'ciso': 424, 'wireless': 2391, 'gadget': 935, 'arriv': 187, 'san': 1867, 'francisco': 915, 'silicon': 1954, 'valley': 2306, 'cellular': 383, 'respond': 1804, 'gear': 948, 'vet': 2320, 'attach': 198, 'includ': 1115, 'rot13': 1842, 'snmp': 1992, 'avast': 214, 'forum': 904, 'jun': 1208, 'wwdc': 2415, 'three': 2182, 'awesom': 221, 'featur': 848, '128': 10, 'epfl': 770, 'unassail': 2266, 'congress': 487, 'divorc': 671, 'committe': 463, 'notic': 1485, 'propublica': 1707, 'alcatel': 127, 'lucent': 1320, 'talk': 2130, 'divis': 670, 'thale': 2167, 'fiercetelecom': 862, 'ponder': 1646, 'unveil': 2290, 'smarthom': 1980, 'visa': 2330, 'attend': 200, 'defcon': 609, 'hat': 1029, 'prepar': 1668, 'sdn': 1890, 'driven': 706, 'skill': 1969, 'shift': 1937, 'fiercewireless': 863, '25': 39, 'vietnames': 2325, 'near': 1454, '200': 27, 'sentenc': 1917, 'prison': 1684, 'opa': 1518, 'spotifi': 2031, 'wick': 2382, 'hybrid': 1082, 'carberp': 365, 'unleash': 2282, 'lulzsec': 1322, 'sabu': 1855, 'auto': 210, 'rogu': 1836, 'ride': 1824, 'rescu': 1797, 'drive': 705, 'skype': 1971, 'shown': 1943, 'translat': 2223, 'multilingu': 1435, 'voic': 2334, 'trek': 2229, 'languag': 1243, 'tower': 2214, 'babel': 223, 'broker': 325, 'everi': 790, 'recommend': 1767, 'requir': 1795, 'industri': 1125, 'greater': 986, 'f5': 826, 'pounc': 1658, 'fledgl': 888, 'haunt': 1031, 'intercept': 1153, 'wiretap': 2392, 'root': 1840, 'cryptodefens': 543, 'ransom': 1751, 'leader': 1262, 'truecrypt': 2240, 'harm': 1027, 'meddl': 1375, 'fraudster': 917, 'ok': 1508, 'reject': 1779, 'rat': 1754, 'fling': 890, 'happi': 1021, 'worldwid': 2402, 'shame': 1932, 'lg': 1278, 'g3': 934, 'game': 939, 'train': 2221, 'mercenari': 1382, 'dish': 664, 'accept': 82, 'perfect': 1596, 'artemi': 189, 'tini': 2194, 'dodg': 675, 'interfer': 1154, 'write': 2411, 'tovar': 2212, 'swipe': 2111, 'cryptolock': 545, '404': 56, 'scourg': 1886, 'thwart': 2187, 'polic': 1642, 'channel': 399, 'europol': 786, 'las': 1247, 'vega': 2311, 'reliabl': 1782, 'sinkhol': 1962, 'cup': 555, 'choos': 414, 'nasti': 1446, 'eset': 778, 'analyz': 145, 'simplock': 1961, 'punish': 1726, 'south': 2013, 'general': 951, 'tizen': 2196, 's5': 1853, 'tv': 2251, 'life': 1281, 'switzerland': 2114, 'die': 651, 'pair': 1562, 'collaps': 450, 'takedown': 2127, 'estim': 781, 'sopho': 2009, 'meet': 1379, 'deploy': 630, '89': 71, 'last': 1248, 'number': 1498, 'decept': 597, 'improv': 1110, 'payment': 1584, 'geoloc': 955, 'exist': 803, 'dismantl': 665, 'guess': 998, 'ddoser': 587, 'colleg': 452, 'compet': 467, 'shine': 1938, 'dan': 577, 'farmer': 841, 'present': 1669, 'ipmi': 1169, 'win': 2387, 'acm': 88, 'prize': 1688, 'avoid': 216, 'relat': 1780, 'cryptowal': 547, 'phishm': 1606, 'redmond': 1772, 'upsurg': 2295, 'toxic': 2215, 'screen': 1888, 'harder': 1025, 'movement': 1429, 'random': 1749, 'fanboi': 838, 'cyberspi': 570, 'space': 2016, 'tie': 2188, 'prolif': 1702, 'aerospac': 110, 'red': 1769, 'button': 347, 'boob': 298, 'tube': 2245, 'finger': 873, 'telli': 2154, 'mayhem': 1368, 'plunder': 1637, 'smbs': 1984, 'keylogg': 1219, 'ic': 1089, 'cert': 392, 'hackabl': 1008, 'w2': 2343, 'cloudera': 438, 'hadoop': 1014, 'acquisit': 90, 'gazzang': 946, 'els': 744, 'john': 1196, 'oliv': 1512, 'motherboard': 1425, 'feed': 852, 'refus': 1774, 'downtim': 696, 'theinquir': 2169, 'evernot': 791, 'struck': 2080, 'remain': 1784, 'bofe': 292, 'framework': 912, 'england': 760, 'shove': 1941, 'microscop': 1392, 'banker': 236, 'oleg': 1511, 'pliss': 1631, 'silenc': 1953, 'role': 1837, 'import': 1107, 'tweetdeck': 2256, 'guy': 1005, '11': 8, 'inject': 1140, 'smartmob': 1981, 'warrantless': 2356, 'cellphon': 382, 'circuit': 422, 'regulatori': 1778, 'paradigm': 1566, '19k': 23, 'ferguson': 855, 'infoworld': 1137, 'restaur': 1806, 'chain': 394, 'carbon': 366, 'paper': 1565, 'pf': 1603, 'bistro': 271, 'debit': 594, 'entir': 768, 'quiet': 1741, 'wheel': 2375, 'mani': 1348, 'ftse': 928, '250': 40, 'cos': 509, 'dmarc': 672, 'abus': 80, 'loophol': 1313, 'edit': 734, 'advertis': 106, 'brows': 328, 'histori': 1050, 'transmiss': 2224, 'bulli': 341, 'mozilla': 1430, 'cost': 510, 'indonesia': 1124, 'reckon': 1765, 'battl': 241, 'squabbl': 2039, 'trend': 2230, 'chairman': 395, 'statement': 2060, 'broadband': 321, 'congest': 486, 'actual': 95, 'domino': 683, 'pizza': 1620, 'held': 1041, 'hostag': 1064, 'eat': 727, 'stake': 2049, 'pinterest': 1614, 'ubergizmo': 2261, 'uglygorilla': 2263, 'weight': 2369, 'loss': 1315, 'seen': 1906, 'mistak': 1409, 'employe': 749, 'month': 1422, 'jail': 1186, 'slice': 1975, 'blurt': 288, 'prefer': 1666, 'tight': 2190, 'grip': 989, 'seem': 1905, 'caught': 375, 'ss': 2042, 'glitch': 969, 'caus': 376, 'tw': 2253, 'text': 2166, 'super': 2099, 'micro': 1391, 'expect': 806, 'loon': 1312, 'specialist': 2020, 'half': 1015, 'guarante': 996, 'shatter': 1935, '51': 61, 'auction': 203, '18': 20, 'worth': 2407, 'silk': 1956, 'marshal': 1355, 'seiz': 1907, 'judg': 1203, 'repeat': 1790, 'invit': 1162, 'proceed': 1691, 'danger': 578, 'extern': 820, 'six': 1965, 'undergrad': 2269, '32': 48, 'note': 1484, 'began': 249, 'sept': 1919, 'decrypt': 604, 'antidot': 158, 'robocal': 1833, 'asprox': 193, 'combin': 457, 'mass': 1360, 'mailer': 1332, 'strike': 2078, 'drain': 700, 'dyreza': 720, 'done': 685, 'gulf': 1002, 'oil': 1507, 'bawaba': 242, 'safetyfirst': 1860, 'ftp': 926, 'cerber': 390, 'speak': 2019, 'alpent': 133, 'gain': 937, 'fast': 842, 'mdialog': 1370, 'sfgate': 1930, 'growth': 993, 'nokia': 1480, 'paid': 1561, 'blackmail': 277, 'ago': 116, 'gchq': 947, 'declassifi': 601, 'invent': 1159, 'consol': 491, 'demis': 622, 'proven': 1715, 'tunisian': 2247, 'caution': 377, 'html5': 1071, 'rollout': 1838, 'model': 1416, 'legal': 1270, 'boss': 305, 'slurp': 1977, 'cryptos': 546, 'lavabit': 1253, 'vpn': 2339, 'axe': 222, 'bet': 259, 'openstack': 1523, 'domin': 682, 'integr': 1148, 'enov': 765, 'stack': 2046, 'iafrica': 1087, 'yeah': 2422, 'spit': 2027, 'cleartext': 431, 'shelf': 1936, 'nas': 1444, '620k': 66, 'dogecoin': 677, 'co': 444, 'cyberheist': 567, 'settlement': 1927, 'seller': 1912, 'signal': 1950, 'jammer': 1190, 'selfmit': 1910, 'onto': 1517, 'sms': 1986, 'incom': 1116, 'adaptivemobil': 97, 'pass': 1573, 'amend': 138, 'vote': 2338, 'pursestr': 1730, 'lawmak': 1256, 'introduc': 1157, 'priorit': 1681, 'kitkat': 1226, 'xfiniti': 2417, 'andreessen': 146, 'horowitz': 1061, 'pump': 1725, 'tanium': 2132, 'sinofski': 1963, 'board': 289, 'opinion': 1525, 'subsea': 2092, 'sea': 1891, 'widget': 2384, '2fa': 43, 'democraci': 623, 'poll': 1645, 'medtron': 1378, 'lost': 1316, 'patient': 1580, 'independ': 1118, 'boringssl': 303, 'experiment': 809, 'cipher': 420, 'ntp': 1493, 'declin': 602, 'devis': 647, 'implant': 1104, 'cultur': 554, 'clash': 429, 'event': 788, 'improp': 1109, 'driver': 707, 'montana': 1421, 'live': 1297, 'goal': 973, 'spill': 2026, 'newspap': 1471, 'snap': 1988, 'lucki': 1321, 'yo': 2425, 'apologis': 167, 'ex': 796, 'pitch': 1618, 'advic': 107, 'tradecraft': 2219, 'hackingteam': 1010, 'securelist': 1900, 'stuxnet': 2086, 'style': 2087, 'chill': 410, 'warm': 2353, 'fuzzi': 933, 'feel': 853, 'authent': 208, 'long': 1309, 'island': 1176, 'radiolog': 1744, 'practic': 1661, 'nrad': 1489, 'newsday': 1470, 'riversid': 1830, 'counti': 515, 'region': 1775, 'medic': 1377, 'citizen': 426, 'lenovo': 1272, 'limbo': 1288, 'reus': 1814, 'line': 1291, 'pri': 1676, 'mailbox': 1331, 'soon': 2007, 'lend': 1271, 'airport': 123, 'german': 958, 'cancel': 360, 'contract': 498, 'row': 1845, 'keystor': 1220, 'getkeyfornam': 961, 'memori': 1381, 'corrupt': 508, 'buffer': 335, 'overflow': 1546, 'gas': 942, 'establish': 780, 'overzeal': 1552, 'wararnt': 2351, 'hate': 1030, 'yelp': 2424, 'plugx': 1636, '20': 26, 'compress': 473, 'spyboss': 2036, 'congressman': 488, 'outdat': 1539, 'cooper': 503, 'stall': 2050, 'shutter': 1945, 'taiwan': 2125, 'anyth': 161, 'begin': 250, 'crusad': 540, 'knacker': 1227, 'ip': 1166, 'massacr': 1361, 'technic': 2142, '163k': 18, 'individu': 1123, 'butler': 346, 'ms14': 1431, '045': 2, 'descript': 632, 'kernel': 1216, 'august': 205, '12': 9, 'submit': 2090, 'sampl': 1865, 'attorney': 201, 'deliveri': 619, 'perimet': 1598, 'string': 2079, 'paerl': 1558, 'macro': 1326, 'pentagon': 1592, 'beast': 244, 'accus': 87, 'overbil': 1545, 'torpedo': 2209, 'disarm': 659, 'mitig': 1411, 'geodo': 954, 'infosteal': 1136, 'mea': 1371, 'culpa': 553, 'takeov': 2129, 'api': 165, 'gigaom': 964, 'catbird': 374, '2m': 44, 'vc': 2310, 'terremark': 2159, 'hijackrat': 1048, 'pois': 1640, 'voip': 2335, 'four': 909, 'hear': 1034, 'ssh': 2043, 'onedr': 1515, 'nasdaq': 1445, 'roadmap': 1832, 'counter': 514, 'complaint': 469, 'brazilian': 314, 'baddi': 229, 'boleto': 295, 'bandit': 234, 'bilk': 266, 'resel': 1799, 'iss': 1180, 'justifi': 1211, 'assess': 195, 'bae': 230, 'retract': 1812, 'capitalist': 362, 'draper': 702, 'coinbas': 448, 'realiz': 1761, '37': 53, 'client': 433, 'cheat': 403, 'elit': 742, 'almost': 132, 'mavenir': 1366, 'gumbl': 1003, 'miniduk': 1402, 'campaigh': 356, 'doubl': 693, 'personnel': 1601, 'nemesi': 1458, 'gemina': 950, 'botgen': 307, 'studio': 2085, 'permiss': 1599, 'pah': 1560, 'soft': 1999, 'cve': 561, '6272': 67, 'cureblog': 557, 'endpoint': 756, 'sentinelon': 1918, 'contact': 493, 'hackread': 1011, 'hardcod': 1023, 'ucm': 2262, 'surrend': 2105, 'confisc': 483, 'gentl': 953, 'perform': 1597, 'manic': 1349, 'spread': 2034, 'freebsd': 920, 'rope': 1841, 'qualiti': 1739, 'spruik': 2035, 'nuke': 1496, 'tank': 2133, 'deep': 605, 'lecpetex': 1267, 'nab': 1442, 'maldiv': 1339, 'kidnap': 1222, 'kingpin': 1224, 'moscow': 1423, 'guam': 995, 'array': 185, 'ten': 2156, 'often': 1505, 'local': 1299, 'wthr': 2414, 'indianapoli': 1121, 'deter': 641, 'pose': 1654, 'storag': 2072, 'prohibit': 1699, 'chemic': 405, 'tip': 2195, 'toe': 2200, 'db': 585, 'pursu': 1731, 'scanner': 1881, 'content': 495, 'shylock': 1946, 'reviv': 1821, 'businessman': 344, 'lockhe': 1303, 'martin': 1356, 'aircraft': 121, 'plot': 1632, 'en': 751, 'p0wnabl': 1555, 'unknown': 2281, 'hidden': 1044, 'deanonym': 592, 'lastpass': 1249, 'krono': 1239, 'father': 844, 'reason': 1763, 'price': 1677, 'complex': 471, 'sap': 1869, 'prove': 1714, 'entri': 769, 'dalla': 575, 'pittytig': 1619, 'subject': 2088, 'extra': 822, 'room': 1839, '07': 3, 'skiddi': 1968, 'ntt': 1494, 'yawn': 2421, 'guest': 999, 'scale': 1876, 'spike': 2025, 'modem': 1417, 'gateway': 943, 'might': 1395, 'someon': 2005, 'multipl': 1437, 'hama': 1018, 'heart': 1035, 'mind': 1398, 'sat': 1870, 'pic': 1610, 'gaza': 945, 'wound': 2409, 'surg': 2103, 'motiv': 1427, 'spend': 2023, '1bn': 24, 'priceless': 1678, 'pushdo': 1733, 'outbreak': 1538, 'bitdefend': 274, 'opsavegaza': 1527, 'grade': 984, 'tridium': 2235, 'niagara': 1475, 'marvel': 1357, 'illustr': 1102, 'sharron': 1934, 'lavern': 1254, 'parrish': 1568, 'jr': 1202, 'unpatch': 2285, 'siemen': 1947, 'icss': 1092, 'woefulli': 2395, 'insecur': 1141, 'budget': 334, 'insulin': 1146, 'hypoglycem': 1083, 'reaction': 1757, 'brokerag': 326, 'benjamin': 256, 'packet': 1556, 'sniffer': 1991, 'smash': 1983, 'wreck': 2410, 'ball': 232, 'whatsapp': 2374, 'pictur': 1611, 'riski': 1829, 'affair': 111, 'mossad': 1424, 'pop': 1648, 'motion': 1426, 'dell': 620, 'merchant': 1383, 'siliconangl': 1955, 'suspend': 2108, 'rocket': 1835, 'vice': 2322, 'punt': 1727, 'geopolit': 956, 'context': 496, 'lax': 1259, 'http': 1072, 'led': 1268, 'repres': 1793, 'todd': 2199, 'park': 1567, 'exit': 804, 'cto': 550, 'fortun': 903, 'rais': 1747, 'mama': 1344, 'stage': 2048, 'central': 386, 'london': 1308, 'stubhub': 2082, 'cybertheft': 571, 'nigerian': 1477, 'scammer': 1878, 'adopt': 104, 'honeymoon': 1057, 'player': 1628, 'unblock': 2267, 'mechan': 1374, 'faa': 827, 'lift': 1283, 'seven': 1928, 'cyberfraud': 566, 'case': 372, '50': 59, 'mailpoet': 1333, 'joomla': 1199, 'terror': 2161, 'go': 972, 'away': 220, 'cnnpolit': 443, 'ecb': 731, 'tail': 2124, 'i2p': 1086, 'compon': 472, 'demonstr': 625, 'googlebot': 979, 'layer': 1260, 'real': 1759, 'director': 656, 'dhs': 648, 'contractor': 499, 'rapsi': 1753, 'evolv': 795, 'soni': 2006, 'playstat': 1629, 'neighbor': 1456, 'sold': 2003, 'jul': 1205, '14': 12, 'riddl': 1823, 'dome': 681, 'missil': 1407, 'blueprint': 287, 'span': 2018, 'built': 338, 'competitor': 468, 'symantecvoic': 2117, 'mega': 1380, 'blabber': 275, '25th': 41, 'anniversari': 151, 'firewal': 878, 'celebr': 380, 'infograph': 1131, 'espionag': 779, 'soviet': 2014}\n"
     ]
    }
   ],
   "source": [
    "vectorizer = CountVectorizer(strip_accents='unicode', binary=1)\n",
    "weighted_terms = vectorizer.fit_transform(article_titles['clean_title'])\n",
    "# weighted_terms is a sparse matrix with a sparse matrix representation. we will describe it as an array.\n",
    "dtm = weighted_terms.toarray()\n",
    "print(pd.DataFrame(dtm).head())\n",
    "print(vectorizer.vocabulary_)"
   ]
  },
  {
   "cell_type": "markdown",
   "metadata": {},
   "source": [
    "We can now run hierarchical clustering on the titles. We need to define some distance metric that will describe the distance between two titles.\n",
    "The Jaccard similarity is the proportion of words that appear in both titles."
   ]
  },
  {
   "cell_type": "code",
   "execution_count": 5,
   "metadata": {},
   "outputs": [],
   "source": [
    "dist = pdist(dtm, 'jaccard')"
   ]
  },
  {
   "cell_type": "code",
   "execution_count": 8,
   "metadata": {},
   "outputs": [
    {
     "name": "stdout",
     "output_type": "stream",
     "text": [
      "[1.         1.         1.         ... 0.91666667 1.         1.        ]\n"
     ]
    }
   ],
   "source": [
    "print(dist)"
   ]
  },
  {
   "cell_type": "code",
   "execution_count": 6,
   "metadata": {},
   "outputs": [],
   "source": [
    "linkage_matrix = single(dist)\n",
    "raw_clusters = fcluster(linkage_matrix, 0.5)"
   ]
  },
  {
   "cell_type": "code",
   "execution_count": 7,
   "metadata": {},
   "outputs": [
    {
     "name": "stdout",
     "output_type": "stream",
     "text": [
      "[437 643 541 179 427 499 753 329 542  33 104 371 725 567 326 493 630 195\n",
      " 195 243 308 352 236 309 256 677 682 683 494 568 218 569 125 305 162 521\n",
      " 481 226 296 317  92 349 344  47 438 124 684 359 754 242  19  19 220 202\n",
      " 508 360 755 570 196 325  94 328 726 203 571 376 685 727 345 152 356 756\n",
      " 123 543 809 324  92 816 572 412 495 810 795 544 165 111 686 631 496 687\n",
      " 350 317 443 811 178 796 357 632 213 728 573 386 574  10 522 688  10 471\n",
      "   9 678 249 113  28 155 156 633  76 729 254 377 364 146 146 391 365 545\n",
      " 301 489 523  75  75 575 167 163  91 634 546 145 676 730 635 497 337 141\n",
      " 141 111 689 731  74  74 690 576 362 392 439   4   4 228 113 691 199 199\n",
      " 440 547 190 190 431 441 692  28 402 636 757 693 442 484 148 679  82 637\n",
      " 232 638 786 524 758 577 372 444 694 103  73 435  95   7 759 776 732 230\n",
      " 235 578 423 445 241 579 118 314 580 498 581 797 353 733 120 582 525 446\n",
      " 246 734 447 448 187 612 449 347 157 355 181  72 145 583 230 248 310 268\n",
      " 526 639 147 147 548 394 284 735 234 222 140 473 140 640  90  90 279  45\n",
      "  45 584 792 294 641 760 348 348  18  18 269   3   2   2 413 387  87 393\n",
      "  40 117  71 114 817 241 142 761 642 188  39 180 549  41  12 116 116 114\n",
      " 644 115 346 550 159 506 736  91 363 500 645 414 695 154 696  27  27 257\n",
      " 188 450 787  70 244  47  84   6  36 328 149 182 104 451 168 452 107 107\n",
      "   6 585  73 646 501 366 324 622 248  17 280  34 164 527 139 338 777 196\n",
      " 405 647 139 737 586 697   8  89 186  39 502 247 415 197 143 166 210 648\n",
      " 339 220 762 149 738 698 138 138 361 347 551 103 699 416 503 587 153 802\n",
      " 700 798  55  55 310  61  42  38 301 162 680 378 137 649 332 189  63 234\n",
      "  87 417 453 701 308 318 170 504  40 223 222 307  16 702 312 552  65 136\n",
      " 650 258 454 588 623  26 739 651 528  69 490 136 799  51  51 169 553 491\n",
      " 529 505 259 589 218 219  78 590 323  17 720 399 299 340 492  70 652 703\n",
      " 793 102 102 187 813 217 591  26 740 214 455 215 134   5   5  81 270 592\n",
      " 184  40 260 101 101 474 800 704 112  46   8 289 554 211 209 124 705 235\n",
      " 307 151 778 100  99 246 106 200 424 133 788 530 593 555 456 624 653  72\n",
      " 457 251 507 224 185  65  64 110  37  37  52  15 803 120  40 763 193 779\n",
      " 764  62 209 234 395 275 179 458 163 765 766 373 459 221 221 741 261 706\n",
      " 460 404  48 120 396 132 231 461 707  22 286 132  36 482 336 462 780 293\n",
      " 290 418 292 531 289 594 292 291 654 556  99 463  97 595  54 597 596 379\n",
      " 598 419 742 185  69  49 250 333 781 464 465 708  62 743 767 388 245  85\n",
      " 320 655 397 194 656 110 232 466 467 380 599 271 768 186 272 322 769 657\n",
      "  60 204 201 200 468 351 175 406 198 198  61 281 276 119 658 137  64 709\n",
      " 770 600  58  89 469   7 278 133 710 318 285 285 351 509 354  13 744 420\n",
      " 425 298 601 273 745 475 130 812  60 659 660  86 470 782  35 602  35 398\n",
      " 510 711 160 746 421 422 155 331 331 712 713 603 661  24 511 407 233 789\n",
      " 194 327 235 472  82  68 358 714 747 557 715  66  98 207 716 367 662 131\n",
      " 131 771 783 604 274 381 512 532 533 368 558  43 426  86 605  48  11  11\n",
      "   1   1 108 772  83 663 277 664  24  25 606 430 566  14  14 804 513 179\n",
      " 559 784 476  38 514 477  16 172 150 611 225 229 428 625 315 607 608 126\n",
      " 127 128 665 773 790  22 515 408 262 748 321 609 238  44 534 334 610 174\n",
      " 626 174 805  80  80 560  58 341 613 287 297 288 236 666 535 214 284 284\n",
      "  23  23 369 297  53  59 177 176  21 311 237 794 248 749 614 253 192 332\n",
      "  32 806 370 175  21 252 208 382 785 235 295 429 295 724 183 191 432  50\n",
      " 717  96  96 205 615 536 750 667  72 191 718 106 751 263 681 807 561  31\n",
      " 409  31 216 239 176 233 668 374 306 192 537  67 516 517 478 193 383 479\n",
      " 342 303 669 808 480 152 410 411 384 109  32 330 389 791 264 290 291 343\n",
      " 390 135 330 400 240 562  81 283 226 266  79 255 207  88 401 719 721 130\n",
      "  79 335 205 206 129 129 303 375 627 628 616 403 617 485 518 227  30  30\n",
      "  77 774 814 519  29  29 670  93 302 286 563 520 304 299 618 538 483 436\n",
      " 752  13 671  93 173 126 309 313  20 722 433  57 539 123 801  57 103 105\n",
      " 105 486 818 282 619 171 158 171 620 435 434 265 775 815 672 144  56 161\n",
      " 723 540 564  71 224 227 487 212 629 488 673 319  20  56 674 217 316 121\n",
      " 121 267 122 621 385  97 300 300 675 565]\n"
     ]
    }
   ],
   "source": [
    "print(raw_clusters)"
   ]
  },
  {
   "cell_type": "code",
   "execution_count": 8,
   "metadata": {},
   "outputs": [],
   "source": [
    "article_titles['cluster'] = raw_clusters"
   ]
  },
  {
   "cell_type": "code",
   "execution_count": 9,
   "metadata": {},
   "outputs": [],
   "source": [
    "article_titles.to_csv('../Data/clustered_article_titles.csv')"
   ]
  },
  {
   "cell_type": "code",
   "execution_count": null,
   "metadata": {},
   "outputs": [],
   "source": []
  }
 ],
 "metadata": {
  "kernelspec": {
   "display_name": "Python 2",
   "language": "python",
   "name": "python2"
  },
  "language_info": {
   "codemirror_mode": {
    "name": "ipython",
    "version": 2
   },
   "file_extension": ".py",
   "mimetype": "text/x-python",
   "name": "python",
   "nbconvert_exporter": "python",
   "pygments_lexer": "ipython2",
   "version": "2.7.15"
  }
 },
 "nbformat": 4,
 "nbformat_minor": 2
}
