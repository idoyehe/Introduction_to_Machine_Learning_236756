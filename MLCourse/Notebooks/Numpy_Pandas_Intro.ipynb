{
 "cells": [
  {
   "cell_type": "markdown",
   "metadata": {},
   "source": [
    "# Numpy and Pandas Introduction\n",
    "\n",
    "In this notebook we will perform a quick overview over the vary comoon and basic packages for data analysis which are called: Numpy and Pandas."
   ]
  },
  {
   "cell_type": "markdown",
   "metadata": {},
   "source": [
    "* [Numpy](#numpy)\n",
    "    * [NDArray](#ndarray)\n",
    "    * [Arithmetic operations](#aritmetic_operations)\n",
    "    * [Accessing](#accessing)\n",
    "    * [Reshaping](#reshaping)\n",
    "    * [Stacking](#stacking)\n",
    "\n",
    "* [Pandas](#pandas)\n",
    "    * [Series](#series)\n",
    "    * [Dataframe](#dataframe)\n",
    "        * [Creation](#creation)\n",
    "        * [Operations](#operations)\n",
    "        * [Adding](#adding)\n",
    "        * [Data loading](#data_loading)\n",
    "        \n",
    "---"
   ]
  },
  {
   "cell_type": "code",
   "execution_count": 1,
   "metadata": {},
   "outputs": [],
   "source": [
    "import numpy as np\n",
    "import pandas as pd\n",
    "np.random.seed(0)  # seed for reproducibility"
   ]
  },
  {
   "cell_type": "markdown",
   "metadata": {},
   "source": [
    "## <a name=\"numpy\"></a>Numpy"
   ]
  },
  {
   "cell_type": "markdown",
   "metadata": {},
   "source": [
    "Numpy (“Numeric Python” or “Numerical Python”)\n",
    "NumPy is, just like SciPy, Scikit-Learn, Pandas, etc.  \n",
    "One of the packages that you just can’t miss when you’re learning data science, mainly because this library provides you with an array data structure that holds some benefits over Python lists, such as: being more compact, faster access in reading and writing items, being more convenient and more efficient."
   ]
  },
  {
   "cell_type": "markdown",
   "metadata": {},
   "source": [
    "### <a name=\"ndarray\"></a>NDArray\n",
    "An array object represents a multidimensional, homogeneous array of fixed-size items."
   ]
  },
  {
   "cell_type": "markdown",
   "metadata": {},
   "source": [
    "![alt text](http://community.datacamp.com.s3.amazonaws.com/community/production/ckeditor_assets/pictures/332/content_arrays-axes.png)"
   ]
  },
  {
   "cell_type": "markdown",
   "metadata": {},
   "source": [
    "Numpy arrays will always contain data from one type.  \n",
    "Creating a numpy array can be done in various ways: "
   ]
  },
  {
   "cell_type": "code",
   "execution_count": 2,
   "metadata": {},
   "outputs": [
    {
     "name": "stdout",
     "output_type": "stream",
     "text": [
      "[[1 2 3 4]\n",
      " [5 6 7 8]]\n",
      "()\n",
      "[5 0 3 3 7 9]\n",
      "()\n",
      "[[3 5 2 4]\n",
      " [7 6 8 8]]\n",
      "()\n",
      "[[[0 0 0 0]\n",
      "  [0 0 0 0]\n",
      "  [0 0 0 0]]\n",
      "\n",
      " [[0 0 0 0]\n",
      "  [0 0 0 0]\n",
      "  [0 0 0 0]]]\n",
      "arrange [0 1 2 3 4 5 6 7 8 9]\n",
      "[[ 0  1  2  3  4]\n",
      " [ 5  6  7  8  9]\n",
      " [10 11 12 13 14]]\n",
      "[0.         0.06346652 0.12693304 0.19039955 0.25386607 0.31733259\n",
      " 0.38079911 0.44426563 0.50773215 0.57119866 0.63466518 0.6981317\n",
      " 0.76159822 0.82506474 0.88853126 0.95199777 1.01546429 1.07893081\n",
      " 1.14239733 1.20586385 1.26933037 1.33279688 1.3962634  1.45972992\n",
      " 1.52319644 1.58666296 1.65012947 1.71359599 1.77706251 1.84052903\n",
      " 1.90399555 1.96746207 2.03092858 2.0943951  2.15786162 2.22132814\n",
      " 2.28479466 2.34826118 2.41172769 2.47519421 2.53866073 2.60212725\n",
      " 2.66559377 2.72906028 2.7925268  2.85599332 2.91945984 2.98292636\n",
      " 3.04639288 3.10985939 3.17332591 3.23679243 3.30025895 3.36372547\n",
      " 3.42719199 3.4906585  3.55412502 3.61759154 3.68105806 3.74452458\n",
      " 3.8079911  3.87145761 3.93492413 3.99839065 4.06185717 4.12532369\n",
      " 4.1887902  4.25225672 4.31572324 4.37918976 4.44265628 4.5061228\n",
      " 4.56958931 4.63305583 4.69652235 4.75998887 4.82345539 4.88692191\n",
      " 4.95038842 5.01385494 5.07732146 5.14078798 5.2042545  5.26772102\n",
      " 5.33118753 5.39465405 5.45812057 5.52158709 5.58505361 5.64852012\n",
      " 5.71198664 5.77545316 5.83891968 5.9023862  5.96585272 6.02931923\n",
      " 6.09278575 6.15625227 6.21971879 6.28318531]\n"
     ]
    }
   ],
   "source": [
    "# hardcoded\n",
    "my_array = np.array([[1,2,3,4], [5,6,7,8]], dtype=np.int64) \n",
    "print(my_array)\n",
    "print()\n",
    "\n",
    "# using numpy functions\n",
    "rand_array_1d = np.random.randint(10, size=6)\n",
    "print(rand_array_1d)\n",
    "print()\n",
    "rand_array_2d = np.random.randint(10, size=(2,4))\n",
    "print(rand_array_2d)\n",
    "print()\n",
    "\n",
    "zeros_array = np.zeros((2,3,4),dtype=np.int16)\n",
    "print(zeros_array)\n",
    "\n",
    "\n",
    "\n",
    "print(\"arrange {}\".format(np.arange(10)))\n",
    "\n",
    "matrix_example = np.arange(15).reshape(3, 5)\n",
    "print(matrix_example)\n",
    "\n",
    "float_matrix = np.linspace( 0, 2*np.pi, 100 ) # when dealing with floats, it's easier to define number of elements instesad of space size\n",
    "print(float_matrix)"
   ]
  },
  {
   "cell_type": "markdown",
   "metadata": {},
   "source": [
    "NDArray has few properties:"
   ]
  },
  {
   "cell_type": "code",
   "execution_count": 3,
   "metadata": {},
   "outputs": [
    {
     "name": "stdout",
     "output_type": "stream",
     "text": [
      "[[[0 0 0 0]\n",
      "  [0 0 0 0]\n",
      "  [0 0 0 0]]\n",
      "\n",
      " [[0 0 0 0]\n",
      "  [0 0 0 0]\n",
      "  [0 0 0 0]]]\n",
      "('zeros_array ndim: ', 3)\n",
      "('zeros_array shape:', (2L, 3L, 4L))\n",
      "('zeros_array size: ', 24)\n",
      "('dtype:', dtype('int16'))\n"
     ]
    }
   ],
   "source": [
    "print(zeros_array)\n",
    "print(\"zeros_array ndim: \", zeros_array.ndim)\n",
    "print(\"zeros_array shape:\", zeros_array.shape)\n",
    "print(\"zeros_array size: \", zeros_array.size)\n",
    "print(\"dtype:\", zeros_array.dtype)"
   ]
  },
  {
   "cell_type": "markdown",
   "metadata": {},
   "source": [
    "### <a name=\"aritmetic_operations\"></a>Arithmetic Operations"
   ]
  },
  {
   "cell_type": "markdown",
   "metadata": {},
   "source": [
    "Arithmetic operators on numpy arrays apply elementwise.  \n",
    "A new array is created and filled with the result."
   ]
  },
  {
   "cell_type": "code",
   "execution_count": 4,
   "metadata": {},
   "outputs": [
    {
     "name": "stdout",
     "output_type": "stream",
     "text": [
      "(array([20, 30, 40, 50]), array([0, 1, 2, 3]))\n"
     ]
    }
   ],
   "source": [
    "a = np.array( [20,30,40,50] )\n",
    "b = np.arange(4)\n",
    "print(a,b)"
   ]
  },
  {
   "cell_type": "code",
   "execution_count": 5,
   "metadata": {},
   "outputs": [
    {
     "name": "stdout",
     "output_type": "stream",
     "text": [
      "(array([20, 30, 40, 50]), array([0, 1, 2, 3]))\n",
      "[20 29 38 47]\n",
      "[ 9.12945251 -9.88031624  7.4511316  -2.62374854]\n"
     ]
    }
   ],
   "source": [
    "a = np.array( [20,30,40,50] )\n",
    "b = np.arange(4)\n",
    "print(a,b)\n",
    "\n",
    "c = a-b\n",
    "print(c)\n",
    "\n",
    "d = 10*np.sin(a)\n",
    "print(d)"
   ]
  },
  {
   "cell_type": "markdown",
   "metadata": {},
   "source": [
    "Unlike in many matrix languages, the product operator * operates elementwise in NumPy arrays.  \n",
    "The matrix product can be performed using the dot function or method:"
   ]
  },
  {
   "cell_type": "markdown",
   "metadata": {},
   "source": [
    " ![alt text](https://www.mathsisfun.com/algebra/images/matrix-multiply-a.svg)"
   ]
  },
  {
   "cell_type": "code",
   "execution_count": 6,
   "metadata": {},
   "outputs": [
    {
     "name": "stdout",
     "output_type": "stream",
     "text": [
      "A*B:\n",
      "[[2 0]\n",
      " [0 4]]\n",
      "A.dot(B)\n",
      "[[5 4]\n",
      " [3 4]]\n",
      "np dot\n",
      "[[5 4]\n",
      " [3 4]]\n"
     ]
    }
   ],
   "source": [
    "A = np.array( [[1,1],[0,1]] )\n",
    "B = np.array( [[2,0],[3,4]] )\n",
    "\n",
    "print(\"A*B:\")\n",
    "print(A*B) # elementwise product\n",
    "\n",
    "print(\"A.dot(B)\")\n",
    "print(A.dot(B)) # matrix product\n",
    "\n",
    "print(\"np dot\")\n",
    "print(np.dot(A, B)) # another matrix product"
   ]
  },
  {
   "cell_type": "markdown",
   "metadata": {},
   "source": [
    "Many unary operations, such as computing the sum of all the elements in the array, are implemented as methods of the ndarray class."
   ]
  },
  {
   "cell_type": "code",
   "execution_count": 7,
   "metadata": {},
   "outputs": [
    {
     "name": "stdout",
     "output_type": "stream",
     "text": [
      "[[0.27265629 0.47766512 0.81216873]\n",
      " [0.47997717 0.3927848  0.83607876]]\n",
      "The sum of the entire matrix is: 3.27133087269\n"
     ]
    }
   ],
   "source": [
    "a = np.random.random((2,3))\n",
    "print(a)\n",
    "print(\"The sum of the entire matrix is: {}\".format(a.sum()))"
   ]
  },
  {
   "cell_type": "markdown",
   "metadata": {},
   "source": [
    "By specifying the axis parameter you can apply an operation along the specified axis of an array:"
   ]
  },
  {
   "cell_type": "code",
   "execution_count": 8,
   "metadata": {},
   "outputs": [
    {
     "name": "stdout",
     "output_type": "stream",
     "text": [
      "[0.75263347 0.87044991 1.64824749]\n"
     ]
    }
   ],
   "source": [
    "print(a.sum(axis=0))"
   ]
  },
  {
   "cell_type": "markdown",
   "metadata": {},
   "source": [
    "###  <a name=\"accessing\"></a>Accessing"
   ]
  },
  {
   "cell_type": "markdown",
   "metadata": {},
   "source": [
    "A general paradigm to slice an array into subarrays is: **x[start:stop:step]**"
   ]
  },
  {
   "cell_type": "code",
   "execution_count": 9,
   "metadata": {},
   "outputs": [
    {
     "name": "stdout",
     "output_type": "stream",
     "text": [
      "[0 1 2 3 4 5 6 7 8 9]\n",
      "[0 1 2 3 4]\n",
      "[5 6 7 8 9]\n",
      "[4 5 6]\n",
      "[0 2 4 6 8]\n",
      "[1 3 5 7 9]\n",
      "[9 8 7 6 5 4 3 2 1 0]\n",
      "[False False False False False  True  True  True  True  True]\n",
      "[5 6 7 8 9]\n"
     ]
    }
   ],
   "source": [
    "x = np.arange(10)\n",
    "print(x)\n",
    "print(x[:5])  # first five elements\n",
    "print(x[5:])  # elements after index 5\n",
    "print(x[4:7])  # middle sub-array\n",
    "print(x[::2])  # every other element\n",
    "print(x[1::2])  # every other element, starting at index 1\n",
    "print(x[::-1])  # all elements, reversed\n",
    "print(x>4) # return array of booleans\n",
    "print(x[x>4]) # use the boolean array tp slice the data\n",
    "x=x[x>4]"
   ]
  },
  {
   "cell_type": "code",
   "execution_count": 10,
   "metadata": {},
   "outputs": [
    {
     "name": "stdout",
     "output_type": "stream",
     "text": [
      "[False False False False False  True  True  True  True  True]\n",
      "[5 6 7 8 9]\n"
     ]
    }
   ],
   "source": [
    "x = np.arange(10)\n",
    "print(x>4)\n",
    "\n",
    "print(x[x>4])"
   ]
  },
  {
   "cell_type": "code",
   "execution_count": 11,
   "metadata": {},
   "outputs": [
    {
     "name": "stdout",
     "output_type": "stream",
     "text": [
      "[False False False False False  True  True  True  True  True]\n"
     ]
    },
    {
     "data": {
      "text/plain": [
       "array([5, 6, 7, 8, 9])"
      ]
     },
     "execution_count": 11,
     "metadata": {},
     "output_type": "execute_result"
    }
   ],
   "source": [
    "x = np.arange(10)\n",
    "\n",
    "print(x>4)\n",
    "x[x>4]"
   ]
  },
  {
   "cell_type": "markdown",
   "metadata": {},
   "source": [
    "And for a Multi-Dimensional array is will look like:"
   ]
  },
  {
   "cell_type": "code",
   "execution_count": 12,
   "metadata": {},
   "outputs": [
    {
     "name": "stdout",
     "output_type": "stream",
     "text": [
      "[[[0.33739616 0.64817187 0.36824154]\n",
      "  [0.95715516 0.14035078 0.87008726]\n",
      "  [0.47360805 0.80091075 0.52047748]\n",
      "  [0.67887953 0.72063265 0.58201979]\n",
      "  [0.53737323 0.75861562 0.10590761]]\n",
      "\n",
      " [[0.47360042 0.18633234 0.73691818]\n",
      "  [0.21655035 0.13521817 0.32414101]\n",
      "  [0.14967487 0.22232139 0.38648898]\n",
      "  [0.90259848 0.44994999 0.61306346]\n",
      "  [0.90234858 0.09928035 0.96980907]]\n",
      "\n",
      " [[0.65314004 0.17090959 0.35815217]\n",
      "  [0.75068614 0.60783067 0.32504723]\n",
      "  [0.03842543 0.63427406 0.95894927]\n",
      "  [0.65279032 0.63505887 0.99529957]\n",
      "  [0.58185033 0.41436859 0.4746975 ]]\n",
      "\n",
      " [[0.6235101  0.33800761 0.67475232]\n",
      "  [0.31720174 0.77834548 0.94957105]\n",
      "  [0.66252687 0.01357164 0.6228461 ]\n",
      "  [0.67365963 0.971945   0.87819347]\n",
      "  [0.50962438 0.05571469 0.45115921]]]\n",
      "()\n",
      "[[[0.80091075]\n",
      "  [0.72063265]]\n",
      "\n",
      " [[0.22232139]\n",
      "  [0.44994999]]]\n"
     ]
    }
   ],
   "source": [
    "a = np.random.random((4,5,3))\n",
    "print(a)\n",
    "print()\n",
    "\n",
    "print(a[0:2,2:4,1:2])"
   ]
  },
  {
   "cell_type": "markdown",
   "metadata": {},
   "source": [
    "To iterate over an array:"
   ]
  },
  {
   "cell_type": "code",
   "execution_count": 13,
   "metadata": {},
   "outputs": [
    {
     "name": "stdout",
     "output_type": "stream",
     "text": [
      "[[0.33739616 0.64817187 0.36824154]\n",
      " [0.95715516 0.14035078 0.87008726]\n",
      " [0.47360805 0.80091075 0.52047748]\n",
      " [0.67887953 0.72063265 0.58201979]\n",
      " [0.53737323 0.75861562 0.10590761]]\n",
      "[[0.47360042 0.18633234 0.73691818]\n",
      " [0.21655035 0.13521817 0.32414101]\n",
      " [0.14967487 0.22232139 0.38648898]\n",
      " [0.90259848 0.44994999 0.61306346]\n",
      " [0.90234858 0.09928035 0.96980907]]\n",
      "[[0.65314004 0.17090959 0.35815217]\n",
      " [0.75068614 0.60783067 0.32504723]\n",
      " [0.03842543 0.63427406 0.95894927]\n",
      " [0.65279032 0.63505887 0.99529957]\n",
      " [0.58185033 0.41436859 0.4746975 ]]\n",
      "[[0.6235101  0.33800761 0.67475232]\n",
      " [0.31720174 0.77834548 0.94957105]\n",
      " [0.66252687 0.01357164 0.6228461 ]\n",
      " [0.67365963 0.971945   0.87819347]\n",
      " [0.50962438 0.05571469 0.45115921]]\n",
      "0.3373961604172684\n",
      "0.6481718720511972\n",
      "0.36824153984054797\n",
      "0.9571551589530464\n",
      "0.14035078041264515\n",
      "0.8700872583584364\n",
      "0.4736080452737105\n",
      "0.8009107519796442\n",
      "0.5204774795512048\n",
      "0.6788795301189603\n",
      "0.7206326547259168\n",
      "0.5820197920751071\n",
      "0.5373732294490107\n",
      "0.7586156243223572\n",
      "0.10590760718779213\n",
      "0.4736004193466574\n",
      "0.18633234332675996\n",
      "0.7369181771289581\n",
      "0.21655035442437187\n",
      "0.13521817340545206\n",
      "0.3241410077932141\n",
      "0.14967486718368317\n",
      "0.22232138825158765\n",
      "0.38648898112586194\n",
      "0.9025984755294046\n",
      "0.4499499899112276\n",
      "0.6130634578841324\n",
      "0.9023485831739843\n",
      "0.09928035035897387\n",
      "0.9698090677467488\n",
      "0.6531400357979377\n",
      "0.17090958513604515\n",
      "0.358152166969525\n",
      "0.7506861412184562\n",
      "0.6078306687154678\n",
      "0.3250472290083525\n",
      "0.038425426472734725\n",
      "0.634274057957335\n",
      "0.9589492686245203\n",
      "0.6527903170054908\n",
      "0.6350588736035638\n",
      "0.9952995676778876\n",
      "0.5818503294385343\n",
      "0.4143685882263688\n",
      "0.4746975022884129\n",
      "0.6235101011318682\n",
      "0.33800761483889175\n",
      "0.6747523222590207\n",
      "0.3172017420692961\n",
      "0.778345482025909\n",
      "0.9495710534507421\n",
      "0.6625268669500443\n",
      "0.013571635612109834\n",
      "0.6228460955466695\n",
      "0.6736596308357894\n",
      "0.9719450024996658\n",
      "0.878193471347177\n",
      "0.5096243767199001\n",
      "0.05571469370160631\n",
      "0.4511592145209281\n"
     ]
    }
   ],
   "source": [
    "for row in a: # iterating over each row\n",
    "    print(row)\n",
    "    \n",
    "for element in a.flat: # iteratying over each element\n",
    "    print(element)"
   ]
  },
  {
   "cell_type": "markdown",
   "metadata": {},
   "source": [
    "###  <a name=\"reshaping\"></a>Reshaping\n",
    "Reshaping means to restructure the dimensions of the ndarray"
   ]
  },
  {
   "cell_type": "code",
   "execution_count": 14,
   "metadata": {},
   "outputs": [
    {
     "name": "stdout",
     "output_type": "stream",
     "text": [
      "[[0. 4. 9. 3.]\n",
      " [4. 6. 8. 9.]\n",
      " [2. 5. 8. 5.]]\n",
      "[0. 4. 9. 3. 4. 6. 8. 9. 2. 5. 8. 5.]\n",
      "[[0. 4.]\n",
      " [9. 3.]\n",
      " [4. 6.]\n",
      " [8. 9.]\n",
      " [2. 5.]\n",
      " [8. 5.]]\n"
     ]
    }
   ],
   "source": [
    "a = np.floor(10*np.random.random((3,4)))\n",
    "print(a)\n",
    "\n",
    "print(a.ravel()) # returns the array, flattened\n",
    "\n",
    "print(a.reshape(6,2))  # returns the array with a modified shape"
   ]
  },
  {
   "cell_type": "markdown",
   "metadata": {},
   "source": [
    "###  <a name=\"stacking\"></a>Stacking\n",
    "Stacking mean to combine two arrays togeter (vertically or horizontally)."
   ]
  },
  {
   "cell_type": "code",
   "execution_count": 15,
   "metadata": {},
   "outputs": [
    {
     "name": "stdout",
     "output_type": "stream",
     "text": [
      "[[9. 9.]\n",
      " [0. 2.]]\n",
      "[[0. 8.]\n",
      " [6. 8.]]\n",
      "[[9. 9.]\n",
      " [0. 2.]\n",
      " [0. 8.]\n",
      " [6. 8.]]\n",
      "[[9. 9. 0. 8.]\n",
      " [0. 2. 6. 8.]]\n"
     ]
    }
   ],
   "source": [
    "a = np.floor(10*np.random.random((2,2)))\n",
    "b = np.floor(10*np.random.random((2,2)))\n",
    "print(a)\n",
    "print(b)\n",
    "\n",
    "print(np.vstack((a,b))) # vertical stacking\n",
    "print(np.hstack((a,b))) # horizontal stacking"
   ]
  },
  {
   "cell_type": "markdown",
   "metadata": {},
   "source": [
    "## <a name=\"pandas\"></a>Pandas\n",
    "Pandas is an open source, BSD-licensed library providing high-performance, easy-to-use data structures and data analysis tools for the Python programming language."
   ]
  },
  {
   "cell_type": "markdown",
   "metadata": {},
   "source": [
    "###  <a name=\"series\"></a>Series\n",
    "Series is a one-dimensional labeled array capable of holding any data type (integers, strings, floating point numbers, Python objects, etc.).  \n",
    "The axis labels are collectively referred to as the index.  \n",
    "The basic method to create a Series is to call: **s = pd.Series(data, index=index)**.  \n",
    "Series acts very similarly to a ndarray, and is a valid argument to most NumPy functions.  \n",
    "A series can created from different sources."
   ]
  },
  {
   "cell_type": "code",
   "execution_count": 16,
   "metadata": {},
   "outputs": [
    {
     "name": "stdout",
     "output_type": "stream",
     "text": [
      "a   -0.650913\n",
      "b   -1.498740\n",
      "c   -1.230635\n",
      "d    0.194007\n",
      "e   -0.998382\n",
      "dtype: float64\n"
     ]
    },
    {
     "data": {
      "text/plain": [
       "a    0\n",
       "b    1\n",
       "c    2\n",
       "dtype: int64"
      ]
     },
     "execution_count": 16,
     "metadata": {},
     "output_type": "execute_result"
    }
   ],
   "source": [
    "# creating series from ndarray\n",
    "s = pd.Series(np.random.randn(5), index=['a', 'b', 'c', 'd', 'e'])\n",
    "print(s)\n",
    "\n",
    "# creating series from dictionary\n",
    "d = {'b' : 1, 'a' : 0, 'c' : 2}\n",
    "pd.Series(d) "
   ]
  },
  {
   "cell_type": "markdown",
   "metadata": {},
   "source": [
    "A Series is like a fixed-size dict in that you can get and set values by index label:"
   ]
  },
  {
   "cell_type": "code",
   "execution_count": 17,
   "metadata": {},
   "outputs": [
    {
     "name": "stdout",
     "output_type": "stream",
     "text": [
      "-0.6509128721362502\n",
      "a   -0.650913\n",
      "b   -1.498740\n",
      "c   -1.230635\n",
      "dtype: float64\n",
      "-0.6509128721362502\n",
      "None\n"
     ]
    }
   ],
   "source": [
    "print(s[0])\n",
    "\n",
    "print(s[:3])\n",
    "\n",
    "print(s['a'])\n",
    "\n",
    "print(s.get('f'))"
   ]
  },
  {
   "cell_type": "markdown",
   "metadata": {},
   "source": [
    "Series can also have a name attribute:"
   ]
  },
  {
   "cell_type": "code",
   "execution_count": 18,
   "metadata": {},
   "outputs": [
    {
     "name": "stdout",
     "output_type": "stream",
     "text": [
      "0   -0.367638\n",
      "1    1.737199\n",
      "2    0.593613\n",
      "3   -0.542364\n",
      "4   -1.719672\n",
      "Name: something, dtype: float64\n"
     ]
    }
   ],
   "source": [
    "s = pd.Series(np.random.randn(5), name='something')\n",
    "print(s)"
   ]
  },
  {
   "cell_type": "markdown",
   "metadata": {},
   "source": [
    "###  <a name=\"dataframe\"></a>DataFrame\n",
    "DataFrame is a 2-dimensional labeled data structure with columns of potentially different types.  \n",
    "You can think of it like a spreadsheet or SQL table, or a dict of Series objects.  \n",
    "It is generally the most commonly used pandas object.  \n",
    "Like Series, DataFrame accepts many different kinds of inputs:\n",
    "* Dict of 1D ndarrays, lists, dicts, or Series\n",
    "* 2-D numpy.ndarray\n",
    "* Structured or record ndarray\n",
    "* A Series\n",
    "* Another DataFrame\n",
    "\n",
    "Along with the data, you can optionally pass index (row labels) and columns (column labels) arguments.  \n",
    "If you pass an index and / or columns, you are guaranteeing the index and / or columns of the resulting DataFrame.  \n",
    "Thus, a dict of Series plus a specific index will discard all data not matching up to the passed index.\n",
    "\n",
    "If axis labels are not passed, they will be constructed from the input data based on common sense rules."
   ]
  },
  {
   "cell_type": "markdown",
   "metadata": {},
   "source": [
    "![Pandas DataFrame Structure](../Images/dataframe.jpg)"
   ]
  },
  {
   "cell_type": "markdown",
   "metadata": {},
   "source": [
    "####  <a name=\"creation\"></a>Creation"
   ]
  },
  {
   "cell_type": "code",
   "execution_count": 19,
   "metadata": {},
   "outputs": [
    {
     "name": "stdout",
     "output_type": "stream",
     "text": [
      "   one  two\n",
      "0  1.0  4.0\n",
      "1  2.0  3.0\n",
      "2  3.0  2.0\n",
      "3  4.0  1.0\n",
      "   one  two\n",
      "a  1.0  4.0\n",
      "b  2.0  3.0\n",
      "c  3.0  2.0\n",
      "d  4.0  1.0\n",
      "   a   b     c\n",
      "0  1   2   NaN\n",
      "1  5  10  20.0\n",
      "        a   b     c\n",
      "first   1   2   NaN\n",
      "second  5  10  20.0\n",
      "   a   b\n",
      "0  1   2\n",
      "1  5  10\n",
      "   one  two\n",
      "a  1.0  4.0\n",
      "b  2.0  3.0\n",
      "c  3.0  2.0\n",
      "d  4.0  1.0\n"
     ]
    }
   ],
   "source": [
    "# from ndarray\n",
    "import pandas as pd\n",
    "d = {'one' : [1., 2., 3., 4.], 'two' : [4., 3., 2., 1.]}\n",
    "d_df1 = pd.DataFrame(d)\n",
    "print(d_df1)\n",
    "\n",
    "\n",
    "d_df2 = pd.DataFrame(d, index=['a', 'b', 'c', 'd'])\n",
    "print(d_df2)\n",
    "\n",
    "# from list of dicts\n",
    "data2 = [{'a': 1, 'b': 2}, {'a': 5, 'b': 10, 'c': 20}]\n",
    "d_df3 = pd.DataFrame(data2)\n",
    "print(d_df3)\n",
    "d_df4 = pd.DataFrame(data2, index=['first', 'second'])\n",
    "print(d_df4)\n",
    "d_df5 = pd.DataFrame(data2, columns=['a', 'b'])\n",
    "print(d_df5)\n",
    "\n",
    "\n",
    "print(d_df2)"
   ]
  },
  {
   "cell_type": "code",
   "execution_count": 20,
   "metadata": {},
   "outputs": [
    {
     "data": {
      "text/plain": [
       "a     5.0\n",
       "b    10.0\n",
       "c    20.0\n",
       "Name: second, dtype: float64"
      ]
     },
     "execution_count": 20,
     "metadata": {},
     "output_type": "execute_result"
    }
   ],
   "source": [
    "d_df4\n",
    "d_df4.iloc[1]\n",
    "#d_df2.iloc[3]"
   ]
  },
  {
   "cell_type": "markdown",
   "metadata": {},
   "source": [
    "####  <a name=\"operations\"></a>Operations"
   ]
  },
  {
   "cell_type": "markdown",
   "metadata": {},
   "source": [
    "![Pandas DataFrame operations](../Images/slicing.png)"
   ]
  },
  {
   "cell_type": "code",
   "execution_count": 21,
   "metadata": {},
   "outputs": [
    {
     "data": {
      "text/plain": [
       "a    4.0\n",
       "b    3.0\n",
       "c    2.0\n",
       "d    1.0\n",
       "Name: two, dtype: float64"
      ]
     },
     "execution_count": 21,
     "metadata": {},
     "output_type": "execute_result"
    }
   ],
   "source": [
    "d_df2.two"
   ]
  },
  {
   "cell_type": "markdown",
   "metadata": {},
   "source": [
    "Filter for a specific column."
   ]
  },
  {
   "cell_type": "code",
   "execution_count": 22,
   "metadata": {},
   "outputs": [
    {
     "name": "stdout",
     "output_type": "stream",
     "text": [
      "   one  two\n",
      "a  1.0  4.0\n",
      "b  2.0  3.0\n",
      "c  3.0  2.0\n",
      "d  4.0  1.0\n",
      "Index([u'a', u'b', u'c', u'd'], dtype='object')\n"
     ]
    },
    {
     "data": {
      "text/plain": [
       "a    1.0\n",
       "b    2.0\n",
       "c    3.0\n",
       "d    4.0\n",
       "Name: one, dtype: float64"
      ]
     },
     "execution_count": 22,
     "metadata": {},
     "output_type": "execute_result"
    }
   ],
   "source": [
    "\n",
    "\n",
    "print(d_df2)\n",
    "print(d_df2.index)\n",
    "d_df2['one'] # will return a series"
   ]
  },
  {
   "cell_type": "code",
   "execution_count": 23,
   "metadata": {},
   "outputs": [
    {
     "data": {
      "text/html": [
       "<div>\n",
       "<style scoped>\n",
       "    .dataframe tbody tr th:only-of-type {\n",
       "        vertical-align: middle;\n",
       "    }\n",
       "\n",
       "    .dataframe tbody tr th {\n",
       "        vertical-align: top;\n",
       "    }\n",
       "\n",
       "    .dataframe thead th {\n",
       "        text-align: right;\n",
       "    }\n",
       "</style>\n",
       "<table border=\"1\" class=\"dataframe\">\n",
       "  <thead>\n",
       "    <tr style=\"text-align: right;\">\n",
       "      <th></th>\n",
       "      <th>one</th>\n",
       "    </tr>\n",
       "  </thead>\n",
       "  <tbody>\n",
       "    <tr>\n",
       "      <th>a</th>\n",
       "      <td>1.0</td>\n",
       "    </tr>\n",
       "    <tr>\n",
       "      <th>b</th>\n",
       "      <td>2.0</td>\n",
       "    </tr>\n",
       "    <tr>\n",
       "      <th>c</th>\n",
       "      <td>3.0</td>\n",
       "    </tr>\n",
       "    <tr>\n",
       "      <th>d</th>\n",
       "      <td>4.0</td>\n",
       "    </tr>\n",
       "  </tbody>\n",
       "</table>\n",
       "</div>"
      ],
      "text/plain": [
       "   one\n",
       "a  1.0\n",
       "b  2.0\n",
       "c  3.0\n",
       "d  4.0"
      ]
     },
     "execution_count": 23,
     "metadata": {},
     "output_type": "execute_result"
    }
   ],
   "source": [
    "d_df2[['one']] # will return a dataframe"
   ]
  },
  {
   "cell_type": "markdown",
   "metadata": {},
   "source": [
    "Auto complete a column name."
   ]
  },
  {
   "cell_type": "code",
   "execution_count": 24,
   "metadata": {},
   "outputs": [
    {
     "data": {
      "text/plain": [
       "a    1.0\n",
       "b    2.0\n",
       "c    3.0\n",
       "d    4.0\n",
       "Name: one, dtype: float64"
      ]
     },
     "execution_count": 24,
     "metadata": {},
     "output_type": "execute_result"
    }
   ],
   "source": [
    "d_df2.one"
   ]
  },
  {
   "cell_type": "markdown",
   "metadata": {},
   "source": [
    "Filter rows by loc function (by index)."
   ]
  },
  {
   "cell_type": "code",
   "execution_count": 25,
   "metadata": {},
   "outputs": [
    {
     "data": {
      "text/plain": [
       "one    1.0\n",
       "two    4.0\n",
       "Name: a, dtype: float64"
      ]
     },
     "execution_count": 25,
     "metadata": {},
     "output_type": "execute_result"
    }
   ],
   "source": [
    "d_df2.loc['a']"
   ]
  },
  {
   "cell_type": "markdown",
   "metadata": {},
   "source": [
    "Filter rows by iloc function (by location)."
   ]
  },
  {
   "cell_type": "code",
   "execution_count": 26,
   "metadata": {},
   "outputs": [
    {
     "data": {
      "text/html": [
       "<div>\n",
       "<style scoped>\n",
       "    .dataframe tbody tr th:only-of-type {\n",
       "        vertical-align: middle;\n",
       "    }\n",
       "\n",
       "    .dataframe tbody tr th {\n",
       "        vertical-align: top;\n",
       "    }\n",
       "\n",
       "    .dataframe thead th {\n",
       "        text-align: right;\n",
       "    }\n",
       "</style>\n",
       "<table border=\"1\" class=\"dataframe\">\n",
       "  <thead>\n",
       "    <tr style=\"text-align: right;\">\n",
       "      <th></th>\n",
       "      <th>one</th>\n",
       "      <th>two</th>\n",
       "    </tr>\n",
       "  </thead>\n",
       "  <tbody>\n",
       "    <tr>\n",
       "      <th>b</th>\n",
       "      <td>2.0</td>\n",
       "      <td>3.0</td>\n",
       "    </tr>\n",
       "    <tr>\n",
       "      <th>c</th>\n",
       "      <td>3.0</td>\n",
       "      <td>2.0</td>\n",
       "    </tr>\n",
       "  </tbody>\n",
       "</table>\n",
       "</div>"
      ],
      "text/plain": [
       "   one  two\n",
       "b  2.0  3.0\n",
       "c  3.0  2.0"
      ]
     },
     "execution_count": 26,
     "metadata": {},
     "output_type": "execute_result"
    }
   ],
   "source": [
    "d_df2.iloc[1:3]"
   ]
  },
  {
   "cell_type": "markdown",
   "metadata": {},
   "source": [
    "Simple slicing."
   ]
  },
  {
   "cell_type": "code",
   "execution_count": 27,
   "metadata": {},
   "outputs": [
    {
     "data": {
      "text/html": [
       "<div>\n",
       "<style scoped>\n",
       "    .dataframe tbody tr th:only-of-type {\n",
       "        vertical-align: middle;\n",
       "    }\n",
       "\n",
       "    .dataframe tbody tr th {\n",
       "        vertical-align: top;\n",
       "    }\n",
       "\n",
       "    .dataframe thead th {\n",
       "        text-align: right;\n",
       "    }\n",
       "</style>\n",
       "<table border=\"1\" class=\"dataframe\">\n",
       "  <thead>\n",
       "    <tr style=\"text-align: right;\">\n",
       "      <th></th>\n",
       "      <th>one</th>\n",
       "      <th>two</th>\n",
       "    </tr>\n",
       "  </thead>\n",
       "  <tbody>\n",
       "    <tr>\n",
       "      <th>b</th>\n",
       "      <td>2.0</td>\n",
       "      <td>3.0</td>\n",
       "    </tr>\n",
       "    <tr>\n",
       "      <th>c</th>\n",
       "      <td>3.0</td>\n",
       "      <td>2.0</td>\n",
       "    </tr>\n",
       "  </tbody>\n",
       "</table>\n",
       "</div>"
      ],
      "text/plain": [
       "   one  two\n",
       "b  2.0  3.0\n",
       "c  3.0  2.0"
      ]
     },
     "execution_count": 27,
     "metadata": {},
     "output_type": "execute_result"
    }
   ],
   "source": [
    "d_df2[1:3]"
   ]
  },
  {
   "cell_type": "markdown",
   "metadata": {},
   "source": [
    "This feature is not deprecated and completely up to you whether you wish to use it.  \n",
    "But, I highly prefer not to select rows in this manner as can be ambiguous, especially if you have integers in your index.\n",
    "\n",
    "Using .iloc and .loc is explicit and clearly tells the person reading the code what is going to happen."
   ]
  },
  {
   "cell_type": "markdown",
   "metadata": {},
   "source": [
    "Select by boolean condition."
   ]
  },
  {
   "cell_type": "code",
   "execution_count": 28,
   "metadata": {},
   "outputs": [
    {
     "data": {
      "text/html": [
       "<div>\n",
       "<style scoped>\n",
       "    .dataframe tbody tr th:only-of-type {\n",
       "        vertical-align: middle;\n",
       "    }\n",
       "\n",
       "    .dataframe tbody tr th {\n",
       "        vertical-align: top;\n",
       "    }\n",
       "\n",
       "    .dataframe thead th {\n",
       "        text-align: right;\n",
       "    }\n",
       "</style>\n",
       "<table border=\"1\" class=\"dataframe\">\n",
       "  <thead>\n",
       "    <tr style=\"text-align: right;\">\n",
       "      <th></th>\n",
       "      <th>one</th>\n",
       "      <th>two</th>\n",
       "    </tr>\n",
       "  </thead>\n",
       "  <tbody>\n",
       "    <tr>\n",
       "      <th>b</th>\n",
       "      <td>2.0</td>\n",
       "      <td>3.0</td>\n",
       "    </tr>\n",
       "  </tbody>\n",
       "</table>\n",
       "</div>"
      ],
      "text/plain": [
       "   one  two\n",
       "b  2.0  3.0"
      ]
     },
     "execution_count": 28,
     "metadata": {},
     "output_type": "execute_result"
    }
   ],
   "source": [
    "d_df2[d_df2.one == 2.]"
   ]
  },
  {
   "cell_type": "markdown",
   "metadata": {},
   "source": [
    "####  <a name=\"adding\"></a>Adding"
   ]
  },
  {
   "cell_type": "markdown",
   "metadata": {},
   "source": [
    "Adding a new column."
   ]
  },
  {
   "cell_type": "code",
   "execution_count": 29,
   "metadata": {},
   "outputs": [
    {
     "data": {
      "text/html": [
       "<div>\n",
       "<style scoped>\n",
       "    .dataframe tbody tr th:only-of-type {\n",
       "        vertical-align: middle;\n",
       "    }\n",
       "\n",
       "    .dataframe tbody tr th {\n",
       "        vertical-align: top;\n",
       "    }\n",
       "\n",
       "    .dataframe thead th {\n",
       "        text-align: right;\n",
       "    }\n",
       "</style>\n",
       "<table border=\"1\" class=\"dataframe\">\n",
       "  <thead>\n",
       "    <tr style=\"text-align: right;\">\n",
       "      <th></th>\n",
       "      <th>one</th>\n",
       "      <th>two</th>\n",
       "      <th>new_col</th>\n",
       "    </tr>\n",
       "  </thead>\n",
       "  <tbody>\n",
       "    <tr>\n",
       "      <th>a</th>\n",
       "      <td>1.0</td>\n",
       "      <td>4.0</td>\n",
       "      <td>5</td>\n",
       "    </tr>\n",
       "    <tr>\n",
       "      <th>b</th>\n",
       "      <td>2.0</td>\n",
       "      <td>3.0</td>\n",
       "      <td>5</td>\n",
       "    </tr>\n",
       "    <tr>\n",
       "      <th>c</th>\n",
       "      <td>3.0</td>\n",
       "      <td>2.0</td>\n",
       "      <td>5</td>\n",
       "    </tr>\n",
       "    <tr>\n",
       "      <th>d</th>\n",
       "      <td>4.0</td>\n",
       "      <td>1.0</td>\n",
       "      <td>5</td>\n",
       "    </tr>\n",
       "  </tbody>\n",
       "</table>\n",
       "</div>"
      ],
      "text/plain": [
       "   one  two  new_col\n",
       "a  1.0  4.0        5\n",
       "b  2.0  3.0        5\n",
       "c  3.0  2.0        5\n",
       "d  4.0  1.0        5"
      ]
     },
     "execution_count": 29,
     "metadata": {},
     "output_type": "execute_result"
    }
   ],
   "source": [
    "d_df2['new_col']=5\n",
    "d_df2.head()"
   ]
  },
  {
   "cell_type": "markdown",
   "metadata": {},
   "source": [
    "Adding a new row."
   ]
  },
  {
   "cell_type": "code",
   "execution_count": 30,
   "metadata": {},
   "outputs": [
    {
     "data": {
      "text/html": [
       "<div>\n",
       "<style scoped>\n",
       "    .dataframe tbody tr th:only-of-type {\n",
       "        vertical-align: middle;\n",
       "    }\n",
       "\n",
       "    .dataframe tbody tr th {\n",
       "        vertical-align: top;\n",
       "    }\n",
       "\n",
       "    .dataframe thead th {\n",
       "        text-align: right;\n",
       "    }\n",
       "</style>\n",
       "<table border=\"1\" class=\"dataframe\">\n",
       "  <thead>\n",
       "    <tr style=\"text-align: right;\">\n",
       "      <th></th>\n",
       "      <th>lib</th>\n",
       "      <th>qty1</th>\n",
       "      <th>qty2</th>\n",
       "    </tr>\n",
       "  </thead>\n",
       "  <tbody>\n",
       "    <tr>\n",
       "      <th>0</th>\n",
       "      <td>-1</td>\n",
       "      <td>0</td>\n",
       "      <td>0</td>\n",
       "    </tr>\n",
       "    <tr>\n",
       "      <th>1</th>\n",
       "      <td>-1</td>\n",
       "      <td>-1</td>\n",
       "      <td>-1</td>\n",
       "    </tr>\n",
       "    <tr>\n",
       "      <th>2</th>\n",
       "      <td>-1</td>\n",
       "      <td>-1</td>\n",
       "      <td>0</td>\n",
       "    </tr>\n",
       "    <tr>\n",
       "      <th>3</th>\n",
       "      <td>-1</td>\n",
       "      <td>0</td>\n",
       "      <td>-1</td>\n",
       "    </tr>\n",
       "    <tr>\n",
       "      <th>4</th>\n",
       "      <td>-1</td>\n",
       "      <td>-1</td>\n",
       "      <td>0</td>\n",
       "    </tr>\n",
       "  </tbody>\n",
       "</table>\n",
       "</div>"
      ],
      "text/plain": [
       "  lib qty1 qty2\n",
       "0  -1    0    0\n",
       "1  -1   -1   -1\n",
       "2  -1   -1    0\n",
       "3  -1    0   -1\n",
       "4  -1   -1    0"
      ]
     },
     "execution_count": 30,
     "metadata": {},
     "output_type": "execute_result"
    }
   ],
   "source": [
    "df = pd.DataFrame(columns=['lib', 'qty1', 'qty2'])\n",
    "for i in range(5):\n",
    "    df.loc[i] = [np.random.randint(-1,1) for n in range(3)]\n",
    "df.head()"
   ]
  },
  {
   "cell_type": "markdown",
   "metadata": {},
   "source": [
    "####  <a name=\"data_loading\"></a>Data Loading"
   ]
  },
  {
   "cell_type": "markdown",
   "metadata": {},
   "source": [
    "Reading data from a csv."
   ]
  },
  {
   "cell_type": "code",
   "execution_count": 31,
   "metadata": {},
   "outputs": [
    {
     "data": {
      "text/html": [
       "<div>\n",
       "<style scoped>\n",
       "    .dataframe tbody tr th:only-of-type {\n",
       "        vertical-align: middle;\n",
       "    }\n",
       "\n",
       "    .dataframe tbody tr th {\n",
       "        vertical-align: top;\n",
       "    }\n",
       "\n",
       "    .dataframe thead th {\n",
       "        text-align: right;\n",
       "    }\n",
       "</style>\n",
       "<table border=\"1\" class=\"dataframe\">\n",
       "  <thead>\n",
       "    <tr style=\"text-align: right;\">\n",
       "      <th></th>\n",
       "      <th>lib</th>\n",
       "      <th>qty1</th>\n",
       "      <th>qty2</th>\n",
       "    </tr>\n",
       "  </thead>\n",
       "  <tbody>\n",
       "    <tr>\n",
       "      <th>0</th>\n",
       "      <td>-1</td>\n",
       "      <td>0</td>\n",
       "      <td>0</td>\n",
       "    </tr>\n",
       "    <tr>\n",
       "      <th>1</th>\n",
       "      <td>-1</td>\n",
       "      <td>-1</td>\n",
       "      <td>-1</td>\n",
       "    </tr>\n",
       "    <tr>\n",
       "      <th>2</th>\n",
       "      <td>-1</td>\n",
       "      <td>-1</td>\n",
       "      <td>0</td>\n",
       "    </tr>\n",
       "    <tr>\n",
       "      <th>3</th>\n",
       "      <td>-1</td>\n",
       "      <td>0</td>\n",
       "      <td>-1</td>\n",
       "    </tr>\n",
       "    <tr>\n",
       "      <th>4</th>\n",
       "      <td>-1</td>\n",
       "      <td>-1</td>\n",
       "      <td>0</td>\n",
       "    </tr>\n",
       "  </tbody>\n",
       "</table>\n",
       "</div>"
      ],
      "text/plain": [
       "  lib qty1 qty2\n",
       "0  -1    0    0\n",
       "1  -1   -1   -1\n",
       "2  -1   -1    0\n",
       "3  -1    0   -1\n",
       "4  -1   -1    0"
      ]
     },
     "execution_count": 31,
     "metadata": {},
     "output_type": "execute_result"
    }
   ],
   "source": [
    "# df = pd.read_csv(\"../Data/diamonds.csv\")\n",
    "df.shape\n",
    "df.head(10)\n",
    "#df.tail(2)"
   ]
  },
  {
   "cell_type": "markdown",
   "metadata": {},
   "source": [
    "View the index of the dataframe."
   ]
  },
  {
   "cell_type": "code",
   "execution_count": 32,
   "metadata": {},
   "outputs": [
    {
     "data": {
      "text/plain": [
       "Int64Index([0, 1, 2, 3, 4], dtype='int64')"
      ]
     },
     "execution_count": 32,
     "metadata": {},
     "output_type": "execute_result"
    }
   ],
   "source": [
    "df.index"
   ]
  },
  {
   "cell_type": "markdown",
   "metadata": {},
   "source": [
    "View the column list of the dataframe."
   ]
  },
  {
   "cell_type": "code",
   "execution_count": 33,
   "metadata": {},
   "outputs": [
    {
     "data": {
      "text/plain": [
       "Index([u'lib', u'qty1', u'qty2'], dtype='object')"
      ]
     },
     "execution_count": 33,
     "metadata": {},
     "output_type": "execute_result"
    }
   ],
   "source": [
    "df.columns"
   ]
  },
  {
   "cell_type": "markdown",
   "metadata": {},
   "source": [
    "View all of the dataframe values."
   ]
  },
  {
   "cell_type": "code",
   "execution_count": 34,
   "metadata": {},
   "outputs": [
    {
     "data": {
      "text/plain": [
       "array([[-1L, 0L, 0L],\n",
       "       [-1L, -1L, -1L],\n",
       "       [-1L, -1L, 0L],\n",
       "       [-1L, 0L, -1L],\n",
       "       [-1L, -1L, 0L]], dtype=object)"
      ]
     },
     "execution_count": 34,
     "metadata": {},
     "output_type": "execute_result"
    }
   ],
   "source": [
    "df.values"
   ]
  }
 ],
 "metadata": {
  "kernelspec": {
   "display_name": "Python 2",
   "language": "python",
   "name": "python2"
  },
  "language_info": {
   "codemirror_mode": {
    "name": "ipython",
    "version": 2
   },
   "file_extension": ".py",
   "mimetype": "text/x-python",
   "name": "python",
   "nbconvert_exporter": "python",
   "pygments_lexer": "ipython2",
   "version": "2.7.15"
  }
 },
 "nbformat": 4,
 "nbformat_minor": 2
}
