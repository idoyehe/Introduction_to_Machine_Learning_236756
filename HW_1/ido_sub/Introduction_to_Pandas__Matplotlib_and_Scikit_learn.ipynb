{
 "cells": [
  {
   "cell_type": "markdown",
   "metadata": {
    "colab_type": "text",
    "id": "uLW7BK5P2aom"
   },
   "source": [
    "# Pandas, Matplotlib and Scikit Learn Overview\n",
    "\n",
    "## What is pandas?\n",
    "Python Library for Data manipulation and Analysis\n",
    " - Provide expressive data structures designed to make working with “relational” or “labeled” data both easy and intuitive.\n",
    " - Aims to be the fundamental high-level building block for doing practical, real world data analysis in Python.\n",
    " - Built on top of NumPy and is intended to integrate well within a scientific computing.\n",
    " - Inspired by R and Excel.\n",
    " \n",
    "Pandas is well suited for many different kinds of data:\n",
    "- **Tabular data** with heterogeneously-typed columns, as in an SQL table or Excel spreadsheet\n",
    "- Ordered and unordered (not necessarily fixed-frequency) **time series data**.\n",
    "- **Arbitrary matrix data** (homogeneously typed or heterogeneous) with row and column labels\n",
    "- Any other form of observational / statistical data sets (can be unlabeled)\n",
    "\n",
    "Two primary data structures\n",
    "- **Series** (1-dimensional) – Similar to a column in Excel’s spreadsheet\n",
    "- **Data Frame** (2-dimensional) – Similar to R’s data frame\n",
    "\n",
    "A few of the things that Pandas does well\n",
    "- Easy handling of **missing data** (represented as NaN)\n",
    "- Automatic and explicit **data alignment**\n",
    "- Read and Analyze **CSV** , Excel Sheets Easily\n",
    "- Operations\n",
    "- Filtering, Group By, Merging, Slicing and Dicing, Pivoting and Reshaping\n",
    "- Plotting graphs\n",
    "\n",
    "Pandas is very useful for interactive data exploration at the data preparation stage of a project\n",
    "\n",
    "The offical guide to Pandas can be found [here](http://pandas-docs.github.io/pandas-docs-travis/10min.html)"
   ]
  },
  {
   "cell_type": "markdown",
   "metadata": {
    "colab_type": "text",
    "id": "TDYQN4Ml2aoo"
   },
   "source": [
    "## Pandas Objects"
   ]
  },
  {
   "cell_type": "code",
   "execution_count": null,
   "metadata": {
    "colab": {
     "autoexec": {
      "startup": false,
      "wait_interval": 0.0
     }
    },
    "colab_type": "code",
    "collapsed": true,
    "id": "Q_c5BMc-2aoq"
   },
   "outputs": [],
   "source": [
    "import pandas as pd\n",
    "import numpy as np"
   ]
  },
  {
   "cell_type": "markdown",
   "metadata": {
    "colab_type": "text",
    "id": "of7RnZdI2aov"
   },
   "source": [
    "**Series** like a column in a spreadsheet."
   ]
  },
  {
   "cell_type": "code",
   "execution_count": null,
   "metadata": {
    "colab": {
     "autoexec": {
      "startup": false,
      "wait_interval": 0.0
     },
     "base_uri": "https://localhost:8080/",
     "height": 102.0,
     "output_extras": [
      {
       "item_id": 1.0
      }
     ]
    },
    "colab_type": "code",
    "collapsed": false,
    "executionInfo": {
     "elapsed": 504.0,
     "status": "ok",
     "timestamp": 1.522076883174E12,
     "user": {
      "displayName": "Nadav Bhonker",
      "photoUrl": "https://lh3.googleusercontent.com/a/default-user=s128",
      "userId": "116259624374379926188"
     },
     "user_tz": -180.0
    },
    "id": "ZhkFcXtD2aov",
    "outputId": "b9b588a6-94e7-4662-b908-011e969a9347"
   },
   "outputs": [],
   "source": [
    "s = pd.Series([1,3,np.nan,'string'])\n",
    "s"
   ]
  },
  {
   "cell_type": "markdown",
   "metadata": {
    "colab_type": "text",
    "id": "zNJeQjmW2ao2"
   },
   "source": [
    "**DataFrame** like a spreadsheet – a dictionary of Series objects"
   ]
  },
  {
   "cell_type": "code",
   "execution_count": null,
   "metadata": {
    "colab": {
     "autoexec": {
      "startup": false,
      "wait_interval": 0.0
     },
     "base_uri": "https://localhost:8080/",
     "height": 235.0,
     "output_extras": [
      {
       "item_id": 1.0
      }
     ]
    },
    "colab_type": "code",
    "collapsed": false,
    "executionInfo": {
     "elapsed": 507.0,
     "status": "ok",
     "timestamp": 1.522076883831E12,
     "user": {
      "displayName": "Nadav Bhonker",
      "photoUrl": "https://lh3.googleusercontent.com/a/default-user=s128",
      "userId": "116259624374379926188"
     },
     "user_tz": -180.0
    },
    "id": "Y3aJeHpt2ao2",
    "outputId": "dd0dba9c-8611-4380-855a-76c0916537d6"
   },
   "outputs": [],
   "source": [
    "data = [['ABC', -3.5, 0.01], ['ABC', -2.3, 0.12], ['DEF', 1.8, 0.03],\n",
    "['DEF', 3.7, 0.01], ['GHI', 0.04, 0.43], ['GHI', -0.1, 0.67]]\n",
    "\n",
    "df = pd.DataFrame(data, columns=['gene', 'log2FC', 'pval'])\n",
    "\n",
    "df"
   ]
  },
  {
   "cell_type": "markdown",
   "metadata": {
    "colab_type": "text",
    "id": "bxOH250q2ao5"
   },
   "source": [
    "### Viewing Data"
   ]
  },
  {
   "cell_type": "markdown",
   "metadata": {
    "colab_type": "text",
    "id": "uXVA81o72ao6"
   },
   "source": [
    "Display the top and bottom rows of the frame"
   ]
  },
  {
   "cell_type": "code",
   "execution_count": null,
   "metadata": {
    "colab": {
     "autoexec": {
      "startup": false,
      "wait_interval": 0.0
     },
     "base_uri": "https://localhost:8080/",
     "height": 204.0,
     "output_extras": [
      {
       "item_id": 1.0
      }
     ]
    },
    "colab_type": "code",
    "collapsed": false,
    "executionInfo": {
     "elapsed": 655.0,
     "status": "ok",
     "timestamp": 1.522076887307E12,
     "user": {
      "displayName": "Nadav Bhonker",
      "photoUrl": "https://lh3.googleusercontent.com/a/default-user=s128",
      "userId": "116259624374379926188"
     },
     "user_tz": -180.0
    },
    "id": "9wMS7CQM2ao8",
    "outputId": "3e02ad94-261a-4950-f44a-3c5d5a5b0035"
   },
   "outputs": [],
   "source": [
    "df.head()"
   ]
  },
  {
   "cell_type": "code",
   "execution_count": null,
   "metadata": {
    "colab": {
     "autoexec": {
      "startup": false,
      "wait_interval": 0.0
     },
     "base_uri": "https://localhost:8080/",
     "height": 204.0,
     "output_extras": [
      {
       "item_id": 1.0
      }
     ]
    },
    "colab_type": "code",
    "collapsed": false,
    "executionInfo": {
     "elapsed": 627.0,
     "status": "ok",
     "timestamp": 1.522076888528E12,
     "user": {
      "displayName": "Nadav Bhonker",
      "photoUrl": "https://lh3.googleusercontent.com/a/default-user=s128",
      "userId": "116259624374379926188"
     },
     "user_tz": -180.0
    },
    "id": "aKCLYkwP2apA",
    "outputId": "73b7610f-17a1-40c7-8cfd-9ce83f69480a"
   },
   "outputs": [],
   "source": [
    "df.tail()"
   ]
  },
  {
   "cell_type": "code",
   "execution_count": null,
   "metadata": {
    "colab": {
     "autoexec": {
      "startup": false,
      "wait_interval": 0.0
     },
     "base_uri": "https://localhost:8080/",
     "height": 111.0,
     "output_extras": [
      {
       "item_id": 1.0
      }
     ]
    },
    "colab_type": "code",
    "collapsed": false,
    "executionInfo": {
     "elapsed": 590.0,
     "status": "ok",
     "timestamp": 1.522076890855E12,
     "user": {
      "displayName": "Nadav Bhonker",
      "photoUrl": "https://lh3.googleusercontent.com/a/default-user=s128",
      "userId": "116259624374379926188"
     },
     "user_tz": -180.0
    },
    "id": "lkmkCpJS2apC",
    "outputId": "bf83ad80-ce82-4224-e29a-21dd5926a975"
   },
   "outputs": [],
   "source": [
    "df.tail(2)"
   ]
  },
  {
   "cell_type": "markdown",
   "metadata": {
    "colab_type": "text",
    "id": "PiTTlTmZ2apF"
   },
   "source": [
    "Display the index, clumns and the underlying numpy data"
   ]
  },
  {
   "cell_type": "code",
   "execution_count": null,
   "metadata": {
    "colab": {
     "autoexec": {
      "startup": false,
      "wait_interval": 0.0
     },
     "base_uri": "https://localhost:8080/",
     "height": 136.0,
     "output_extras": [
      {
       "item_id": 1.0
      }
     ]
    },
    "colab_type": "code",
    "collapsed": false,
    "executionInfo": {
     "elapsed": 579.0,
     "status": "ok",
     "timestamp": 1.522076893098E12,
     "user": {
      "displayName": "Nadav Bhonker",
      "photoUrl": "https://lh3.googleusercontent.com/a/default-user=s128",
      "userId": "116259624374379926188"
     },
     "user_tz": -180.0
    },
    "id": "MCt3nEKZ2apG",
    "outputId": "915ee871-a1f4-41f8-bb85-c370f6015c14"
   },
   "outputs": [],
   "source": [
    "df['log2FC'] # df.log2FC"
   ]
  },
  {
   "cell_type": "code",
   "execution_count": null,
   "metadata": {
    "colab": {
     "autoexec": {
      "startup": false,
      "wait_interval": 0.0
     },
     "base_uri": "https://localhost:8080/",
     "height": 34.0,
     "output_extras": [
      {
       "item_id": 1.0
      }
     ]
    },
    "colab_type": "code",
    "collapsed": false,
    "executionInfo": {
     "elapsed": 588.0,
     "status": "ok",
     "timestamp": 1.52207689572E12,
     "user": {
      "displayName": "Nadav Bhonker",
      "photoUrl": "https://lh3.googleusercontent.com/a/default-user=s128",
      "userId": "116259624374379926188"
     },
     "user_tz": -180.0
    },
    "id": "ho_Tj3382apJ",
    "outputId": "d498b603-e951-4d9b-911e-69026936b69a"
   },
   "outputs": [],
   "source": [
    "df.columns"
   ]
  },
  {
   "cell_type": "code",
   "execution_count": null,
   "metadata": {
    "colab": {
     "autoexec": {
      "startup": false,
      "wait_interval": 0.0
     },
     "base_uri": "https://localhost:8080/",
     "height": 119.0,
     "output_extras": [
      {
       "item_id": 1.0
      }
     ]
    },
    "colab_type": "code",
    "collapsed": false,
    "executionInfo": {
     "elapsed": 595.0,
     "status": "ok",
     "timestamp": 1.522076896793E12,
     "user": {
      "displayName": "Nadav Bhonker",
      "photoUrl": "https://lh3.googleusercontent.com/a/default-user=s128",
      "userId": "116259624374379926188"
     },
     "user_tz": -180.0
    },
    "id": "VkLyvrJ12apM",
    "outputId": "72707cbc-44bb-427d-991f-14c42084eb01"
   },
   "outputs": [],
   "source": [
    "df.values"
   ]
  },
  {
   "cell_type": "markdown",
   "metadata": {
    "colab_type": "text",
    "id": "8rYxmRYe2apO"
   },
   "source": [
    "### Summarizations\n",
    "`describe` shows a quick statistic\n",
    "summary of your data"
   ]
  },
  {
   "cell_type": "code",
   "execution_count": null,
   "metadata": {
    "colab": {
     "autoexec": {
      "startup": false,
      "wait_interval": 0.0
     },
     "base_uri": "https://localhost:8080/",
     "height": 297.0,
     "output_extras": [
      {
       "item_id": 1.0
      }
     ]
    },
    "colab_type": "code",
    "collapsed": false,
    "executionInfo": {
     "elapsed": 583.0,
     "status": "ok",
     "timestamp": 1.522076901424E12,
     "user": {
      "displayName": "Nadav Bhonker",
      "photoUrl": "https://lh3.googleusercontent.com/a/default-user=s128",
      "userId": "116259624374379926188"
     },
     "user_tz": -180.0
    },
    "id": "4D67xYhs2apP",
    "outputId": "e3f0b326-42f4-4638-a406-dc8bccf40c46"
   },
   "outputs": [],
   "source": [
    "df.describe()"
   ]
  },
  {
   "cell_type": "markdown",
   "metadata": {
    "colab_type": "text",
    "id": "90VSO5582apS"
   },
   "source": [
    "`info` provies a concise summar of a DataFrame"
   ]
  },
  {
   "cell_type": "code",
   "execution_count": null,
   "metadata": {
    "colab": {
     "autoexec": {
      "startup": false,
      "wait_interval": 0.0
     },
     "base_uri": "https://localhost:8080/",
     "height": 153.0,
     "output_extras": [
      {
       "item_id": 1.0
      }
     ]
    },
    "colab_type": "code",
    "collapsed": false,
    "executionInfo": {
     "elapsed": 592.0,
     "status": "ok",
     "timestamp": 1.522076903327E12,
     "user": {
      "displayName": "Nadav Bhonker",
      "photoUrl": "https://lh3.googleusercontent.com/a/default-user=s128",
      "userId": "116259624374379926188"
     },
     "user_tz": -180.0
    },
    "id": "FgVDU1As2apT",
    "outputId": "4a73300b-573a-41ea-a513-cfe5e3e282fe"
   },
   "outputs": [],
   "source": [
    "df.info()"
   ]
  },
  {
   "cell_type": "markdown",
   "metadata": {
    "colab_type": "text",
    "id": "O19TbeqQ2apV"
   },
   "source": [
    "## Input and Output\n",
    "How do you get data into and out of Pandas as spreadsheets?\n",
    " - Pandas can work with XLS or XLSX files.\n",
    " - Can also work with CSV (comma separated values) file\n",
    " - CSV stores plain text in a tabular form\n",
    " - CSV files may have a header\n",
    " - You can use a variety of different field delimiters (rather than a ‘comma’). Check which delimiter your file is using before import!\n",
    " \n",
    "__Import to Pandas__  \n",
    " > `df = pd.read_csv('data.csv', sep='\\t', header=0)`\n",
    "\n",
    "For Excel files, it's the same thing but with read_excel\n",
    "\n",
    "__Export to text file__  \n",
    " > `df.to_csv('data.csv', sep='\\t', header=True, index=False)`\n",
    " \n",
    "The values of header and index depend on if you want to print the column and/or row names"
   ]
  },
  {
   "cell_type": "markdown",
   "metadata": {
    "colab_type": "text",
    "id": "m2thuF1H2apW"
   },
   "source": [
    "# Case Study – Analyzing Titanic Passengers Data"
   ]
  },
  {
   "cell_type": "code",
   "execution_count": null,
   "metadata": {
    "colab": {
     "autoexec": {
      "startup": false,
      "wait_interval": 0.0
     }
    },
    "colab_type": "code",
    "collapsed": true,
    "id": "ff1J3-af2apW"
   },
   "outputs": [],
   "source": [
    "import matplotlib.pyplot as plt\n",
    "%matplotlib inline\n",
    "import numpy as np\n",
    "import pandas as pd\n",
    "import os\n",
    "\n",
    "\n",
    "#set your working_dir\n",
    "working_dir = os.path.join(os.getcwd(), 'titanic')\n",
    "\n",
    "url_base = 'https://webcourse.cs.technion.ac.il/236756/Spring2018/ho/WCFiles/{}.csv'\n",
    "train_url = url_base.format('train')\n",
    "test_url = url_base.format('test')\n",
    "\n",
    "# For .read_csv, always use header=0 when you know row 0 is the header row\n",
    "train = pd.read_csv(train_url, header=0)\n",
    "test = pd.read_csv(test_url, header=0)\n",
    "# You can also load a csv file from a local file rather than a URL\n"
   ]
  },
  {
   "cell_type": "code",
   "execution_count": null,
   "metadata": {
    "colab": {
     "autoexec": {
      "startup": false,
      "wait_interval": 0.0
     },
     "base_uri": "https://localhost:8080/",
     "height": 204.0,
     "output_extras": [
      {
       "item_id": 1.0
      }
     ]
    },
    "colab_type": "code",
    "collapsed": false,
    "executionInfo": {
     "elapsed": 721.0,
     "status": "ok",
     "timestamp": 1.522076955412E12,
     "user": {
      "displayName": "Nadav Bhonker",
      "photoUrl": "https://lh3.googleusercontent.com/a/default-user=s128",
      "userId": "116259624374379926188"
     },
     "user_tz": -180.0
    },
    "id": "N358U4JN2apY",
    "outputId": "80cf2198-3adf-46f2-f7af-cec3d6ee099f"
   },
   "outputs": [],
   "source": [
    "# Display the top elements from the table\n",
    "train.head()"
   ]
  },
  {
   "cell_type": "markdown",
   "metadata": {
    "colab_type": "text",
    "id": "qJKYMsXK2apb"
   },
   "source": [
    "#### VARIABLE DESCRIPTIONS:\n",
    "survival - 0 = No; 1 = Yes  \n",
    "pclass - Passenger Class (1 = 1st; 2 = 2nd; 3 = 3rd)  \n",
    "sibsp - Number of Siblings/Spouses Aboard  \n",
    "parch - Number of Parents/Children Aboard  \n",
    "ticket - Ticket Number  \n",
    "fare - Passenger Fare  \n",
    "embarked - Port of Embarkation (C = Cherbourg; Q = Queenstown; S = Southampton)  "
   ]
  },
  {
   "cell_type": "markdown",
   "metadata": {
    "colab_type": "text",
    "id": "qDaTDRy12apb"
   },
   "source": [
    "## Understanding the data..."
   ]
  },
  {
   "cell_type": "code",
   "execution_count": null,
   "metadata": {
    "colab": {
     "autoexec": {
      "startup": false,
      "wait_interval": 0.0
     },
     "base_uri": "https://localhost:8080/",
     "height": 34.0,
     "output_extras": [
      {
       "item_id": 1.0
      }
     ]
    },
    "colab_type": "code",
    "collapsed": false,
    "executionInfo": {
     "elapsed": 590.0,
     "status": "ok",
     "timestamp": 1.522076963093E12,
     "user": {
      "displayName": "Nadav Bhonker",
      "photoUrl": "https://lh3.googleusercontent.com/a/default-user=s128",
      "userId": "116259624374379926188"
     },
     "user_tz": -180.0
    },
    "id": "NEN2DzRf2apc",
    "outputId": "71be1419-9c91-49cc-dd40-fcc59813e357"
   },
   "outputs": [],
   "source": [
    "train.shape"
   ]
  },
  {
   "cell_type": "code",
   "execution_count": null,
   "metadata": {
    "colab": {
     "autoexec": {
      "startup": false,
      "wait_interval": 0.0
     },
     "base_uri": "https://localhost:8080/",
     "height": 34.0,
     "output_extras": [
      {
       "item_id": 1.0
      }
     ]
    },
    "colab_type": "code",
    "collapsed": false,
    "executionInfo": {
     "elapsed": 577.0,
     "status": "ok",
     "timestamp": 1.522076964311E12,
     "user": {
      "displayName": "Nadav Bhonker",
      "photoUrl": "https://lh3.googleusercontent.com/a/default-user=s128",
      "userId": "116259624374379926188"
     },
     "user_tz": -180.0
    },
    "id": "TWRghFea2apf",
    "outputId": "df6a1ee1-22d4-4940-85a8-77fb837ff477"
   },
   "outputs": [],
   "source": [
    "train.Pclass.size"
   ]
  },
  {
   "cell_type": "code",
   "execution_count": null,
   "metadata": {
    "colab": {
     "autoexec": {
      "startup": false,
      "wait_interval": 0.0
     },
     "base_uri": "https://localhost:8080/",
     "height": 68.0,
     "output_extras": [
      {
       "item_id": 1.0
      }
     ]
    },
    "colab_type": "code",
    "collapsed": false,
    "executionInfo": {
     "elapsed": 601.0,
     "status": "ok",
     "timestamp": 1.522076965666E12,
     "user": {
      "displayName": "Nadav Bhonker",
      "photoUrl": "https://lh3.googleusercontent.com/a/default-user=s128",
      "userId": "116259624374379926188"
     },
     "user_tz": -180.0
    },
    "id": "QTtIgJx32aph",
    "outputId": "5bfa6804-db8a-4f40-f58d-7608e17c9803"
   },
   "outputs": [],
   "source": [
    "# Count values of 'Survived'\n",
    "train.Survived.value_counts()"
   ]
  },
  {
   "cell_type": "code",
   "execution_count": null,
   "metadata": {
    "colab": {
     "autoexec": {
      "startup": false,
      "wait_interval": 0.0
     },
     "base_uri": "https://localhost:8080/",
     "height": 34.0,
     "output_extras": [
      {
       "item_id": 1.0
      }
     ]
    },
    "colab_type": "code",
    "collapsed": false,
    "executionInfo": {
     "elapsed": 583.0,
     "status": "ok",
     "timestamp": 1.522076967278E12,
     "user": {
      "displayName": "Nadav Bhonker",
      "photoUrl": "https://lh3.googleusercontent.com/a/default-user=s128",
      "userId": "116259624374379926188"
     },
     "user_tz": -180.0
    },
    "id": "snOQKMYl2apk",
    "outputId": "ecfde86b-2ecd-4108-f01e-47d81d96dba6"
   },
   "outputs": [],
   "source": [
    "# Calculate the mean fare price\n",
    "train.Fare.mean()"
   ]
  },
  {
   "cell_type": "code",
   "execution_count": null,
   "metadata": {
    "colab": {
     "autoexec": {
      "startup": false,
      "wait_interval": 0.0
     },
     "base_uri": "https://localhost:8080/",
     "height": 297.0,
     "output_extras": [
      {
       "item_id": 1.0
      }
     ]
    },
    "colab_type": "code",
    "collapsed": false,
    "executionInfo": {
     "elapsed": 583.0,
     "status": "ok",
     "timestamp": 1.522076968531E12,
     "user": {
      "displayName": "Nadav Bhonker",
      "photoUrl": "https://lh3.googleusercontent.com/a/default-user=s128",
      "userId": "116259624374379926188"
     },
     "user_tz": -180.0
    },
    "id": "IksYWK9X2apq",
    "outputId": "728da5ed-5551-45e1-dc53-f8a5d1ae752a"
   },
   "outputs": [],
   "source": [
    "# General statistics of the dataframe\n",
    "train.describe()"
   ]
  },
  {
   "cell_type": "markdown",
   "metadata": {
    "colab_type": "text",
    "id": "I6-oHvuz2apv"
   },
   "source": [
    "### Selection examples"
   ]
  },
  {
   "cell_type": "code",
   "execution_count": null,
   "metadata": {
    "colab": {
     "autoexec": {
      "startup": false,
      "wait_interval": 0.0
     },
     "base_uri": "https://localhost:8080/",
     "height": 204.0,
     "output_extras": [
      {
       "item_id": 1.0
      }
     ]
    },
    "colab_type": "code",
    "collapsed": false,
    "executionInfo": {
     "elapsed": 584.0,
     "status": "ok",
     "timestamp": 1.522076977663E12,
     "user": {
      "displayName": "Nadav Bhonker",
      "photoUrl": "https://lh3.googleusercontent.com/a/default-user=s128",
      "userId": "116259624374379926188"
     },
     "user_tz": -180.0
    },
    "id": "3uY4Z3D92apv",
    "outputId": "b0bf2eb8-ab2b-484c-d5e3-42b09a4529de"
   },
   "outputs": [],
   "source": [
    "# Selection is very similar to standard Python selection\n",
    "df1 = train[['Name', 'Sex', 'Age']]\n",
    "df1.head()"
   ]
  },
  {
   "cell_type": "code",
   "execution_count": null,
   "metadata": {
    "colab": {
     "autoexec": {
      "startup": false,
      "wait_interval": 0.0
     },
     "base_uri": "https://localhost:8080/",
     "height": 204.0,
     "output_extras": [
      {
       "item_id": 1.0
      }
     ]
    },
    "colab_type": "code",
    "collapsed": false,
    "executionInfo": {
     "elapsed": 523.0,
     "status": "ok",
     "timestamp": 1.522076978289E12,
     "user": {
      "displayName": "Nadav Bhonker",
      "photoUrl": "https://lh3.googleusercontent.com/a/default-user=s128",
      "userId": "116259624374379926188"
     },
     "user_tz": -180.0
    },
    "id": "xGY0BqS72ap0",
    "outputId": "f906d899-44c4-4057-cc37-0331af4d269a"
   },
   "outputs": [],
   "source": [
    "df1[10:15]"
   ]
  },
  {
   "cell_type": "code",
   "execution_count": null,
   "metadata": {
    "colab": {
     "autoexec": {
      "startup": false,
      "wait_interval": 0.0
     },
     "base_uri": "https://localhost:8080/",
     "height": 142.0,
     "output_extras": [
      {
       "item_id": 1.0
      }
     ]
    },
    "colab_type": "code",
    "collapsed": false,
    "executionInfo": {
     "elapsed": 686.0,
     "status": "ok",
     "timestamp": 1.522076980398E12,
     "user": {
      "displayName": "Nadav Bhonker",
      "photoUrl": "https://lh3.googleusercontent.com/a/default-user=s128",
      "userId": "116259624374379926188"
     },
     "user_tz": -180.0
    },
    "id": "b_iROWi32ap3",
    "outputId": "6a092243-9dda-497f-a762-a1a161f05a77"
   },
   "outputs": [],
   "source": [
    "df1[-4:-10:-2]"
   ]
  },
  {
   "cell_type": "markdown",
   "metadata": {
    "colab_type": "text",
    "id": "hDGOpl252ap7"
   },
   "source": [
    "### Filtering Examples"
   ]
  },
  {
   "cell_type": "code",
   "execution_count": null,
   "metadata": {
    "colab": {
     "autoexec": {
      "startup": false,
      "wait_interval": 0.0
     },
     "base_uri": "https://localhost:8080/",
     "height": 1071.0,
     "output_extras": [
      {
       "item_id": 1.0
      }
     ]
    },
    "colab_type": "code",
    "collapsed": false,
    "executionInfo": {
     "elapsed": 642.0,
     "status": "ok",
     "timestamp": 1.522076987592E12,
     "user": {
      "displayName": "Nadav Bhonker",
      "photoUrl": "https://lh3.googleusercontent.com/a/default-user=s128",
      "userId": "116259624374379926188"
     },
     "user_tz": -180.0
    },
    "id": "ozFXXNB_2ap9",
    "outputId": "476e46e5-54e2-4b01-9f6e-82ddbf6999e6"
   },
   "outputs": [],
   "source": [
    "# Filtering allows you to create masks given some conditions\n",
    "df1.Sex == 'male' "
   ]
  },
  {
   "cell_type": "code",
   "execution_count": null,
   "metadata": {
    "colab": {
     "autoexec": {
      "startup": false,
      "wait_interval": 0.0
     },
     "base_uri": "https://localhost:8080/",
     "height": 1969.0,
     "output_extras": [
      {
       "item_id": 1.0
      }
     ]
    },
    "colab_type": "code",
    "collapsed": false,
    "executionInfo": {
     "elapsed": 595.0,
     "status": "ok",
     "timestamp": 1.522076991679E12,
     "user": {
      "displayName": "Nadav Bhonker",
      "photoUrl": "https://lh3.googleusercontent.com/a/default-user=s128",
      "userId": "116259624374379926188"
     },
     "user_tz": -180.0
    },
    "id": "3hutR85R2aqC",
    "outputId": "15d1f4b8-e341-4dc4-9edf-ff6d19bd8d99"
   },
   "outputs": [],
   "source": [
    "df1[(df1.Age > 35) & (df1.Sex == 'male')]"
   ]
  },
  {
   "cell_type": "markdown",
   "metadata": {
    "colab_type": "text",
    "id": "i53VWyAK2aqG"
   },
   "source": [
    "### Creating new columns/Data\n",
    "We may be intereseted in creating new features that are derived from other columns.\n",
    "In this example we create a 'prefix' (or passanger's title)."
   ]
  },
  {
   "cell_type": "code",
   "execution_count": null,
   "metadata": {
    "colab": {
     "autoexec": {
      "startup": false,
      "wait_interval": 0.0
     }
    },
    "colab_type": "code",
    "collapsed": true,
    "id": "Q8uikTZL2aqH"
   },
   "outputs": [],
   "source": [
    "import re\n",
    "\n",
    "prefix = []\n",
    "for name in train.Name:\n",
    "    try:\n",
    "        m = re.search(', M[a-z]+.', name) # search for ', M' followed by \n",
    "                                          #     1 or more lowercase letters and a '.'\n",
    "        prefix.append(m.group(0).strip(\",\"))\n",
    "    except:\n",
    "        prefix.append(\"\")"
   ]
  },
  {
   "cell_type": "code",
   "execution_count": null,
   "metadata": {
    "colab": {
     "autoexec": {
      "startup": false,
      "wait_interval": 0.0
     },
     "base_uri": "https://localhost:8080/",
     "height": 204.0,
     "output_extras": [
      {
       "item_id": 1.0
      }
     ]
    },
    "colab_type": "code",
    "collapsed": false,
    "executionInfo": {
     "elapsed": 617.0,
     "status": "ok",
     "timestamp": 1.522077229018E12,
     "user": {
      "displayName": "Nadav Bhonker",
      "photoUrl": "https://lh3.googleusercontent.com/a/default-user=s128",
      "userId": "116259624374379926188"
     },
     "user_tz": -180.0
    },
    "id": "q4kN8iBb2aqJ",
    "outputId": "32e5dc93-f7ea-4ca5-c5c1-336087166a54"
   },
   "outputs": [],
   "source": [
    "train['Prefix'] = prefix\n",
    "train.head()"
   ]
  },
  {
   "cell_type": "markdown",
   "metadata": {
    "colab_type": "text",
    "id": "udZZT8Fo2aqN"
   },
   "source": [
    "## Other operations\n",
    "Pandas allows you to aggregate and display different views of your data."
   ]
  },
  {
   "cell_type": "code",
   "execution_count": null,
   "metadata": {
    "colab": {
     "autoexec": {
      "startup": false,
      "wait_interval": 0.0
     },
     "base_uri": "https://localhost:8080/",
     "height": 153.0,
     "output_extras": [
      {
       "item_id": 1.0
      }
     ]
    },
    "colab_type": "code",
    "collapsed": false,
    "executionInfo": {
     "elapsed": 621.0,
     "status": "ok",
     "timestamp": 1.522077238528E12,
     "user": {
      "displayName": "Nadav Bhonker",
      "photoUrl": "https://lh3.googleusercontent.com/a/default-user=s128",
      "userId": "116259624374379926188"
     },
     "user_tz": -180.0
    },
    "id": "_osF_D4n2aqO",
    "outputId": "07b77146-5497-4ec5-9312-91b9cb999db3"
   },
   "outputs": [],
   "source": [
    "df2 = train.groupby(['Pclass', 'Sex']).Fare.agg(np.mean)\n",
    "df2"
   ]
  },
  {
   "cell_type": "code",
   "execution_count": null,
   "metadata": {
    "colab": {
     "autoexec": {
      "startup": false,
      "wait_interval": 0.0
     },
     "base_uri": "https://localhost:8080/",
     "height": 173.0,
     "output_extras": [
      {
       "item_id": 1.0
      }
     ]
    },
    "colab_type": "code",
    "collapsed": false,
    "executionInfo": {
     "elapsed": 585.0,
     "status": "ok",
     "timestamp": 1.522077242031E12,
     "user": {
      "displayName": "Nadav Bhonker",
      "photoUrl": "https://lh3.googleusercontent.com/a/default-user=s128",
      "userId": "116259624374379926188"
     },
     "user_tz": -180.0
    },
    "id": "KiS5Cjm-2aqR",
    "outputId": "505ac803-30d2-4ab5-8a5f-606a909387f2"
   },
   "outputs": [],
   "source": [
    "pd.pivot_table(train, index=['Pclass'], values=['Survived'], aggfunc='count')"
   ]
  },
  {
   "cell_type": "code",
   "execution_count": null,
   "metadata": {
    "colab": {
     "autoexec": {
      "startup": false,
      "wait_interval": 0.0
     },
     "base_uri": "https://localhost:8080/",
     "height": 266.0,
     "output_extras": [
      {
       "item_id": 1.0
      }
     ]
    },
    "colab_type": "code",
    "collapsed": false,
    "executionInfo": {
     "elapsed": 607.0,
     "status": "ok",
     "timestamp": 1.522077246538E12,
     "user": {
      "displayName": "Nadav Bhonker",
      "photoUrl": "https://lh3.googleusercontent.com/a/default-user=s128",
      "userId": "116259624374379926188"
     },
     "user_tz": -180.0
    },
    "id": "GlukQGgs2aqU",
    "outputId": "64afbc09-5aba-448d-ddb8-c32f9f387b17"
   },
   "outputs": [],
   "source": [
    "pd.pivot_table(train, index=['Pclass', 'Sex'], values=['Age', 'Fare', 'Survived'], aggfunc='mean')"
   ]
  },
  {
   "cell_type": "markdown",
   "metadata": {
    "colab_type": "text",
    "id": "Op064-8s2aqW"
   },
   "source": [
    "## Plotting\n",
    "Basic plotting in pandas is pretty straightforward"
   ]
  },
  {
   "cell_type": "code",
   "execution_count": null,
   "metadata": {
    "colab": {
     "autoexec": {
      "startup": false,
      "wait_interval": 0.0
     },
     "base_uri": "https://localhost:8080/",
     "height": 334.0,
     "output_extras": [
      {
       "item_id": 1.0
      },
      {
       "item_id": 2.0
      }
     ]
    },
    "colab_type": "code",
    "collapsed": false,
    "executionInfo": {
     "elapsed": 738.0,
     "status": "ok",
     "timestamp": 1.52207730139E12,
     "user": {
      "displayName": "Nadav Bhonker",
      "photoUrl": "https://lh3.googleusercontent.com/a/default-user=s128",
      "userId": "116259624374379926188"
     },
     "user_tz": -180.0
    },
    "id": "a8AONyPK2aqY",
    "outputId": "697cba5e-2363-4de6-a9cd-04bee2523578"
   },
   "outputs": [],
   "source": [
    "new_plot = pd.crosstab([train.Pclass, train.Sex], train.Survived)\n",
    "new_plot.plot(kind='bar', stacked=True, color=['red', 'blue'], grid=False)"
   ]
  },
  {
   "cell_type": "code",
   "execution_count": null,
   "metadata": {
    "colab": {
     "autoexec": {
      "startup": false,
      "wait_interval": 0.0
     },
     "base_uri": "https://localhost:8080/",
     "height": 282.0,
     "output_extras": [
      {
       "item_id": 1.0
      },
      {
       "item_id": 2.0
      }
     ]
    },
    "colab_type": "code",
    "collapsed": false,
    "executionInfo": {
     "elapsed": 620.0,
     "status": "ok",
     "timestamp": 1.52207730407E12,
     "user": {
      "displayName": "Nadav Bhonker",
      "photoUrl": "https://lh3.googleusercontent.com/a/default-user=s128",
      "userId": "116259624374379926188"
     },
     "user_tz": -180.0
    },
    "id": "BDgAUud32aqc",
    "outputId": "ef4c7a66-6533-4fcb-ce47-a2ef75daa8d3"
   },
   "outputs": [],
   "source": [
    "train.Fare.hist()"
   ]
  },
  {
   "cell_type": "markdown",
   "metadata": {
    "colab_type": "text",
    "id": "IVzlbLOy2aqg"
   },
   "source": [
    "## Concluding Remarks"
   ]
  },
  {
   "cell_type": "markdown",
   "metadata": {
    "colab_type": "text",
    "id": "PFyfv4LM2aqh"
   },
   "source": [
    "* DataFrame cannot be used directly by Numpy  \n",
    "It needs to transform DataFrame to Numpy-array:  \n",
    "  > `pandas.DataFrame.as_matrix()`"
   ]
  },
  {
   "cell_type": "markdown",
   "metadata": {
    "colab_type": "text",
    "id": "D6Qfk39-2aqh"
   },
   "source": [
    "* [Categorical type](http://pandas.pydata.org/pandas-docs/stable/categorical.html)  \n",
    " * Similar to ‘Factor’ in R but can preserve an order.\n",
    "\n",
    " * CSV file – Categorical variables are set to type ‘object’\n",
    "Need to transform to categorical type\n",
    " * Converting categorical to numeric (usually int) type\n",
    " \n",
    " > * `Categorical.rename_categories()`  \n",
    "    Convert categorical variable into dummy/indicator variables\n",
    "  \n",
    " > * **`pandas.get_dummies()`**  \n",
    "    Convert categorical variable into int variable"
   ]
  },
  {
   "cell_type": "markdown",
   "metadata": {
    "colab_type": "text",
    "id": "uJGeuhhV2aqi"
   },
   "source": [
    "# What is Matplotlib\n",
    "\n",
    "A 2D plotting library which produces publication quality figures.\n",
    " - Can be used in python scripts, the python and IPython shell, web application servers, and more …\n",
    " - Can be used to generate plots, histograms, power spectra, bar charts, errorcharts, scatterplots, etc.\n",
    " - For simple plotting, pyplot provides a MATLAB-like interface \n",
    " - For power users, a full control via OO interface or via a set of functions\n",
    "\n",
    "There are several Matplotlib add-on toolkits\n",
    " - Projection and mapping toolkits [basemap](http://matplotlib.org/basemap/) and [cartopy](http://scitools.org.uk/cartopy/).\n",
    " - Interactive plots in web browsers using [Bokeh](http://bokeh.pydata.org/en/latest/).\n",
    " - Higher level interface with updated visualizations [Seaborn](http://seaborn.pydata.org/index.html).\n",
    "\n",
    "Matplotlib is available at [www.matplotlib.org](www.matplotlib.org)"
   ]
  },
  {
   "cell_type": "markdown",
   "metadata": {
    "colab_type": "text",
    "id": "JU4i6qIk2aqj"
   },
   "source": [
    "## Line Plots"
   ]
  },
  {
   "cell_type": "markdown",
   "metadata": {
    "colab_type": "text",
    "id": "lLE2bOLV2aqk"
   },
   "source": [
    "### plot against indices"
   ]
  },
  {
   "cell_type": "code",
   "execution_count": null,
   "metadata": {
    "colab": {
     "autoexec": {
      "startup": false,
      "wait_interval": 0.0
     }
    },
    "colab_type": "code",
    "collapsed": true,
    "id": "Y0ixhvQS2aql"
   },
   "outputs": [],
   "source": [
    "import matplotlib.pyplot as plt\n",
    "import numpy as np"
   ]
  },
  {
   "cell_type": "code",
   "execution_count": null,
   "metadata": {
    "colab": {
     "autoexec": {
      "startup": false,
      "wait_interval": 0.0
     },
     "base_uri": "https://localhost:8080/",
     "height": 279.0,
     "output_extras": [
      {
       "item_id": 1.0
      }
     ]
    },
    "colab_type": "code",
    "collapsed": false,
    "executionInfo": {
     "elapsed": 613.0,
     "status": "ok",
     "timestamp": 1.522077346598E12,
     "user": {
      "displayName": "Nadav Bhonker",
      "photoUrl": "https://lh3.googleusercontent.com/a/default-user=s128",
      "userId": "116259624374379926188"
     },
     "user_tz": -180.0
    },
    "id": "f4iFfpu72aqo",
    "outputId": "775dec0e-24bb-4852-a7d5-fe82074fb104"
   },
   "outputs": [],
   "source": [
    "x = np.arange(50) * 2*np.pi / 50\n",
    "y = np.sin(x)\n",
    "plt.plot(y)\n",
    "plt.xlabel('index')\n",
    "plt.show()"
   ]
  },
  {
   "cell_type": "markdown",
   "metadata": {
    "colab_type": "text",
    "id": "jWP09PPq2aqs"
   },
   "source": [
    "## multiple lines"
   ]
  },
  {
   "cell_type": "code",
   "execution_count": null,
   "metadata": {
    "colab": {
     "autoexec": {
      "startup": false,
      "wait_interval": 0.0
     },
     "base_uri": "https://localhost:8080/",
     "height": 299.0,
     "output_extras": [
      {
       "item_id": 1.0
      },
      {
       "item_id": 2.0
      }
     ]
    },
    "colab_type": "code",
    "collapsed": false,
    "executionInfo": {
     "elapsed": 719.0,
     "status": "ok",
     "timestamp": 1.522077349803E12,
     "user": {
      "displayName": "Nadav Bhonker",
      "photoUrl": "https://lh3.googleusercontent.com/a/default-user=s128",
      "userId": "116259624374379926188"
     },
     "user_tz": -180.0
    },
    "id": "6qBFA8oi2aqu",
    "outputId": "7708ec6c-11b9-473f-aa30-3d16696e307b"
   },
   "outputs": [],
   "source": [
    "x2 = np.arange(50) * 2*np.pi / 25\n",
    "y2 = np.sin(x)\n",
    "plt.plot(x, y, x2, y2)"
   ]
  },
  {
   "cell_type": "code",
   "execution_count": null,
   "metadata": {
    "colab": {
     "autoexec": {
      "startup": false,
      "wait_interval": 0.0
     },
     "base_uri": "https://localhost:8080/",
     "height": 282.0,
     "output_extras": [
      {
       "item_id": 1.0
      },
      {
       "item_id": 2.0
      }
     ]
    },
    "colab_type": "code",
    "collapsed": false,
    "executionInfo": {
     "elapsed": 604.0,
     "status": "ok",
     "timestamp": 1.522077352113E12,
     "user": {
      "displayName": "Nadav Bhonker",
      "photoUrl": "https://lh3.googleusercontent.com/a/default-user=s128",
      "userId": "116259624374379926188"
     },
     "user_tz": -180.0
    },
    "id": "e07UWc442arV",
    "outputId": "5d343b55-e81b-441e-88c5-06fca76810fd"
   },
   "outputs": [],
   "source": [
    "plt.plot(x, np.sin(x), 'r-^')"
   ]
  },
  {
   "cell_type": "code",
   "execution_count": null,
   "metadata": {
    "colab": {
     "autoexec": {
      "startup": false,
      "wait_interval": 0.0
     },
     "base_uri": "https://localhost:8080/",
     "height": 286.0,
     "output_extras": [
      {
       "item_id": 1.0
      },
      {
       "item_id": 2.0
      }
     ]
    },
    "colab_type": "code",
    "collapsed": false,
    "executionInfo": {
     "elapsed": 579.0,
     "status": "ok",
     "timestamp": 1.522077354139E12,
     "user": {
      "displayName": "Nadav Bhonker",
      "photoUrl": "https://lh3.googleusercontent.com/a/default-user=s128",
      "userId": "116259624374379926188"
     },
     "user_tz": -180.0
    },
    "id": "01jWMZd72arZ",
    "outputId": "55f18a98-877f-4e63-b50e-e41288d4e7bf"
   },
   "outputs": [],
   "source": [
    "plt.plot(x, y, 'b-o', x2, y2, 'r-^')\n",
    "plt.axis([0, 7, -2, 2])"
   ]
  },
  {
   "cell_type": "markdown",
   "metadata": {
    "colab_type": "text",
    "id": "HOfPan8W2arb"
   },
   "source": [
    "## Scatter plots"
   ]
  },
  {
   "cell_type": "code",
   "execution_count": null,
   "metadata": {
    "colab": {
     "autoexec": {
      "startup": false,
      "wait_interval": 0.0
     },
     "base_uri": "https://localhost:8080/",
     "height": 282.0,
     "output_extras": [
      {
       "item_id": 1.0
      },
      {
       "item_id": 2.0
      }
     ]
    },
    "colab_type": "code",
    "collapsed": false,
    "executionInfo": {
     "elapsed": 602.0,
     "status": "ok",
     "timestamp": 1.522077357507E12,
     "user": {
      "displayName": "Nadav Bhonker",
      "photoUrl": "https://lh3.googleusercontent.com/a/default-user=s128",
      "userId": "116259624374379926188"
     },
     "user_tz": -180.0
    },
    "id": "yVq3VqPH2arc",
    "outputId": "96886cd3-d0d8-462d-cd3b-aff7c7216734"
   },
   "outputs": [],
   "source": [
    "plt.scatter(x, y)"
   ]
  },
  {
   "cell_type": "markdown",
   "metadata": {
    "colab_type": "text",
    "id": "nCHhV1Sw2arg"
   },
   "source": [
    "## colormapped scatter"
   ]
  },
  {
   "cell_type": "code",
   "execution_count": null,
   "metadata": {
    "colab": {
     "autoexec": {
      "startup": false,
      "wait_interval": 0.0
     },
     "base_uri": "https://localhost:8080/",
     "height": 282.0,
     "output_extras": [
      {
       "item_id": 1.0
      },
      {
       "item_id": 2.0
      }
     ]
    },
    "colab_type": "code",
    "collapsed": false,
    "executionInfo": {
     "elapsed": 666.0,
     "status": "ok",
     "timestamp": 1.522077360388E12,
     "user": {
      "displayName": "Nadav Bhonker",
      "photoUrl": "https://lh3.googleusercontent.com/a/default-user=s128",
      "userId": "116259624374379926188"
     },
     "user_tz": -180.0
    },
    "id": "xV23a6Hi2arh",
    "outputId": "3cd99889-0efb-4e77-d404-b5e0b45eafb9"
   },
   "outputs": [],
   "source": [
    "x_rand = np.random.rand(200)\n",
    "y_rand = np.random.rand(200)\n",
    "size = np.random.rand(300)*30\n",
    "color = np.random.rand(200)\n",
    "plt.scatter(x_rand, y_rand, size, color)\n",
    "plt.colorbar()"
   ]
  },
  {
   "cell_type": "markdown",
   "metadata": {
    "colab_type": "text",
    "id": "TvWvh-rk2arj"
   },
   "source": [
    "## Bar plots"
   ]
  },
  {
   "cell_type": "code",
   "execution_count": null,
   "metadata": {
    "colab": {
     "autoexec": {
      "startup": false,
      "wait_interval": 0.0
     },
     "base_uri": "https://localhost:8080/",
     "height": 282.0,
     "output_extras": [
      {
       "item_id": 1.0
      },
      {
       "item_id": 2.0
      }
     ]
    },
    "colab_type": "code",
    "collapsed": false,
    "executionInfo": {
     "elapsed": 592.0,
     "status": "ok",
     "timestamp": 1.522077363613E12,
     "user": {
      "displayName": "Nadav Bhonker",
      "photoUrl": "https://lh3.googleusercontent.com/a/default-user=s128",
      "userId": "116259624374379926188"
     },
     "user_tz": -180.0
    },
    "id": "NhaUqxLA2arl",
    "outputId": "867a6509-a551-4cae-af99-a0d0c5a2e9c1"
   },
   "outputs": [],
   "source": [
    "plt.bar(x, y)"
   ]
  },
  {
   "cell_type": "code",
   "execution_count": null,
   "metadata": {
    "colab": {
     "autoexec": {
      "startup": false,
      "wait_interval": 0.0
     },
     "base_uri": "https://localhost:8080/",
     "height": 282.0,
     "output_extras": [
      {
       "item_id": 1.0
      },
      {
       "item_id": 2.0
      }
     ]
    },
    "colab_type": "code",
    "collapsed": false,
    "executionInfo": {
     "elapsed": 702.0,
     "status": "ok",
     "timestamp": 1.52207736601E12,
     "user": {
      "displayName": "Nadav Bhonker",
      "photoUrl": "https://lh3.googleusercontent.com/a/default-user=s128",
      "userId": "116259624374379926188"
     },
     "user_tz": -180.0
    },
    "id": "hMI3ls-K2arm",
    "outputId": "8c421e6d-9cb2-4cf9-d591-7e6d96f2bcbb"
   },
   "outputs": [],
   "source": [
    "plt.barh(x, y, height=x[1]-x[0])"
   ]
  },
  {
   "cell_type": "markdown",
   "metadata": {
    "colab_type": "text",
    "id": "v5vzWO4h2arn"
   },
   "source": [
    "## Histogram"
   ]
  },
  {
   "cell_type": "code",
   "execution_count": null,
   "metadata": {
    "colab": {
     "autoexec": {
      "startup": false,
      "wait_interval": 0.0
     },
     "base_uri": "https://localhost:8080/",
     "height": 350.0,
     "output_extras": [
      {
       "item_id": 1.0
      },
      {
       "item_id": 2.0
      }
     ]
    },
    "colab_type": "code",
    "collapsed": false,
    "executionInfo": {
     "elapsed": 611.0,
     "status": "ok",
     "timestamp": 1.522077369624E12,
     "user": {
      "displayName": "Nadav Bhonker",
      "photoUrl": "https://lh3.googleusercontent.com/a/default-user=s128",
      "userId": "116259624374379926188"
     },
     "user_tz": -180.0
    },
    "id": "anFdRT-k2aro",
    "outputId": "ad9a5749-6adf-445d-b8fc-809c61730da5"
   },
   "outputs": [],
   "source": [
    "plt.hist(np.random.randn(1000))"
   ]
  },
  {
   "cell_type": "code",
   "execution_count": null,
   "metadata": {
    "colab": {
     "autoexec": {
      "startup": false,
      "wait_interval": 0.0
     },
     "base_uri": "https://localhost:8080/",
     "height": 452.0,
     "output_extras": [
      {
       "item_id": 1.0
      },
      {
       "item_id": 2.0
      }
     ]
    },
    "colab_type": "code",
    "collapsed": false,
    "executionInfo": {
     "elapsed": 609.0,
     "status": "ok",
     "timestamp": 1.52207737134E12,
     "user": {
      "displayName": "Nadav Bhonker",
      "photoUrl": "https://lh3.googleusercontent.com/a/default-user=s128",
      "userId": "116259624374379926188"
     },
     "user_tz": -180.0
    },
    "id": "hgFDi1QX2arq",
    "outputId": "0518b0d8-aed6-413b-9133-04bafccc5b39"
   },
   "outputs": [],
   "source": [
    "plt.hist(np.random.randn(1000), 30)"
   ]
  },
  {
   "cell_type": "markdown",
   "metadata": {
    "colab_type": "text",
    "id": "oueB_Doc2arr"
   },
   "source": [
    "## Subplots"
   ]
  },
  {
   "cell_type": "code",
   "execution_count": null,
   "metadata": {
    "colab": {
     "autoexec": {
      "startup": false,
      "wait_interval": 0.0
     },
     "base_uri": "https://localhost:8080/",
     "height": 294.0,
     "output_extras": [
      {
       "item_id": 1.0
      }
     ]
    },
    "colab_type": "code",
    "collapsed": false,
    "executionInfo": {
     "elapsed": 926.0,
     "status": "ok",
     "timestamp": 1.522077374774E12,
     "user": {
      "displayName": "Nadav Bhonker",
      "photoUrl": "https://lh3.googleusercontent.com/a/default-user=s128",
      "userId": "116259624374379926188"
     },
     "user_tz": -180.0
    },
    "id": "jxgyMGGt2art",
    "outputId": "85796699-1797-4e79-d331-da3fdd20546b"
   },
   "outputs": [],
   "source": [
    "import numpy as np\n",
    "import matplotlib.pyplot as plt\n",
    "\n",
    "\n",
    "x1 = np.linspace(0.0, 5.0)\n",
    "x2 = np.linspace(0.0, 2.0)\n",
    "\n",
    "y1 = np.cos(2 * np.pi * x1) * np.exp(-x1)\n",
    "y2 = np.cos(2 * np.pi * x2)\n",
    "\n",
    "plt.subplot(2, 1, 1)\n",
    "plt.plot(x1, y1, 'ko-')\n",
    "plt.title('A tale of 2 subplots')\n",
    "plt.ylabel('Damped oscillation')\n",
    "\n",
    "plt.subplot(2, 1, 2)\n",
    "plt.plot(x2, y2, 'r.-')\n",
    "plt.xlabel('time (s)')\n",
    "plt.ylabel('Undamped')\n",
    "\n",
    "plt.show()"
   ]
  },
  {
   "cell_type": "markdown",
   "metadata": {
    "colab_type": "text",
    "id": "CN7l8vjX2aru"
   },
   "source": [
    "## 3d plot"
   ]
  },
  {
   "cell_type": "code",
   "execution_count": null,
   "metadata": {
    "colab": {
     "autoexec": {
      "startup": false,
      "wait_interval": 0.0
     },
     "base_uri": "https://localhost:8080/",
     "height": 319.0,
     "output_extras": [
      {
       "item_id": 1.0
      }
     ]
    },
    "colab_type": "code",
    "collapsed": false,
    "executionInfo": {
     "elapsed": 1147.0,
     "status": "ok",
     "timestamp": 1.522077378679E12,
     "user": {
      "displayName": "Nadav Bhonker",
      "photoUrl": "https://lh3.googleusercontent.com/a/default-user=s128",
      "userId": "116259624374379926188"
     },
     "user_tz": -180.0
    },
    "id": "LG1zRhhI2arw",
    "outputId": "943557cf-c61f-44e3-e7e7-ed9efe645a3a"
   },
   "outputs": [],
   "source": [
    "from numpy import *\n",
    "import pylab as p\n",
    "import mpl_toolkits.mplot3d.axes3d as p3\n",
    "\n",
    "# u and v are parametric variables.\n",
    "# u is an array from 0 to 2*pi, with 100 elements\n",
    "u=r_[0:2*pi:100j]\n",
    "# v is an array from 0 to 2*pi, with 100 elements\n",
    "v=r_[0:pi:100j]\n",
    "# x, y, and z are the coordinates of the points for plotting\n",
    "# each is arranged in a 100x100 array\n",
    "x=10*outer(cos(u),sin(v))\n",
    "y=10*outer(sin(u),sin(v))\n",
    "z=10*outer(ones(size(u)),cos(v))\n",
    "\n",
    "fig=p.figure()\n",
    "ax = p3.Axes3D(fig)\n",
    "ax.plot_wireframe(x,y,z)\n",
    "ax.set_xlabel('X')\n",
    "ax.set_ylabel('Y')\n",
    "ax.set_zlabel('Z')\n",
    "p.show()"
   ]
  },
  {
   "cell_type": "markdown",
   "metadata": {
    "colab_type": "text",
    "id": "FmYQTU1i2ary"
   },
   "source": [
    "### Bokeh example"
   ]
  },
  {
   "cell_type": "code",
   "execution_count": null,
   "metadata": {
    "colab": {
     "autoexec": {
      "startup": false,
      "wait_interval": 0.0
     },
     "base_uri": "https://localhost:8080/",
     "height": 282.0,
     "output_extras": [
      {
       "item_id": 1.0
      },
      {
       "item_id": 2.0
      }
     ]
    },
    "colab_type": "code",
    "collapsed": false,
    "executionInfo": {
     "elapsed": 766.0,
     "status": "ok",
     "timestamp": 1.522077381635E12,
     "user": {
      "displayName": "Nadav Bhonker",
      "photoUrl": "https://lh3.googleusercontent.com/a/default-user=s128",
      "userId": "116259624374379926188"
     },
     "user_tz": -180.0
    },
    "id": "lAy2NFLq2arz",
    "outputId": "fe82edcf-269f-4a6c-b1b7-e92b23f6948e"
   },
   "outputs": [],
   "source": [
    "train.Fare.hist()"
   ]
  },
  {
   "cell_type": "markdown",
   "metadata": {
    "colab_type": "text",
    "id": "Pz0LPG6j2ar4"
   },
   "source": [
    "# What is Scikit Learn?\n",
    "\n",
    "Scikit-learn is an open source machine learning library for Python.  \n",
    " - **Simple and efficient** tools for data mining and data analysis\n",
    " - Good coverage of machine learning algorithms, processes, tools and techniques\n",
    "   - Classification, Regression, Clustering, Dimensionality Reduction, Model selection, Preprocessing\n",
    " - **High standards** \n",
    " - Well-suited for applications:\n",
    "   - Used for **large datasets**\n",
    "   - **Building blocks** for application-specific algorithms\n",
    " - Built on **NumPy, SciPy**\n",
    " - **Open source**, Commercially usable - BSD license, Community driven\n",
    "\n",
    "Data Representation in Scikit-learn:\n",
    " - Most algorithms expect a two-dimensional array, of shape (n_samples,n_features).\n",
    " - The arrays can be either NumPy arrays, or in some cases scipy.sparse matrices.\n",
    "   - The number of features must be fixed in advance."
   ]
  },
  {
   "cell_type": "markdown",
   "metadata": {
    "colab_type": "text",
    "id": "Y3o2Cgky2ar4"
   },
   "source": [
    "Design principles\n",
    " - Minimize number of object interfaces\n",
    " - Build abstractions for recurrent use cases\n",
    " - Simplicity, Simplicity, Simplicity\n",
    " \n",
    "Code samples:\n",
    "> \n",
    "``from sklearn import svm\n",
    "clf = svm.SVC()\n",
    "clf.fit(X_train, y_train)\n",
    "y_pred = clf.predict(X_test)``\n",
    "\n",
    "Classification:\n",
    ">``y_pred = model.predict(X_test)``\n",
    "\n",
    "Filters, dimension reduction, latent variables:\n",
    ">``X_new = model.transform(X_test)``\n",
    "\n",
    "Incremental learning:\n",
    ">``model.partial_fir(X_train, y_train)``\n",
    "\n",
    "---\n",
    "\n",
    "The [scikit-learn website](http://scikit-learn.org/stable/) has great tutorials for using their library  \n",
    "---\n",
    "The [preprocessing](http://scikit-learn.org/stable/modules/preprocessing.html#preprocessing) page has information that is very relevant for the second exercise.\n",
    "\n",
    "A more interfactive tutorial introducing scikit-learn can be found [here](https://www.datacamp.com/community/tutorials/machine-learning-python#gs.Ae7Ua_Y)."
   ]
  },
  {
   "cell_type": "markdown",
   "metadata": {
    "colab_type": "text",
    "id": "WEY5yckc2ar4"
   },
   "source": [
    "## Now, back to the Titanic...\n",
    "### Prepare the data for ML\n",
    "Reminder:"
   ]
  },
  {
   "cell_type": "code",
   "execution_count": null,
   "metadata": {
    "colab": {
     "autoexec": {
      "startup": false,
      "wait_interval": 0.0
     },
     "base_uri": "https://localhost:8080/",
     "height": 204.0,
     "output_extras": [
      {
       "item_id": 1.0
      }
     ]
    },
    "colab_type": "code",
    "collapsed": false,
    "executionInfo": {
     "elapsed": 2963.0,
     "status": "ok",
     "timestamp": 1.522077455286E12,
     "user": {
      "displayName": "Nadav Bhonker",
      "photoUrl": "https://lh3.googleusercontent.com/a/default-user=s128",
      "userId": "116259624374379926188"
     },
     "user_tz": -180.0
    },
    "id": "nrIs6yG12ar4",
    "outputId": "914ba8d2-80b8-450d-cc73-2efd93f82d04"
   },
   "outputs": [],
   "source": [
    "train = pd.read_csv(train_url, header=0)\n",
    "test = pd.read_csv(test_url, header=0)\n",
    "train.head()"
   ]
  },
  {
   "cell_type": "markdown",
   "metadata": {
    "colab_type": "text",
    "id": "lTXxVHd72ar6"
   },
   "source": [
    "#### \"Sex\" to int (binary)\n",
    "> Transform to **Int** and store in a new 'Gender' columns"
   ]
  },
  {
   "cell_type": "code",
   "execution_count": null,
   "metadata": {
    "colab": {
     "autoexec": {
      "startup": false,
      "wait_interval": 0.0
     }
    },
    "colab_type": "code",
    "collapsed": true,
    "id": "8PdR44Qe2ar6"
   },
   "outputs": [],
   "source": [
    "#Adding in new 'Gender' column to the dataframe\n",
    "train['Gender'] = train['Sex'].map( {'female':0, 'male':1}).astype(int)\n",
    "test['Gender'] = test['Sex'].map( {'female':0, 'male':1}).astype(int)"
   ]
  },
  {
   "cell_type": "markdown",
   "metadata": {
    "colab_type": "text",
    "id": "_m_yo7972ar7"
   },
   "source": [
    "#### \"Embarked\" is multicategorical - Transform in two steps:\n",
    "1. Transform to **categorical** and store in new 'Embarkport' columns\n",
    "2. Transfom to **Int** and store in new 'EmbarkportInt' columns"
   ]
  },
  {
   "cell_type": "code",
   "execution_count": null,
   "metadata": {
    "colab": {
     "autoexec": {
      "startup": false,
      "wait_interval": 0.0
     },
     "base_uri": "https://localhost:8080/",
     "height": 204.0,
     "output_extras": [
      {
       "item_id": 1.0
      }
     ]
    },
    "colab_type": "code",
    "collapsed": false,
    "executionInfo": {
     "elapsed": 589.0,
     "status": "ok",
     "timestamp": 1.522077461897E12,
     "user": {
      "displayName": "Nadav Bhonker",
      "photoUrl": "https://lh3.googleusercontent.com/a/default-user=s128",
      "userId": "116259624374379926188"
     },
     "user_tz": -180.0
    },
    "id": "ffmkH5V82ar7",
    "outputId": "2908d4fd-11f5-4874-b6b1-1c450d743c8e"
   },
   "outputs": [],
   "source": [
    "train['Embarkport'] = train['Embarked'].astype(\"category\")\n",
    "train.head()"
   ]
  },
  {
   "cell_type": "code",
   "execution_count": null,
   "metadata": {
    "colab": {
     "autoexec": {
      "startup": false,
      "wait_interval": 0.0
     },
     "base_uri": "https://localhost:8080/",
     "height": 204.0,
     "output_extras": [
      {
       "item_id": 1.0
      }
     ]
    },
    "colab_type": "code",
    "collapsed": false,
    "executionInfo": {
     "elapsed": 594.0,
     "status": "ok",
     "timestamp": 1.522077464333E12,
     "user": {
      "displayName": "Nadav Bhonker",
      "photoUrl": "https://lh3.googleusercontent.com/a/default-user=s128",
      "userId": "116259624374379926188"
     },
     "user_tz": -180.0
    },
    "id": "Vpm0zaDO2ar9",
    "outputId": "852f532c-600d-4fc9-f616-0b2c2c27195f"
   },
   "outputs": [],
   "source": [
    "train['EmbarkportInt'] = train['Embarkport'].cat.rename_categories(range(train['Embarkport'].nunique())).astype(int)\n",
    "train.head()"
   ]
  },
  {
   "cell_type": "code",
   "execution_count": null,
   "metadata": {
    "colab": {
     "autoexec": {
      "startup": false,
      "wait_interval": 0.0
     }
    },
    "colab_type": "code",
    "collapsed": true,
    "id": "N5zmb7lY2asA"
   },
   "outputs": [],
   "source": [
    "test['Embarkport'] = test['Embarked'].astype(\"category\")\n",
    "test['EmbarkportInt'] = test['Embarkport'].cat.rename_categories(range(test['Embarkport'].nunique())).astype(int)"
   ]
  },
  {
   "cell_type": "markdown",
   "metadata": {
    "colab_type": "text",
    "id": "FkgdyVpa2asA"
   },
   "source": [
    "An alternative is to convert the categorical data to one-hot representation:"
   ]
  },
  {
   "cell_type": "code",
   "execution_count": null,
   "metadata": {
    "colab": {
     "autoexec": {
      "startup": false,
      "wait_interval": 0.0
     },
     "base_uri": "https://localhost:8080/",
     "height": 204.0,
     "output_extras": [
      {
       "item_id": 1.0
      }
     ]
    },
    "colab_type": "code",
    "collapsed": false,
    "executionInfo": {
     "elapsed": 584.0,
     "status": "ok",
     "timestamp": 1.522077469602E12,
     "user": {
      "displayName": "Nadav Bhonker",
      "photoUrl": "https://lh3.googleusercontent.com/a/default-user=s128",
      "userId": "116259624374379926188"
     },
     "user_tz": -180.0
    },
    "id": "yfgXX8su2asB",
    "outputId": "f922f4fa-a0dd-4be5-9a40-0befc7bd4697"
   },
   "outputs": [],
   "source": [
    "embarked_dummies = pd.get_dummies(train['Embarkport'])\n",
    "train_with_dummies = pd.concat([train, embarked_dummies], axis=1)\n",
    "train_with_dummies.head()"
   ]
  },
  {
   "cell_type": "code",
   "execution_count": null,
   "metadata": {
    "colab": {
     "autoexec": {
      "startup": false,
      "wait_interval": 0.0
     }
    },
    "colab_type": "code",
    "collapsed": true,
    "id": "JqcHjqPA2asC"
   },
   "outputs": [],
   "source": [
    "#Cleaning - drop the newly created columns\n",
    "train = train.drop(['Embarkport','EmbarkportInt'], axis=1) \n",
    "test = test.drop(['Embarkport','EmbarkportInt'], axis=1) "
   ]
  },
  {
   "cell_type": "markdown",
   "metadata": {
    "colab_type": "text",
    "id": "J65aK_eS2asE"
   },
   "source": [
    "## convert non-numeric data\n",
    "Identify which of the orginal features are objects"
   ]
  },
  {
   "cell_type": "code",
   "execution_count": null,
   "metadata": {
    "colab": {
     "autoexec": {
      "startup": false,
      "wait_interval": 0.0
     }
    },
    "colab_type": "code",
    "collapsed": true,
    "id": "BNR8S4Su2asE"
   },
   "outputs": [],
   "source": [
    "ObjFeat=train.keys()[train.dtypes.map(lambda x: x=='object')]"
   ]
  },
  {
   "cell_type": "code",
   "execution_count": null,
   "metadata": {
    "colab": {
     "autoexec": {
      "startup": false,
      "wait_interval": 0.0
     },
     "base_uri": "https://localhost:8080/",
     "height": 170.0,
     "output_extras": [
      {
       "item_id": 1.0
      }
     ]
    },
    "colab_type": "code",
    "collapsed": false,
    "executionInfo": {
     "elapsed": 658.0,
     "status": "ok",
     "timestamp": 1.522077487616E12,
     "user": {
      "displayName": "Nadav Bhonker",
      "photoUrl": "https://lh3.googleusercontent.com/a/default-user=s128",
      "userId": "116259624374379926188"
     },
     "user_tz": -180.0
    },
    "id": "ezSquGZl2asG",
    "outputId": "64394297-97b1-4648-a6e5-e0e52b3c6d93"
   },
   "outputs": [],
   "source": [
    "# Transform the original features to categorical\n",
    "# Creat new 'int' features, resp.\n",
    "for f in ObjFeat:\n",
    "    train[f] = train[f].astype(\"category\")\n",
    "    train[f+\"Int\"] = train[f].cat.rename_categories(range(train[f].nunique())).astype(int)\n",
    "    train.loc[train[f].isnull(), f+\"Int\"] = np.nan #fix NaN conversion\n",
    "\n",
    "    # Let's creat a crosstabcross-tabulation to look at this transformation\n",
    "    # pd.crosstab(train[f+\"Int\"], train[f], rownames=[f+\"Int\"], colnames=[f])\n",
    "        \n",
    "    test[f] = test[f].astype(\"category\")        \n",
    "    if test[f].cat.categories.isin(train[f].cat.categories).all():\n",
    "        test[f] = test[f].cat.rename_categories(train[f].cat.categories)\n",
    "    else:    \n",
    "        print(\"\\n\\nTrain and Test don't share the same set of categories in feature '\", f, \"'\")\n",
    "    test[f+\"Int\"] = test[f].cat.rename_categories(range(test[f].nunique())).astype(int)\n",
    "    test.loc[test[f].isnull(), f+\"Int\"] = np.nan #fix NaN conversion"
   ]
  },
  {
   "cell_type": "markdown",
   "metadata": {
    "colab_type": "text",
    "id": "sY5-mGk02asH"
   },
   "source": [
    "## Missing Values\n",
    "Age has missing values.  \n",
    "Create new 'AgeFill' column, where missing value is filled with the median of the gender and Pclass"
   ]
  },
  {
   "cell_type": "code",
   "execution_count": null,
   "metadata": {
    "colab": {
     "autoexec": {
      "startup": false,
      "wait_interval": 0.0
     },
     "base_uri": "https://localhost:8080/",
     "height": 51.0,
     "output_extras": [
      {
       "item_id": 1.0
      }
     ]
    },
    "colab_type": "code",
    "collapsed": false,
    "executionInfo": {
     "elapsed": 608.0,
     "status": "ok",
     "timestamp": 1.522077491802E12,
     "user": {
      "displayName": "Nadav Bhonker",
      "photoUrl": "https://lh3.googleusercontent.com/a/default-user=s128",
      "userId": "116259624374379926188"
     },
     "user_tz": -180.0
    },
    "id": "BkRzBmDF2asI",
    "outputId": "8a08dad7-b876-40ee-b991-fefcaf77ae7d"
   },
   "outputs": [],
   "source": [
    "median_ages = np.zeros((2,3))\n",
    "for i in range(0, 2):\n",
    "    for j in range(0, 3):\n",
    "        median_ages[i,j] = train[(train['Gender'] == i) & \n",
    "                              (train['Pclass'] == j+1)]['Age'].dropna().median() \n",
    "\n",
    "median_ages"
   ]
  },
  {
   "cell_type": "code",
   "execution_count": null,
   "metadata": {
    "colab": {
     "autoexec": {
      "startup": false,
      "wait_interval": 0.0
     },
     "base_uri": "https://localhost:8080/",
     "height": 359.0,
     "output_extras": [
      {
       "item_id": 1.0
      }
     ]
    },
    "colab_type": "code",
    "collapsed": false,
    "executionInfo": {
     "elapsed": 572.0,
     "status": "ok",
     "timestamp": 1.522077493501E12,
     "user": {
      "displayName": "Nadav Bhonker",
      "photoUrl": "https://lh3.googleusercontent.com/a/default-user=s128",
      "userId": "116259624374379926188"
     },
     "user_tz": -180.0
    },
    "id": "1x3glofV2asL",
    "outputId": "392f12f6-76ed-46c2-cf38-b692a2c1e168"
   },
   "outputs": [],
   "source": [
    "train['AgeFill'] = train['Age']\n",
    "test['AgeFill'] = test['Age']\n",
    "\n",
    "# Fill the missing values with medians\n",
    "for i in range(0, 2):\n",
    "    for j in range(0, 3):\n",
    "        train.loc[ (train.Age.isnull()) & (train.Gender == i) & (train.Pclass == j+1),\\\n",
    "                'AgeFill'] = median_ages[i,j]\n",
    "        test.loc[ (test.Age.isnull()) & (test.Gender == i) & (test.Pclass == j+1),\\\n",
    "                 'AgeFill'] = median_ages[i,j]\n",
    "\n",
    "train[ train['Age'].isnull() ][['Gender','Pclass','Age','AgeFill']].head(10)"
   ]
  },
  {
   "cell_type": "code",
   "execution_count": null,
   "metadata": {
    "colab": {
     "autoexec": {
      "startup": false,
      "wait_interval": 0.0
     },
     "base_uri": "https://localhost:8080/",
     "height": 359.0,
     "output_extras": [
      {
       "item_id": 1.0
      }
     ]
    },
    "colab_type": "code",
    "collapsed": false,
    "executionInfo": {
     "elapsed": 731.0,
     "status": "ok",
     "timestamp": 1.522077496572E12,
     "user": {
      "displayName": "Nadav Bhonker",
      "photoUrl": "https://lh3.googleusercontent.com/a/default-user=s128",
      "userId": "116259624374379926188"
     },
     "user_tz": -180.0
    },
    "id": "cEBWVqpy2asM",
    "outputId": "6911f690-5848-4b52-efa3-ec7f5f58c47c"
   },
   "outputs": [],
   "source": [
    "# Create a feature that records whether the Age was originally missing\n",
    "train['AgeIsNull'] = pd.isnull(train.Age).astype(int)\n",
    "test['AgeIsNull'] = pd.isnull(test.Age).astype(int)\n",
    "\n",
    "train[['Gender','Pclass','Age','AgeFill','AgeIsNull']].head(10)"
   ]
  },
  {
   "cell_type": "markdown",
   "metadata": {
    "colab_type": "text",
    "id": "bHrIBAB52asN"
   },
   "source": [
    "## Scaling"
   ]
  },
  {
   "cell_type": "code",
   "execution_count": null,
   "metadata": {
    "colab": {
     "autoexec": {
      "startup": false,
      "wait_interval": 0.0
     },
     "base_uri": "https://localhost:8080/",
     "height": 204.0,
     "output_extras": [
      {
       "item_id": 1.0
      }
     ]
    },
    "colab_type": "code",
    "collapsed": false,
    "executionInfo": {
     "elapsed": 577.0,
     "status": "ok",
     "timestamp": 1.52207750099E12,
     "user": {
      "displayName": "Nadav Bhonker",
      "photoUrl": "https://lh3.googleusercontent.com/a/default-user=s128",
      "userId": "116259624374379926188"
     },
     "user_tz": -180.0
    },
    "id": "qQMuSOi32asN",
    "outputId": "e50c7dce-a913-4bad-ab8e-48bec2f4d7fe"
   },
   "outputs": [],
   "source": [
    "from sklearn import preprocessing\n",
    "min_max_scaler = preprocessing.MinMaxScaler()\n",
    "train['AgeFill0-1'] = min_max_scaler.fit_transform(train['AgeFill'].values.reshape(-1, 1))\n",
    "test['AgeFill0-1'] = min_max_scaler.fit_transform(test['AgeFill'].values.reshape(-1, 1))\n",
    "train[['Gender','Pclass','Age','AgeFill','AgeFill0-1','AgeIsNull']].head()"
   ]
  },
  {
   "cell_type": "code",
   "execution_count": null,
   "metadata": {
    "colab": {
     "autoexec": {
      "startup": false,
      "wait_interval": 0.0
     }
    },
    "colab_type": "code",
    "collapsed": true,
    "id": "6Fz6bwDY2asQ"
   },
   "outputs": [],
   "source": [
    "train.drop('AgeFill', axis=1);"
   ]
  },
  {
   "cell_type": "markdown",
   "metadata": {
    "colab_type": "text",
    "id": "T-kz-F7I2asR"
   },
   "source": [
    "## Feature Construction\n",
    "Parch is the number of parents or children onboard, \n",
    "and SibSp is the number of siblings or spouses. \n",
    "> We can aggregate them together to form a new 'FamilySize' "
   ]
  },
  {
   "cell_type": "code",
   "execution_count": null,
   "metadata": {
    "colab": {
     "autoexec": {
      "startup": false,
      "wait_interval": 0.0
     }
    },
    "colab_type": "code",
    "collapsed": true,
    "id": "0eSJgLJP2asR"
   },
   "outputs": [],
   "source": [
    "train['FamilySize'] = train.SibSp + train.Parch\n",
    "test['FamilySize'] = test.SibSp + test.Parch"
   ]
  },
  {
   "cell_type": "markdown",
   "metadata": {
    "colab_type": "text",
    "id": "c9wOhqp12asS"
   },
   "source": [
    "Pclass had a large effect on survival, and it's possible Age will too.\n",
    ">A Constructed feature is the Age and Pclass multiplication, thus amplifying \n",
    "old age and 3rd class - both were less likely to survive"
   ]
  },
  {
   "cell_type": "code",
   "execution_count": null,
   "metadata": {
    "colab": {
     "autoexec": {
      "startup": false,
      "wait_interval": 0.0
     },
     "base_uri": "https://localhost:8080/",
     "height": 282.0,
     "output_extras": [
      {
       "item_id": 1.0
      },
      {
       "item_id": 2.0
      }
     ]
    },
    "colab_type": "code",
    "collapsed": false,
    "executionInfo": {
     "elapsed": 619.0,
     "status": "ok",
     "timestamp": 1.52207750785E12,
     "user": {
      "displayName": "Nadav Bhonker",
      "photoUrl": "https://lh3.googleusercontent.com/a/default-user=s128",
      "userId": "116259624374379926188"
     },
     "user_tz": -180.0
    },
    "id": "PR1XV7aY2asS",
    "outputId": "b2791645-ae01-45db-d752-5b469cad453a"
   },
   "outputs": [],
   "source": [
    "train['Age*Class'] = train.AgeFill * train.Pclass\n",
    "test['Age*Class'] = test.AgeFill * test.Pclass\n",
    "\n",
    "train['Age*Class'].hist()"
   ]
  },
  {
   "cell_type": "markdown",
   "metadata": {
    "colab_type": "text",
    "id": "_BTY6tfG2asV"
   },
   "source": [
    "## Final Preperations"
   ]
  },
  {
   "cell_type": "code",
   "execution_count": null,
   "metadata": {
    "colab": {
     "autoexec": {
      "startup": false,
      "wait_interval": 0.0
     },
     "base_uri": "https://localhost:8080/",
     "height": 119.0,
     "output_extras": [
      {
       "item_id": 1.0
      }
     ]
    },
    "colab_type": "code",
    "collapsed": false,
    "executionInfo": {
     "elapsed": 669.0,
     "status": "ok",
     "timestamp": 1.522077513377E12,
     "user": {
      "displayName": "Nadav Bhonker",
      "photoUrl": "https://lh3.googleusercontent.com/a/default-user=s128",
      "userId": "116259624374379926188"
     },
     "user_tz": -180.0
    },
    "id": "zEMCpwXg2asW",
    "outputId": "feb38f7b-d354-4720-d59f-c0b08293cae4"
   },
   "outputs": [],
   "source": [
    "# categorical columns\n",
    "train.dtypes[ObjFeat]\n",
    "test.dtypes[ObjFeat]"
   ]
  },
  {
   "cell_type": "markdown",
   "metadata": {
    "colab_type": "text",
    "id": "ywxwd6GK2asY"
   },
   "source": [
    "#### Drop the columns that will not be used in training"
   ]
  },
  {
   "cell_type": "code",
   "execution_count": null,
   "metadata": {
    "colab": {
     "autoexec": {
      "startup": false,
      "wait_interval": 0.0
     },
     "base_uri": "https://localhost:8080/",
     "height": 340.0,
     "output_extras": [
      {
       "item_id": 1.0
      }
     ]
    },
    "colab_type": "code",
    "collapsed": false,
    "executionInfo": {
     "elapsed": 845.0,
     "status": "ok",
     "timestamp": 1.522077516526E12,
     "user": {
      "displayName": "Nadav Bhonker",
      "photoUrl": "https://lh3.googleusercontent.com/a/default-user=s128",
      "userId": "116259624374379926188"
     },
     "user_tz": -180.0
    },
    "id": "DQGIdq9l2asZ",
    "outputId": "47582e9f-bbd2-4f57-ce84-79db58695ef9"
   },
   "outputs": [],
   "source": [
    "train = train.drop(ObjFeat, axis=1) \n",
    "test = test.drop(ObjFeat, axis=1) \n",
    "\n",
    "train.dtypes"
   ]
  },
  {
   "cell_type": "markdown",
   "metadata": {
    "colab_type": "text",
    "id": "oI5H7viS2asb"
   },
   "source": [
    "#### Create training and testing sets that have no null (by dropping rows ) "
   ]
  },
  {
   "cell_type": "code",
   "execution_count": null,
   "metadata": {
    "colab": {
     "autoexec": {
      "startup": false,
      "wait_interval": 0.0
     },
     "base_uri": "https://localhost:8080/",
     "height": 408.0,
     "output_extras": [
      {
       "item_id": 1.0
      }
     ]
    },
    "colab_type": "code",
    "collapsed": false,
    "executionInfo": {
     "elapsed": 568.0,
     "status": "ok",
     "timestamp": 1.522077519075E12,
     "user": {
      "displayName": "Nadav Bhonker",
      "photoUrl": "https://lh3.googleusercontent.com/a/default-user=s128",
      "userId": "116259624374379926188"
     },
     "user_tz": -180.0
    },
    "id": "Hx_8cJPv2asb",
    "outputId": "4ba9850e-1d2f-43dc-d801-6a16c14dbcb9"
   },
   "outputs": [],
   "source": [
    "train_noNaN = train.dropna()\n",
    "test_noNaN = test.dropna()\n",
    "\n",
    "train_noNaN.info()"
   ]
  },
  {
   "cell_type": "code",
   "execution_count": null,
   "metadata": {
    "colab": {
     "autoexec": {
      "startup": false,
      "wait_interval": 0.0
     },
     "base_uri": "https://localhost:8080/",
     "height": 391.0,
     "output_extras": [
      {
       "item_id": 1.0
      }
     ]
    },
    "colab_type": "code",
    "collapsed": false,
    "executionInfo": {
     "elapsed": 587.0,
     "status": "ok",
     "timestamp": 1.522077521692E12,
     "user": {
      "displayName": "Nadav Bhonker",
      "photoUrl": "https://lh3.googleusercontent.com/a/default-user=s128",
      "userId": "116259624374379926188"
     },
     "user_tz": -180.0
    },
    "id": "3CjHi6Cx2asc",
    "outputId": "2a044f18-0d71-4ae9-a825-e8f3360deee8"
   },
   "outputs": [],
   "source": [
    "test_noNaN.info()"
   ]
  },
  {
   "cell_type": "markdown",
   "metadata": {
    "colab_type": "text",
    "id": "rRXKUKDn2asd"
   },
   "source": [
    "#### Convert to Numpy array"
   ]
  },
  {
   "cell_type": "code",
   "execution_count": null,
   "metadata": {
    "colab": {
     "autoexec": {
      "startup": false,
      "wait_interval": 0.0
     }
    },
    "colab_type": "code",
    "collapsed": true,
    "id": "HcbiwpNA2asd"
   },
   "outputs": [],
   "source": [
    "train_data_X = train.drop(['Survived'], axis=1).values\n",
    "train_data_Y = train.Survived.values\n",
    "test_data = test.values\n",
    "\n",
    "train_data_X_noNaN = train_noNaN.drop(['Survived'], axis=1).values\n",
    "train_data_Y_noNaN = train_noNaN.Survived.values\n",
    "test_data_noNaN = test_noNaN.values"
   ]
  },
  {
   "cell_type": "markdown",
   "metadata": {
    "colab_type": "text",
    "id": "xm9qfDG12ase"
   },
   "source": [
    "## Feature selection example"
   ]
  },
  {
   "cell_type": "code",
   "execution_count": null,
   "metadata": {
    "colab": {
     "autoexec": {
      "startup": false,
      "wait_interval": 0.0
     }
    },
    "colab_type": "code",
    "collapsed": true,
    "id": "VPczYrqL2ase"
   },
   "outputs": [],
   "source": [
    "from sklearn.feature_selection import SelectKBest\n",
    "from sklearn.feature_selection import mutual_info_classif\n",
    "\n",
    "univariate_filter = SelectKBest(mutual_info_classif, k=4).fit(train_data_X_noNaN, train_data_Y_noNaN)\n",
    "\n",
    "univariate_filter.transform(train_data_X_noNaN)\n",
    "univariate_filter.transform(test_data_noNaN);"
   ]
  },
  {
   "cell_type": "markdown",
   "metadata": {
    "colab_type": "text",
    "id": "9uYfyjw_2asf"
   },
   "source": [
    "## Training Random Forest Classifier"
   ]
  },
  {
   "cell_type": "code",
   "execution_count": null,
   "metadata": {
    "colab": {
     "autoexec": {
      "startup": false,
      "wait_interval": 0.0
     },
     "base_uri": "https://localhost:8080/",
     "height": 85.0,
     "output_extras": [
      {
       "item_id": 1.0
      }
     ]
    },
    "colab_type": "code",
    "collapsed": false,
    "executionInfo": {
     "elapsed": 623.0,
     "status": "ok",
     "timestamp": 1.52207805443E12,
     "user": {
      "displayName": "Nadav Bhonker",
      "photoUrl": "https://lh3.googleusercontent.com/a/default-user=s128",
      "userId": "116259624374379926188"
     },
     "user_tz": -180.0
    },
    "id": "GqAFmRWn2asf",
    "outputId": "0a28f8f9-9c01-40b4-917e-f952da3271d5"
   },
   "outputs": [],
   "source": [
    "# Import the random forest package\n",
    "from sklearn.ensemble import RandomForestClassifier\n",
    "from sklearn.model_selection import train_test_split\n",
    "from sklearn import metrics\n",
    "\n",
    "# Prepare train and test data using cross validation\n",
    "X_train_noNaN, X_test_noNaN, y_train_noNaN, y_test_noNaN = train_test_split(train_data_X_noNaN,\n",
    "                                                                            train_data_Y_noNaN)\n",
    "\n",
    "# Create the random forest object which will include all the parameters\n",
    "# for the fit\n",
    "forest = RandomForestClassifier(n_estimators=3)\n",
    "\n",
    "# Fit the training data to the Survived labels and create the decision trees\n",
    "forest = forest.fit(X_train_noNaN, y_train_noNaN)\n",
    "\n",
    "# output = forest.predict(test_data_noNaN)\n",
    "y_pred_noNaN = forest.predict(X_test_noNaN)\n",
    "\n",
    "print('accuracy:', metrics.accuracy_score(y_test_noNaN, y_pred_noNaN))\n",
    "print('precision:', metrics.precision_score(y_test_noNaN, y_pred_noNaN))\n",
    "print('recall:', metrics.recall_score(y_test_noNaN, y_pred_noNaN))\n",
    "print('f1 score:', metrics.f1_score(y_test_noNaN, y_pred_noNaN))\n"
   ]
  },
  {
   "cell_type": "markdown",
   "metadata": {
    "colab_type": "text",
    "id": "3CLqSnOl6EA3"
   },
   "source": [
    "## TODO: Implement the following"
   ]
  },
  {
   "cell_type": "markdown",
   "metadata": {
    "colab_type": "text",
    "id": "lkIZjDwO2ash"
   },
   "source": [
    "## SVM"
   ]
  },
  {
   "cell_type": "code",
   "execution_count": null,
   "metadata": {
    "colab": {
     "autoexec": {
      "startup": false,
      "wait_interval": 0.0
     },
     "base_uri": "https://localhost:8080/",
     "height": 85.0,
     "output_extras": [
      {
       "item_id": 1.0
      }
     ]
    },
    "colab_type": "code",
    "collapsed": false,
    "executionInfo": {
     "elapsed": 592.0,
     "status": "ok",
     "timestamp": 1.522078057086E12,
     "user": {
      "displayName": "Nadav Bhonker",
      "photoUrl": "https://lh3.googleusercontent.com/a/default-user=s128",
      "userId": "116259624374379926188"
     },
     "user_tz": -180.0
    },
    "id": "JEBWXOx52ash",
    "outputId": "41842089-2326-4398-c324-ad5d60112e30"
   },
   "outputs": [],
   "source": [
    "from sklearn.svm import SVC\n",
    "\n",
    "svm = SVC(gamma='auto')\n",
    "svm = svm.fit(X_train_noNaN, y_train_noNaN)\n",
    "y_pred_noNaN = svm.predict(X_test_noNaN)\n",
    "\n",
    "print('accuracy:', metrics.accuracy_score(y_test_noNaN, y_pred_noNaN))\n",
    "print('precision:', metrics.precision_score(y_test_noNaN, y_pred_noNaN))\n",
    "print('recall:', metrics.recall_score(y_test_noNaN, y_pred_noNaN))\n",
    "print('f1 score:', metrics.f1_score(y_test_noNaN, y_pred_noNaN))"
   ]
  },
  {
   "cell_type": "markdown",
   "metadata": {
    "colab_type": "text",
    "id": "_tBuSUPe2asj"
   },
   "source": [
    "### Create a K-Folds cross validation iterator"
   ]
  },
  {
   "cell_type": "code",
   "execution_count": null,
   "metadata": {
    "colab": {
     "autoexec": {
      "startup": false,
      "wait_interval": 0.0
     },
     "base_uri": "https://localhost:8080/",
     "height": 34.0,
     "output_extras": [
      {
       "item_id": 1.0
      }
     ]
    },
    "colab_type": "code",
    "collapsed": false,
    "executionInfo": {
     "elapsed": 591.0,
     "status": "ok",
     "timestamp": 1.522078059799E12,
     "user": {
      "displayName": "Nadav Bhonker",
      "photoUrl": "https://lh3.googleusercontent.com/a/default-user=s128",
      "userId": "116259624374379926188"
     },
     "user_tz": -180.0
    },
    "id": "qeP6BmjU2ask",
    "outputId": "3b49c68d-91a9-4c69-da40-b96f7fa50a5b"
   },
   "outputs": [],
   "source": [
    "from sklearn.model_selection import KFold\n",
    "\n",
    "kf = KFold(n_splits=5)\n",
    "\n",
    "print(kf)  "
   ]
  },
  {
   "cell_type": "markdown",
   "metadata": {
    "colab_type": "text",
    "id": "BRF22aTQ2ask"
   },
   "source": [
    "### Train/Test Random Forest and SVM using K-Fold cross validation"
   ]
  },
  {
   "cell_type": "code",
   "execution_count": null,
   "metadata": {
    "colab": {
     "autoexec": {
      "startup": false,
      "wait_interval": 0.0
     },
     "base_uri": "https://localhost:8080/",
     "height": 102.0,
     "output_extras": [
      {
       "item_id": 1.0
      }
     ]
    },
    "colab_type": "code",
    "collapsed": false,
    "executionInfo": {
     "elapsed": 532.0,
     "status": "ok",
     "timestamp": 1.522078061999E12,
     "user": {
      "displayName": "Nadav Bhonker",
      "photoUrl": "https://lh3.googleusercontent.com/a/default-user=s128",
      "userId": "116259624374379926188"
     },
     "user_tz": -180.0
    },
    "id": "SHoEPSL32asl",
    "outputId": "3d69e96e-0969-4c93-990c-415f0b30832e"
   },
   "outputs": [],
   "source": [
    "for k, (train_index, test_index) in enumerate(kf.split(train_data_X_noNaN)):\n",
    "    X_train_noNaN, X_test_noNaN = train_data_X_noNaN[train_index], train_data_X_noNaN[test_index]\n",
    "    y_train_noNaN, y_test_noNaN = train_data_Y_noNaN[train_index], train_data_Y_noNaN[test_index]\n",
    "\n",
    "    forest = RandomForestClassifier(n_estimators=3)\n",
    "    forest = forest.fit(X_train_noNaN, y_train_noNaN)\n",
    "    y_pred_noNaN_RF = forest.predict(X_test_noNaN)\n",
    "\n",
    "    svm = SVC(gamma='auto')\n",
    "    svm = svm.fit(X_train_noNaN, y_train_noNaN)\n",
    "    y_pred_noNaN_SVM = svm.predict(X_test_noNaN)\n",
    "\n",
    "    # results\n",
    "    print(\"[fold {0}] RF score: {1:.5}, SVM score: {2:.5}\".\n",
    "          format(k, metrics.accuracy_score(train_data_Y_noNaN[test_index], y_pred_noNaN_RF),\n",
    "                 metrics.accuracy_score(train_data_Y_noNaN[test_index], y_pred_noNaN_SVM)))\n"
   ]
  }
 ],
 "metadata": {
  "colab": {
   "default_view": {},
   "name": "Introduction to Pandas, Matplotlib and Scikit-learn.ipynb",
   "provenance": [],
   "toc_visible": true,
   "version": "0.3.2",
   "views": {}
  },
  "kernelspec": {
   "display_name": "Python 2",
   "language": "python",
   "name": "python2"
  },
  "language_info": {
   "codemirror_mode": {
    "name": "ipython",
    "version": 2
   },
   "file_extension": ".py",
   "mimetype": "text/x-python",
   "name": "python",
   "nbconvert_exporter": "python",
   "pygments_lexer": "ipython2",
   "version": "2.7.13"
  }
 },
 "nbformat": 4,
 "nbformat_minor": 0
}
